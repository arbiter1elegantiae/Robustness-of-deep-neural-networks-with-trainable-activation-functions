{
  "nbformat": 4,
  "nbformat_minor": 0,
  "metadata": {
    "colab": {
      "name": "kafresnet_robustness.ipynb",
      "provenance": [],
      "collapsed_sections": [],
      "authorship_tag": "ABX9TyMqDc6m1ae8/uxYQ3cPzGYb"
    },
    "kernelspec": {
      "name": "python3",
      "display_name": "Python 3"
    },
    "accelerator": "GPU"
  },
  "cells": [
    {
      "cell_type": "code",
      "metadata": {
        "id": "UqqzvLZFBjT7",
        "colab_type": "code",
        "colab": {
          "base_uri": "https://localhost:8080/",
          "height": 892
        },
        "outputId": "e648d792-57f5-41ac-a495-949638a42002"
      },
      "source": [
        "!pip install adversarial-robustness-toolbox"
      ],
      "execution_count": 1,
      "outputs": [
        {
          "output_type": "stream",
          "text": [
            "Collecting adversarial-robustness-toolbox\n",
            "\u001b[?25l  Downloading https://files.pythonhosted.org/packages/4c/56/e1b0a18713a8c35f302313b4b232b536a53662955a9498243bcfaa183754/adversarial_robustness_toolbox-1.3.2-py3-none-any.whl (653kB)\n",
            "\r\u001b[K     |▌                               | 10kB 20.3MB/s eta 0:00:01\r\u001b[K     |█                               | 20kB 3.1MB/s eta 0:00:01\r\u001b[K     |█▌                              | 30kB 3.5MB/s eta 0:00:01\r\u001b[K     |██                              | 40kB 3.9MB/s eta 0:00:01\r\u001b[K     |██▌                             | 51kB 3.6MB/s eta 0:00:01\r\u001b[K     |███                             | 61kB 3.8MB/s eta 0:00:01\r\u001b[K     |███▌                            | 71kB 4.3MB/s eta 0:00:01\r\u001b[K     |████                            | 81kB 4.5MB/s eta 0:00:01\r\u001b[K     |████▌                           | 92kB 4.6MB/s eta 0:00:01\r\u001b[K     |█████                           | 102kB 4.6MB/s eta 0:00:01\r\u001b[K     |█████▌                          | 112kB 4.6MB/s eta 0:00:01\r\u001b[K     |██████                          | 122kB 4.6MB/s eta 0:00:01\r\u001b[K     |██████▌                         | 133kB 4.6MB/s eta 0:00:01\r\u001b[K     |███████                         | 143kB 4.6MB/s eta 0:00:01\r\u001b[K     |███████▌                        | 153kB 4.6MB/s eta 0:00:01\r\u001b[K     |████████                        | 163kB 4.6MB/s eta 0:00:01\r\u001b[K     |████████▌                       | 174kB 4.6MB/s eta 0:00:01\r\u001b[K     |█████████                       | 184kB 4.6MB/s eta 0:00:01\r\u001b[K     |█████████▌                      | 194kB 4.6MB/s eta 0:00:01\r\u001b[K     |██████████                      | 204kB 4.6MB/s eta 0:00:01\r\u001b[K     |██████████▌                     | 215kB 4.6MB/s eta 0:00:01\r\u001b[K     |███████████                     | 225kB 4.6MB/s eta 0:00:01\r\u001b[K     |███████████▌                    | 235kB 4.6MB/s eta 0:00:01\r\u001b[K     |████████████                    | 245kB 4.6MB/s eta 0:00:01\r\u001b[K     |████████████▌                   | 256kB 4.6MB/s eta 0:00:01\r\u001b[K     |█████████████                   | 266kB 4.6MB/s eta 0:00:01\r\u001b[K     |█████████████▌                  | 276kB 4.6MB/s eta 0:00:01\r\u001b[K     |██████████████                  | 286kB 4.6MB/s eta 0:00:01\r\u001b[K     |██████████████▌                 | 296kB 4.6MB/s eta 0:00:01\r\u001b[K     |███████████████                 | 307kB 4.6MB/s eta 0:00:01\r\u001b[K     |███████████████▌                | 317kB 4.6MB/s eta 0:00:01\r\u001b[K     |████████████████                | 327kB 4.6MB/s eta 0:00:01\r\u001b[K     |████████████████▌               | 337kB 4.6MB/s eta 0:00:01\r\u001b[K     |█████████████████               | 348kB 4.6MB/s eta 0:00:01\r\u001b[K     |█████████████████▌              | 358kB 4.6MB/s eta 0:00:01\r\u001b[K     |██████████████████              | 368kB 4.6MB/s eta 0:00:01\r\u001b[K     |██████████████████▌             | 378kB 4.6MB/s eta 0:00:01\r\u001b[K     |███████████████████             | 389kB 4.6MB/s eta 0:00:01\r\u001b[K     |███████████████████▋            | 399kB 4.6MB/s eta 0:00:01\r\u001b[K     |████████████████████            | 409kB 4.6MB/s eta 0:00:01\r\u001b[K     |████████████████████▋           | 419kB 4.6MB/s eta 0:00:01\r\u001b[K     |█████████████████████           | 430kB 4.6MB/s eta 0:00:01\r\u001b[K     |█████████████████████▋          | 440kB 4.6MB/s eta 0:00:01\r\u001b[K     |██████████████████████          | 450kB 4.6MB/s eta 0:00:01\r\u001b[K     |██████████████████████▋         | 460kB 4.6MB/s eta 0:00:01\r\u001b[K     |███████████████████████         | 471kB 4.6MB/s eta 0:00:01\r\u001b[K     |███████████████████████▋        | 481kB 4.6MB/s eta 0:00:01\r\u001b[K     |████████████████████████        | 491kB 4.6MB/s eta 0:00:01\r\u001b[K     |████████████████████████▋       | 501kB 4.6MB/s eta 0:00:01\r\u001b[K     |█████████████████████████       | 512kB 4.6MB/s eta 0:00:01\r\u001b[K     |█████████████████████████▋      | 522kB 4.6MB/s eta 0:00:01\r\u001b[K     |██████████████████████████      | 532kB 4.6MB/s eta 0:00:01\r\u001b[K     |██████████████████████████▋     | 542kB 4.6MB/s eta 0:00:01\r\u001b[K     |███████████████████████████     | 552kB 4.6MB/s eta 0:00:01\r\u001b[K     |███████████████████████████▋    | 563kB 4.6MB/s eta 0:00:01\r\u001b[K     |████████████████████████████    | 573kB 4.6MB/s eta 0:00:01\r\u001b[K     |████████████████████████████▋   | 583kB 4.6MB/s eta 0:00:01\r\u001b[K     |█████████████████████████████   | 593kB 4.6MB/s eta 0:00:01\r\u001b[K     |█████████████████████████████▋  | 604kB 4.6MB/s eta 0:00:01\r\u001b[K     |██████████████████████████████  | 614kB 4.6MB/s eta 0:00:01\r\u001b[K     |██████████████████████████████▋ | 624kB 4.6MB/s eta 0:00:01\r\u001b[K     |███████████████████████████████ | 634kB 4.6MB/s eta 0:00:01\r\u001b[K     |███████████████████████████████▋| 645kB 4.6MB/s eta 0:00:01\r\u001b[K     |████████████████████████████████| 655kB 4.6MB/s \n",
            "\u001b[?25hRequirement already satisfied: tqdm in /usr/local/lib/python3.6/dist-packages (from adversarial-robustness-toolbox) (4.41.1)\n",
            "Collecting scikit-learn==0.22.1\n",
            "\u001b[?25l  Downloading https://files.pythonhosted.org/packages/d1/48/e9fa9e252abcd1447eff6f9257636af31758a6e46fd5ce5d3c879f6907cb/scikit_learn-0.22.1-cp36-cp36m-manylinux1_x86_64.whl (7.0MB)\n",
            "\u001b[K     |████████████████████████████████| 7.1MB 12.1MB/s \n",
            "\u001b[?25hRequirement already satisfied: numpy in /usr/local/lib/python3.6/dist-packages (from adversarial-robustness-toolbox) (1.18.5)\n",
            "Requirement already satisfied: setuptools in /usr/local/lib/python3.6/dist-packages (from adversarial-robustness-toolbox) (49.2.0)\n",
            "Requirement already satisfied: statsmodels in /usr/local/lib/python3.6/dist-packages (from adversarial-robustness-toolbox) (0.10.2)\n",
            "Collecting ffmpeg-python\n",
            "  Downloading https://files.pythonhosted.org/packages/d7/0c/56be52741f75bad4dc6555991fabd2e07b432d333da82c11ad701123888a/ffmpeg_python-0.2.0-py3-none-any.whl\n",
            "Collecting cma\n",
            "\u001b[?25l  Downloading https://files.pythonhosted.org/packages/36/c0/0a1c41f7cad0a51e07991cf86423d0e6651d035f1fe7dcff48e8858848f2/cma-3.0.3-py2.py3-none-any.whl (230kB)\n",
            "\u001b[K     |████████████████████████████████| 235kB 33.7MB/s \n",
            "\u001b[?25hRequirement already satisfied: scipy==1.4.1 in /usr/local/lib/python3.6/dist-packages (from adversarial-robustness-toolbox) (1.4.1)\n",
            "Collecting mypy\n",
            "\u001b[?25l  Downloading https://files.pythonhosted.org/packages/14/9d/914bb0c71292ffd7e1c9728b9366f9ea34c874f5ca12ac6005a400e4d130/mypy-0.782-cp36-cp36m-manylinux1_x86_64.whl (20.8MB)\n",
            "\u001b[K     |████████████████████████████████| 20.8MB 1.3MB/s \n",
            "\u001b[?25hRequirement already satisfied: six in /usr/local/lib/python3.6/dist-packages (from adversarial-robustness-toolbox) (1.15.0)\n",
            "Collecting pydub\n",
            "  Downloading https://files.pythonhosted.org/packages/7b/d1/fbfa79371a8cd9bb15c2e3c480d7e6e340ed5cc55005174e16f48418333a/pydub-0.24.1-py2.py3-none-any.whl\n",
            "Requirement already satisfied: Pillow in /usr/local/lib/python3.6/dist-packages (from adversarial-robustness-toolbox) (7.0.0)\n",
            "Requirement already satisfied: resampy in /usr/local/lib/python3.6/dist-packages (from adversarial-robustness-toolbox) (0.2.2)\n",
            "Requirement already satisfied: matplotlib in /usr/local/lib/python3.6/dist-packages (from adversarial-robustness-toolbox) (3.2.2)\n",
            "Requirement already satisfied: joblib>=0.11 in /usr/local/lib/python3.6/dist-packages (from scikit-learn==0.22.1->adversarial-robustness-toolbox) (0.16.0)\n",
            "Requirement already satisfied: patsy>=0.4.0 in /usr/local/lib/python3.6/dist-packages (from statsmodels->adversarial-robustness-toolbox) (0.5.1)\n",
            "Requirement already satisfied: pandas>=0.19 in /usr/local/lib/python3.6/dist-packages (from statsmodels->adversarial-robustness-toolbox) (1.0.5)\n",
            "Requirement already satisfied: future in /usr/local/lib/python3.6/dist-packages (from ffmpeg-python->adversarial-robustness-toolbox) (0.16.0)\n",
            "Collecting typed-ast<1.5.0,>=1.4.0\n",
            "\u001b[?25l  Downloading https://files.pythonhosted.org/packages/90/ed/5459080d95eb87a02fe860d447197be63b6e2b5e9ff73c2b0a85622994f4/typed_ast-1.4.1-cp36-cp36m-manylinux1_x86_64.whl (737kB)\n",
            "\u001b[K     |████████████████████████████████| 747kB 42.6MB/s \n",
            "\u001b[?25hCollecting mypy-extensions<0.5.0,>=0.4.3\n",
            "  Downloading https://files.pythonhosted.org/packages/5c/eb/975c7c080f3223a5cdaff09612f3a5221e4ba534f7039db34c35d95fa6a5/mypy_extensions-0.4.3-py2.py3-none-any.whl\n",
            "Requirement already satisfied: typing-extensions>=3.7.4 in /usr/local/lib/python3.6/dist-packages (from mypy->adversarial-robustness-toolbox) (3.7.4.2)\n",
            "Requirement already satisfied: numba>=0.32 in /usr/local/lib/python3.6/dist-packages (from resampy->adversarial-robustness-toolbox) (0.48.0)\n",
            "Requirement already satisfied: kiwisolver>=1.0.1 in /usr/local/lib/python3.6/dist-packages (from matplotlib->adversarial-robustness-toolbox) (1.2.0)\n",
            "Requirement already satisfied: cycler>=0.10 in /usr/local/lib/python3.6/dist-packages (from matplotlib->adversarial-robustness-toolbox) (0.10.0)\n",
            "Requirement already satisfied: pyparsing!=2.0.4,!=2.1.2,!=2.1.6,>=2.0.1 in /usr/local/lib/python3.6/dist-packages (from matplotlib->adversarial-robustness-toolbox) (2.4.7)\n",
            "Requirement already satisfied: python-dateutil>=2.1 in /usr/local/lib/python3.6/dist-packages (from matplotlib->adversarial-robustness-toolbox) (2.8.1)\n",
            "Requirement already satisfied: pytz>=2017.2 in /usr/local/lib/python3.6/dist-packages (from pandas>=0.19->statsmodels->adversarial-robustness-toolbox) (2018.9)\n",
            "Requirement already satisfied: llvmlite<0.32.0,>=0.31.0dev0 in /usr/local/lib/python3.6/dist-packages (from numba>=0.32->resampy->adversarial-robustness-toolbox) (0.31.0)\n",
            "Installing collected packages: scikit-learn, ffmpeg-python, cma, typed-ast, mypy-extensions, mypy, pydub, adversarial-robustness-toolbox\n",
            "  Found existing installation: scikit-learn 0.22.2.post1\n",
            "    Uninstalling scikit-learn-0.22.2.post1:\n",
            "      Successfully uninstalled scikit-learn-0.22.2.post1\n",
            "Successfully installed adversarial-robustness-toolbox-1.3.2 cma-3.0.3 ffmpeg-python-0.2.0 mypy-0.782 mypy-extensions-0.4.3 pydub-0.24.1 scikit-learn-0.22.1 typed-ast-1.4.1\n"
          ],
          "name": "stdout"
        }
      ]
    },
    {
      "cell_type": "code",
      "metadata": {
        "id": "EVKsWyrhCQkR",
        "colab_type": "code",
        "colab": {
          "base_uri": "https://localhost:8080/",
          "height": 54
        },
        "outputId": "e699eaaf-9e14-48cf-db06-a39ec58fde1f"
      },
      "source": [
        "import tensorflow as tf\n",
        "import numpy as np\n",
        "import matplotlib.pyplot as plt\n",
        "import activationsf # Where the Kaf Layer is implemented\n",
        "import fbfadvtrain # Where Fast Adversarial Training is implemented\n",
        "\n",
        "from activationsf import Kaf, plot_kafs_epoch_wise\n",
        "\n",
        "from tensorflow.keras.layers import Conv2D, BatchNormalization, Activation, Add, Input, ZeroPadding2D, GlobalAveragePooling2D, Dense, Flatten, MaxPooling2D, Dropout\n",
        "from tensorflow.keras.regularizers import l2 \n",
        "from tensorflow.keras import Model\n",
        "from tensorflow import math \n",
        "\n",
        "tf.keras.mixed_precision.experimental.set_policy('mixed_float16')\n",
        "regularizer = l2(0.0005)"
      ],
      "execution_count": 1,
      "outputs": [
        {
          "output_type": "stream",
          "text": [
            "INFO:tensorflow:Mixed precision compatibility check (mixed_float16): OK\n",
            "Your GPU will likely run quickly with dtype policy mixed_float16 as it has compute capability of at least 7.0. Your GPU: Tesla T4, compute capability 7.5\n"
          ],
          "name": "stdout"
        }
      ]
    },
    {
      "cell_type": "code",
      "metadata": {
        "id": "pSS17KISCUh4",
        "colab_type": "code",
        "colab": {
          "base_uri": "https://localhost:8080/",
          "height": 35
        },
        "outputId": "1105e077-1c6a-45dc-d5a0-6b1b2e7f32ab"
      },
      "source": [
        "# 2.3.0 at the time of writing\n",
        "print(tf.__version__)"
      ],
      "execution_count": 4,
      "outputs": [
        {
          "output_type": "stream",
          "text": [
            "2.3.0\n"
          ],
          "name": "stdout"
        }
      ]
    },
    {
      "cell_type": "code",
      "metadata": {
        "id": "vYEr0NAqCaZF",
        "colab_type": "code",
        "colab": {}
      },
      "source": [
        "# Load CIFAR10\n",
        "from tensorflow.keras.datasets import cifar10\n",
        "(x_train, y_train), (x_test, y_test) = cifar10.load_data()"
      ],
      "execution_count": 2,
      "outputs": []
    },
    {
      "cell_type": "code",
      "metadata": {
        "id": "uoRXAufFCiUn",
        "colab_type": "code",
        "colab": {}
      },
      "source": [
        "def cifar_res_block(x, s, filters, activation, kaf=False): \n",
        "  \"\"\" \n",
        "    Residual Block\n",
        "  \"\"\"\n",
        "\n",
        "  x_skip = x # this will be used for addition with the residual block\n",
        "\n",
        "  # First convolution, feature space halves when s=2 \n",
        "  x = Conv2D(filters, kernel_size=(3, 3), strides=(s, s), padding='same', kernel_regularizer = regularizer)(x)\n",
        "  x = BatchNormalization()(x)\n",
        "  if kaf is not False:\n",
        "    x = Kaf(20, True) (x)\n",
        "  else:\n",
        "    x = Activation(activation)(x)\n",
        "\n",
        "  # Second convolution, no dimensionality reduction\n",
        "  x = Conv2D(filters, kernel_size=(3, 3), strides=(1, 1), padding='same', kernel_regularizer = regularizer)(x)\n",
        "\n",
        "  # Project to a lower feature space the residual too if there was a dim reduction during 1st conv\n",
        "  if s > 1:\n",
        "    x_skip = Conv2D(filters, kernel_size=(3, 3), strides=(s, s), padding='same', kernel_regularizer = regularizer)(x_skip)\n",
        "  \n",
        "  # Add the input\n",
        "  x = Add()([x, x_skip])\n",
        "  x = BatchNormalization()(x)\n",
        "  if kaf is not False:\n",
        "    x = Kaf(20, True)(x)\n",
        "  else:\n",
        "    x = Activation(activation)(x)\n",
        "\n",
        "  return x"
      ],
      "execution_count": 3,
      "outputs": []
    },
    {
      "cell_type": "code",
      "metadata": {
        "id": "u-ZsAJjCCk4c",
        "colab_type": "code",
        "colab": {}
      },
      "source": [
        "# Use tf.data to improve performances\n",
        "train = tf.data.Dataset.from_tensor_slices((x_train, y_train))\n",
        "test = tf.data.Dataset.from_tensor_slices((x_test, y_test))"
      ],
      "execution_count": 4,
      "outputs": []
    },
    {
      "cell_type": "code",
      "metadata": {
        "id": "A2wGfV7hCn0-",
        "colab_type": "code",
        "colab": {}
      },
      "source": [
        "# Data augmentation \n",
        "def normalize(img, label):\n",
        "  img = tf.cast(img, tf.float32)\n",
        "  return img/255.0, label\n",
        "def augment(img, label):\n",
        "  img, _ = normalize(img, label)\n",
        "  img = tf.image.resize_with_crop_or_pad(img, 40, 40) # Pad evenly w/ four 0s pixels\n",
        "  img = tf.image.random_flip_left_right(img) # Random horizontal flip\n",
        "  img = tf.image.random_crop(img, [32, 32, 3]) # Randomly crop back to cifar dimensionality\n",
        "  return img, label"
      ],
      "execution_count": 5,
      "outputs": []
    },
    {
      "cell_type": "code",
      "metadata": {
        "id": "1uJw7mghCrEp",
        "colab_type": "code",
        "colab": {}
      },
      "source": [
        "AUTOTUNE = tf.data.experimental.AUTOTUNE\n",
        "train = (\n",
        "    train\n",
        "    .shuffle(1000)\n",
        "    .map(augment, num_parallel_calls=AUTOTUNE)\n",
        "    .batch(128)\n",
        "    .prefetch(AUTOTUNE)\n",
        ")\n",
        "test = (\n",
        "    test\n",
        "    .shuffle(1000)\n",
        "    .map(normalize, num_parallel_calls=AUTOTUNE)\n",
        "    .batch(128)\n",
        "    .prefetch(AUTOTUNE)\n",
        ")  "
      ],
      "execution_count": 6,
      "outputs": []
    },
    {
      "cell_type": "markdown",
      "metadata": {
        "id": "e3S4xdwLCw7C",
        "colab_type": "text"
      },
      "source": [
        "## Adversarial Training"
      ]
    },
    {
      "cell_type": "code",
      "metadata": {
        "id": "rrpGhLgHCsuG",
        "colab_type": "code",
        "colab": {}
      },
      "source": [
        "def resnet20(act = None, is_kaf = False):\n",
        "\n",
        "  input = Input(shape=(32,32,3)) # padded cifar10 images size\n",
        "\n",
        "  # Preparation Step\n",
        "  x = Conv2D(16, kernel_size=(3, 3), padding='same', kernel_regularizer = regularizer)(input)\n",
        "  x = BatchNormalization()(x)\n",
        "  if is_kaf is not False:\n",
        "    x = Kaf(20, True) (x)\n",
        "  else:\n",
        "    x = Activation(act)(x)\n",
        "\n",
        "  # 1st stage: filter size 16, keep feature map size \n",
        "  x = cifar_res_block(x, s=1, filters=16, activation = act, kaf = is_kaf)\n",
        "  x = cifar_res_block(x, s=1, filters=16, activation = act, kaf = is_kaf)\n",
        "  x = cifar_res_block(x, s=1, filters=16, activation = act, kaf = is_kaf)\n",
        "\n",
        "  # 2nd stage: double filter size, half feature map size\n",
        "  x = cifar_res_block(x, s=2, filters=32, activation = act, kaf = is_kaf)\n",
        "  x = cifar_res_block(x, s=1, filters=32, activation = act, kaf = is_kaf)\n",
        "  x = cifar_res_block(x, s=1, filters=32, activation = act, kaf = is_kaf)\n",
        "\n",
        "  # 3rd stage: double filter size, half feature map size\n",
        "  x = cifar_res_block(x, s=2, filters=64, activation = act, kaf = is_kaf)\n",
        "  x = cifar_res_block(x, s=1, filters=64, activation = act, kaf = is_kaf)\n",
        "  x = cifar_res_block(x, s=1, filters=64, activation = act, kaf = is_kaf)\n",
        "\n",
        "  x = GlobalAveragePooling2D()(x)\n",
        "\n",
        "  x = Dense(10, activation='softmax', kernel_initializer='he_normal', dtype=tf.float32, kernel_regularizer = regularizer)(x) \n",
        "\n",
        "  model = fbfadvtrain.FastBetterFreeTrainedModel(inputs=input, outputs=x, name='resnet')\n",
        "\n",
        "  return model"
      ],
      "execution_count": 7,
      "outputs": []
    },
    {
      "cell_type": "code",
      "metadata": {
        "id": "b5UWjKQcDXDf",
        "colab_type": "code",
        "colab": {}
      },
      "source": [
        "# Relu case\n",
        "resnet_20_original = resnet20(act=tf.keras.activations.relu)"
      ],
      "execution_count": null,
      "outputs": []
    },
    {
      "cell_type": "code",
      "metadata": {
        "id": "f3jPMg8_De6h",
        "colab_type": "code",
        "colab": {}
      },
      "source": [
        "resnet_20_original.compile(\n",
        "              optimizer = tf.keras.optimizers.SGD(learning_rate=0.1, momentum=0.9),\n",
        "              loss=tf.keras.losses.SparseCategoricalCrossentropy(from_logits=False),\n",
        "              metrics=['accuracy']\n",
        "              )"
      ],
      "execution_count": null,
      "outputs": []
    },
    {
      "cell_type": "code",
      "metadata": {
        "id": "Gb0qaVC1FfL8",
        "colab_type": "code",
        "colab": {
          "base_uri": "https://localhost:8080/",
          "height": 126
        },
        "outputId": "74014050-5f59-4279-9760-6e585f4733cc"
      },
      "source": [
        "# Find the min max lr meaningful bounds to cycle through\n",
        "# Ref: https://www.machinecurve.com/index.php/2020/02/25/training-your-neural-network-with-cyclical-learning-rates/\n",
        "# Note need to make lRFinder/keras_callback.py tf compatible\n",
        "!git clone https://github.com/WittmannF/LRFinder.git"
      ],
      "execution_count": null,
      "outputs": [
        {
          "output_type": "stream",
          "text": [
            "Cloning into 'LRFinder'...\n",
            "remote: Enumerating objects: 71, done.\u001b[K\n",
            "remote: Counting objects: 100% (71/71), done.\u001b[K\n",
            "remote: Compressing objects: 100% (64/64), done.\u001b[K\n",
            "remote: Total 71 (delta 24), reused 22 (delta 5), pack-reused 0\u001b[K\n",
            "Unpacking objects: 100% (71/71), done.\n"
          ],
          "name": "stdout"
        }
      ]
    },
    {
      "cell_type": "code",
      "metadata": {
        "id": "8_2xQiGjFrAu",
        "colab_type": "code",
        "colab": {
          "base_uri": "https://localhost:8080/",
          "height": 975
        },
        "outputId": "ac9da578-f91e-4aa6-adef-b1568ef7cfc4"
      },
      "source": [
        "from LRFinder.keras_callback import LRFinder\n",
        "lr_finder = LRFinder(min_lr=1e-4, max_lr=1) # implemented as a callback\n",
        "\n",
        "# Perform lr range test on 10 epochs\n",
        "resnet_20_original.fit(x=train, epochs = 15, batch_size=128, validation_data=test, callbacks=[lr_finder])"
      ],
      "execution_count": null,
      "outputs": [
        {
          "output_type": "stream",
          "text": [
            "Epoch 1/15\n",
            "391/391 [==============================] - 61s 156ms/step - loss: 3.1873 - accuracy: 0.0151 - val_loss: 2.7440 - val_accuracy: 0.1000\n",
            "Epoch 2/15\n",
            "391/391 [==============================] - 60s 154ms/step - loss: 3.1868 - accuracy: 0.0152 - val_loss: 2.7142 - val_accuracy: 0.1000\n",
            "Epoch 3/15\n",
            "391/391 [==============================] - 60s 154ms/step - loss: 3.1878 - accuracy: 0.0150 - val_loss: 2.6948 - val_accuracy: 0.0992\n",
            "Epoch 4/15\n",
            "391/391 [==============================] - 60s 153ms/step - loss: 3.1864 - accuracy: 0.0150 - val_loss: 2.6827 - val_accuracy: 0.0899\n",
            "Epoch 5/15\n",
            "391/391 [==============================] - 60s 154ms/step - loss: 3.1815 - accuracy: 0.0147 - val_loss: 2.6750 - val_accuracy: 0.0762\n",
            "Epoch 6/15\n",
            "391/391 [==============================] - 60s 153ms/step - loss: 3.1785 - accuracy: 0.0140 - val_loss: 2.7440 - val_accuracy: 0.1000\n",
            "Epoch 7/15\n",
            "391/391 [==============================] - 61s 156ms/step - loss: 3.1686 - accuracy: 0.0135 - val_loss: 2.7134 - val_accuracy: 0.1000\n",
            "Epoch 8/15\n",
            "391/391 [==============================] - 61s 155ms/step - loss: 3.1536 - accuracy: 0.0120 - val_loss: 2.6972 - val_accuracy: 0.0992\n",
            "Epoch 9/15\n",
            "391/391 [==============================] - 60s 153ms/step - loss: 3.1281 - accuracy: 0.0109 - val_loss: 2.6807 - val_accuracy: 0.0925\n",
            "Epoch 10/15\n",
            "391/391 [==============================] - 59s 152ms/step - loss: 3.0899 - accuracy: 0.0095 - val_loss: 2.6715 - val_accuracy: 0.0916\n",
            "Epoch 11/15\n",
            "391/391 [==============================] - 60s 153ms/step - loss: 3.0343 - accuracy: 0.0116 - val_loss: 2.7440 - val_accuracy: 0.1000\n",
            "Epoch 12/15\n",
            "391/391 [==============================] - 60s 154ms/step - loss: 2.9734 - accuracy: 0.0194 - val_loss: 2.7251 - val_accuracy: 0.0994\n",
            "Epoch 13/15\n",
            "391/391 [==============================] - 61s 156ms/step - loss: 2.9276 - accuracy: 0.0365 - val_loss: 2.7645 - val_accuracy: 0.1004\n",
            "Epoch 14/15\n",
            "391/391 [==============================] - 60s 154ms/step - loss: 2.9133 - accuracy: 0.0536 - val_loss: 6.9666 - val_accuracy: 0.1000\n",
            "Epoch 15/15\n",
            "391/391 [==============================] - 60s 153ms/step - loss: 2.9698 - accuracy: 0.0616 - val_loss: 22.0400 - val_accuracy: 0.1003\n"
          ],
          "name": "stdout"
        },
        {
          "output_type": "display_data",
          "data": {
            "image/png": "[encoded data removed]",
            "text/plain": [
              "<Figure size 864x432 with 1 Axes>"
            ]
          },
          "metadata": {
            "tags": [],
            "needs_background": "light"
          }
        },
        {
          "output_type": "execute_result",
          "data": {
            "text/plain": [
              "<tensorflow.python.keras.callbacks.History at 0x7f9d70160470>"
            ]
          },
          "metadata": {
            "tags": []
          },
          "execution_count": 11
        }
      ]
    },
    {
      "cell_type": "code",
      "metadata": {
        "id": "AF--l_ptGnNB",
        "colab_type": "code",
        "colab": {
          "base_uri": "https://localhost:8080/",
          "height": 145
        },
        "outputId": "234e323e-4fb7-43e0-ffc1-9a0083c4f04f"
      },
      "source": [
        "# Set up cyclic learning (linear)\n",
        "# ref: same as above\n",
        "!git clone https://github.com/bckenstler/CLR.git\n",
        "from CLR.clr_callback import CyclicLR\n",
        "\n",
        "# Set CLR options\n",
        "step_size = int(3 * (50000/128))\n",
        "base_lr = 1e-2\n",
        "max_lr = 4e-1\n",
        "mode='triangular'\n",
        "\n",
        "# Define the callback\n",
        "clr = CyclicLR(base_lr=base_lr, max_lr=max_lr, step_size=step_size, mode=mode)"
      ],
      "execution_count": null,
      "outputs": [
        {
          "output_type": "stream",
          "text": [
            "Cloning into 'CLR'...\n",
            "remote: Enumerating objects: 8, done.\u001b[K\n",
            "remote: Counting objects:  12% (1/8)\u001b[K\rremote: Counting objects:  25% (2/8)\u001b[K\rremote: Counting objects:  37% (3/8)\u001b[K\rremote: Counting objects:  50% (4/8)\u001b[K\rremote: Counting objects:  62% (5/8)\u001b[K\rremote: Counting objects:  75% (6/8)\u001b[K\rremote: Counting objects:  87% (7/8)\u001b[K\rremote: Counting objects: 100% (8/8)\u001b[K\rremote: Counting objects: 100% (8/8), done.\u001b[K\n",
            "remote: Compressing objects: 100% (7/7), done.\u001b[K\n",
            "remote: Total 252 (delta 1), reused 4 (delta 0), pack-reused 244\u001b[K\n",
            "Receiving objects: 100% (252/252), 2.06 MiB | 29.69 MiB/s, done.\n",
            "Resolving deltas: 100% (87/87), done.\n"
          ],
          "name": "stdout"
        }
      ]
    },
    {
      "cell_type": "code",
      "metadata": {
        "id": "09Yd-LH_KgG2",
        "colab_type": "code",
        "colab": {
          "base_uri": "https://localhost:8080/",
          "height": 1000
        },
        "outputId": "66204e61-4566-4211-d77b-745f284d763d"
      },
      "source": [
        "history = resnet_20_original.fit(x = train, epochs=150, validation_data=test, callbacks=[clr])"
      ],
      "execution_count": null,
      "outputs": [
        {
          "output_type": "stream",
          "text": [
            "Epoch 1/150\n",
            "391/391 [==============================] - 52s 133ms/step - loss: 2.6794 - accuracy: 0.0904 - val_loss: 2.6166 - val_accuracy: 0.1240\n",
            "Epoch 2/150\n",
            "391/391 [==============================] - 52s 132ms/step - loss: 2.5114 - accuracy: 0.1364 - val_loss: 2.7368 - val_accuracy: 0.1244\n",
            "Epoch 3/150\n",
            "391/391 [==============================] - 52s 133ms/step - loss: 2.2231 - accuracy: 0.2190 - val_loss: 2.0407 - val_accuracy: 0.3383\n",
            "Epoch 4/150\n",
            "391/391 [==============================] - 51s 132ms/step - loss: 2.0494 - accuracy: 0.2634 - val_loss: 1.8352 - val_accuracy: 0.3965\n",
            "Epoch 5/150\n",
            "391/391 [==============================] - 52s 133ms/step - loss: 1.9274 - accuracy: 0.2911 - val_loss: 1.8157 - val_accuracy: 0.4082\n",
            "Epoch 6/150\n",
            "391/391 [==============================] - 52s 133ms/step - loss: 1.8451 - accuracy: 0.3119 - val_loss: 1.6297 - val_accuracy: 0.4830\n",
            "Epoch 7/150\n",
            "391/391 [==============================] - 52s 133ms/step - loss: 1.8176 - accuracy: 0.3210 - val_loss: 1.6518 - val_accuracy: 0.4539\n",
            "Epoch 8/150\n",
            "391/391 [==============================] - 52s 133ms/step - loss: 1.8182 - accuracy: 0.3134 - val_loss: 1.6890 - val_accuracy: 0.4125\n",
            "Epoch 9/150\n",
            "391/391 [==============================] - 52s 132ms/step - loss: 1.8006 - accuracy: 0.3141 - val_loss: 2.3481 - val_accuracy: 0.2717\n",
            "Epoch 10/150\n",
            "391/391 [==============================] - 52s 132ms/step - loss: 1.7270 - accuracy: 0.3308 - val_loss: 1.6246 - val_accuracy: 0.4855\n",
            "Epoch 11/150\n",
            "391/391 [==============================] - 52s 133ms/step - loss: 1.6290 - accuracy: 0.3615 - val_loss: 1.3817 - val_accuracy: 0.5598\n",
            "Epoch 12/150\n",
            "391/391 [==============================] - 52s 132ms/step - loss: 1.5420 - accuracy: 0.3904 - val_loss: 1.2811 - val_accuracy: 0.6054\n",
            "Epoch 13/150\n",
            "391/391 [==============================] - 52s 133ms/step - loss: 1.5194 - accuracy: 0.3928 - val_loss: 1.3491 - val_accuracy: 0.5852\n",
            "Epoch 14/150\n",
            "391/391 [==============================] - 52s 133ms/step - loss: 1.5645 - accuracy: 0.3747 - val_loss: 1.4054 - val_accuracy: 0.5333\n",
            "Epoch 15/150\n",
            "391/391 [==============================] - 52s 133ms/step - loss: 1.5907 - accuracy: 0.3638 - val_loss: 1.4779 - val_accuracy: 0.5123\n",
            "Epoch 16/150\n",
            "391/391 [==============================] - 52s 133ms/step - loss: 1.5498 - accuracy: 0.3796 - val_loss: 1.3830 - val_accuracy: 0.5581\n",
            "Epoch 17/150\n",
            "391/391 [==============================] - 52s 133ms/step - loss: 1.4655 - accuracy: 0.4072 - val_loss: 1.2377 - val_accuracy: 0.6111\n",
            "Epoch 18/150\n",
            "391/391 [==============================] - 52s 133ms/step - loss: 1.3880 - accuracy: 0.4328 - val_loss: 1.1152 - val_accuracy: 0.6683\n",
            "Epoch 19/150\n",
            "391/391 [==============================] - 52s 134ms/step - loss: 1.3692 - accuracy: 0.4395 - val_loss: 1.2239 - val_accuracy: 0.6039\n",
            "Epoch 20/150\n",
            "391/391 [==============================] - 52s 133ms/step - loss: 1.4334 - accuracy: 0.4113 - val_loss: 1.3319 - val_accuracy: 0.5365\n",
            "Epoch 21/150\n",
            "391/391 [==============================] - 52s 133ms/step - loss: 1.4860 - accuracy: 0.3953 - val_loss: 1.4407 - val_accuracy: 0.5049\n",
            "Epoch 22/150\n",
            "391/391 [==============================] - 52s 133ms/step - loss: 1.4628 - accuracy: 0.4066 - val_loss: 1.2627 - val_accuracy: 0.6157\n",
            "Epoch 23/150\n",
            "391/391 [==============================] - 52s 133ms/step - loss: 1.3891 - accuracy: 0.4329 - val_loss: 1.1426 - val_accuracy: 0.6667\n",
            "Epoch 24/150\n",
            "391/391 [==============================] - 52s 132ms/step - loss: 1.3116 - accuracy: 0.4613 - val_loss: 1.0356 - val_accuracy: 0.6984\n",
            "Epoch 25/150\n",
            "391/391 [==============================] - 52s 133ms/step - loss: 1.2978 - accuracy: 0.4635 - val_loss: 1.0801 - val_accuracy: 0.6808\n",
            "Epoch 26/150\n",
            "391/391 [==============================] - 52s 133ms/step - loss: 1.3681 - accuracy: 0.4378 - val_loss: 1.2151 - val_accuracy: 0.6262\n",
            "Epoch 27/150\n",
            "391/391 [==============================] - 52s 134ms/step - loss: 1.4329 - accuracy: 0.4138 - val_loss: 1.3366 - val_accuracy: 0.6022\n",
            "Epoch 28/150\n",
            "391/391 [==============================] - 52s 134ms/step - loss: 1.4164 - accuracy: 0.4255 - val_loss: 1.1804 - val_accuracy: 0.6514\n",
            "Epoch 29/150\n",
            "391/391 [==============================] - 52s 133ms/step - loss: 1.3430 - accuracy: 0.4502 - val_loss: 1.1169 - val_accuracy: 0.6570\n",
            "Epoch 30/150\n",
            "391/391 [==============================] - 52s 133ms/step - loss: 1.2681 - accuracy: 0.4767 - val_loss: 0.9933 - val_accuracy: 0.7162\n",
            "Epoch 31/150\n",
            "391/391 [==============================] - 52s 133ms/step - loss: 1.2587 - accuracy: 0.4774 - val_loss: 1.0956 - val_accuracy: 0.6503\n",
            "Epoch 32/150\n",
            "391/391 [==============================] - 52s 132ms/step - loss: 1.3306 - accuracy: 0.4495 - val_loss: 1.1787 - val_accuracy: 0.6473\n",
            "Epoch 33/150\n",
            "391/391 [==============================] - 52s 133ms/step - loss: 1.4019 - accuracy: 0.4284 - val_loss: 1.3622 - val_accuracy: 0.5563\n",
            "Epoch 34/150\n",
            "391/391 [==============================] - 53s 135ms/step - loss: 1.3865 - accuracy: 0.4371 - val_loss: 1.1682 - val_accuracy: 0.6491\n",
            "Epoch 35/150\n",
            "391/391 [==============================] - 53s 135ms/step - loss: 1.3144 - accuracy: 0.4609 - val_loss: 1.1045 - val_accuracy: 0.6761\n",
            "Epoch 36/150\n",
            "391/391 [==============================] - 52s 133ms/step - loss: 1.2382 - accuracy: 0.4888 - val_loss: 0.9658 - val_accuracy: 0.7304\n",
            "Epoch 37/150\n",
            "391/391 [==============================] - 52s 133ms/step - loss: 1.2265 - accuracy: 0.4913 - val_loss: 1.0490 - val_accuracy: 0.6898\n",
            "Epoch 38/150\n",
            "391/391 [==============================] - 52s 132ms/step - loss: 1.3059 - accuracy: 0.4583 - val_loss: 1.2208 - val_accuracy: 0.6188\n",
            "Epoch 39/150\n",
            "391/391 [==============================] - 52s 134ms/step - loss: 1.3824 - accuracy: 0.4336 - val_loss: 1.1740 - val_accuracy: 0.6352\n",
            "Epoch 40/150\n",
            "391/391 [==============================] - 52s 134ms/step - loss: 1.3667 - accuracy: 0.4440 - val_loss: 1.1990 - val_accuracy: 0.6359\n",
            "Epoch 41/150\n",
            "391/391 [==============================] - 52s 132ms/step - loss: 1.2923 - accuracy: 0.4687 - val_loss: 1.0481 - val_accuracy: 0.7051\n",
            "Epoch 42/150\n",
            "391/391 [==============================] - 52s 133ms/step - loss: 1.2195 - accuracy: 0.4946 - val_loss: 0.9545 - val_accuracy: 0.7358\n",
            "Epoch 43/150\n",
            "391/391 [==============================] - 52s 133ms/step - loss: 1.2075 - accuracy: 0.4962 - val_loss: 1.0161 - val_accuracy: 0.6989\n",
            "Epoch 44/150\n",
            "391/391 [==============================] - 53s 136ms/step - loss: 1.2865 - accuracy: 0.4646 - val_loss: 1.2374 - val_accuracy: 0.5941\n",
            "Epoch 45/150\n",
            "391/391 [==============================] - 53s 135ms/step - loss: 1.3636 - accuracy: 0.4394 - val_loss: 1.2754 - val_accuracy: 0.6026\n",
            "Epoch 46/150\n",
            "391/391 [==============================] - 53s 135ms/step - loss: 1.3497 - accuracy: 0.4510 - val_loss: 1.1793 - val_accuracy: 0.6635\n",
            "Epoch 47/150\n",
            "391/391 [==============================] - 53s 135ms/step - loss: 1.2751 - accuracy: 0.4788 - val_loss: 1.0193 - val_accuracy: 0.7155\n",
            "Epoch 48/150\n",
            "391/391 [==============================] - 53s 135ms/step - loss: 1.2020 - accuracy: 0.5035 - val_loss: 0.9371 - val_accuracy: 0.7459\n",
            "Epoch 49/150\n",
            "391/391 [==============================] - 53s 135ms/step - loss: 1.1937 - accuracy: 0.5027 - val_loss: 1.0168 - val_accuracy: 0.7140\n",
            "Epoch 50/150\n",
            "391/391 [==============================] - 52s 134ms/step - loss: 1.2747 - accuracy: 0.4713 - val_loss: 1.2411 - val_accuracy: 0.6085\n",
            "Epoch 51/150\n",
            "391/391 [==============================] - 53s 135ms/step - loss: 1.3562 - accuracy: 0.4439 - val_loss: 1.3457 - val_accuracy: 0.5901\n",
            "Epoch 52/150\n",
            "391/391 [==============================] - 52s 134ms/step - loss: 1.3379 - accuracy: 0.4557 - val_loss: 1.3300 - val_accuracy: 0.5861\n",
            "Epoch 53/150\n",
            "391/391 [==============================] - 53s 135ms/step - loss: 1.2674 - accuracy: 0.4798 - val_loss: 1.0339 - val_accuracy: 0.7061\n",
            "Epoch 54/150\n",
            "391/391 [==============================] - 53s 135ms/step - loss: 1.1874 - accuracy: 0.5074 - val_loss: 0.9325 - val_accuracy: 0.7468\n",
            "Epoch 55/150\n",
            "391/391 [==============================] - 53s 136ms/step - loss: 1.1805 - accuracy: 0.5080 - val_loss: 1.0624 - val_accuracy: 0.6731\n",
            "Epoch 56/150\n",
            "391/391 [==============================] - 53s 135ms/step - loss: 1.2604 - accuracy: 0.4742 - val_loss: 1.2171 - val_accuracy: 0.6416\n",
            "Epoch 57/150\n",
            "391/391 [==============================] - 53s 135ms/step - loss: 1.3448 - accuracy: 0.4494 - val_loss: 1.4249 - val_accuracy: 0.5341\n",
            "Epoch 58/150\n",
            "391/391 [==============================] - 52s 133ms/step - loss: 1.3292 - accuracy: 0.4588 - val_loss: 1.1061 - val_accuracy: 0.6617\n",
            "Epoch 59/150\n",
            "391/391 [==============================] - 53s 135ms/step - loss: 1.2503 - accuracy: 0.4865 - val_loss: 1.0098 - val_accuracy: 0.7219\n",
            "Epoch 60/150\n",
            "391/391 [==============================] - 53s 134ms/step - loss: 1.1802 - accuracy: 0.5120 - val_loss: 0.9252 - val_accuracy: 0.7501\n",
            "Epoch 61/150\n",
            "391/391 [==============================] - 53s 134ms/step - loss: 1.1720 - accuracy: 0.5116 - val_loss: 1.0410 - val_accuracy: 0.6903\n",
            "Epoch 62/150\n",
            "391/391 [==============================] - 52s 134ms/step - loss: 1.2535 - accuracy: 0.4794 - val_loss: 1.2291 - val_accuracy: 0.6203\n",
            "Epoch 63/150\n",
            "391/391 [==============================] - 53s 135ms/step - loss: 1.3367 - accuracy: 0.4520 - val_loss: 1.6008 - val_accuracy: 0.4828\n",
            "Epoch 64/150\n",
            "391/391 [==============================] - 52s 134ms/step - loss: 1.3187 - accuracy: 0.4606 - val_loss: 1.1978 - val_accuracy: 0.6408\n",
            "Epoch 65/150\n",
            "391/391 [==============================] - 53s 136ms/step - loss: 1.2409 - accuracy: 0.4905 - val_loss: 0.9951 - val_accuracy: 0.7145\n",
            "Epoch 66/150\n",
            "391/391 [==============================] - 53s 136ms/step - loss: 1.1655 - accuracy: 0.5175 - val_loss: 0.9187 - val_accuracy: 0.7534\n",
            "Epoch 67/150\n",
            "391/391 [==============================] - 53s 135ms/step - loss: 1.1623 - accuracy: 0.5155 - val_loss: 1.0442 - val_accuracy: 0.6884\n",
            "Epoch 68/150\n",
            "391/391 [==============================] - 53s 135ms/step - loss: 1.2484 - accuracy: 0.4810 - val_loss: 1.2412 - val_accuracy: 0.6186\n",
            "Epoch 69/150\n",
            "391/391 [==============================] - 52s 134ms/step - loss: 1.3313 - accuracy: 0.4539 - val_loss: 1.3814 - val_accuracy: 0.5284\n",
            "Epoch 70/150\n",
            "391/391 [==============================] - 52s 133ms/step - loss: 1.3124 - accuracy: 0.4653 - val_loss: 1.1490 - val_accuracy: 0.6523\n",
            "Epoch 71/150\n",
            "391/391 [==============================] - 53s 135ms/step - loss: 1.2339 - accuracy: 0.4942 - val_loss: 1.0092 - val_accuracy: 0.6956\n",
            "Epoch 72/150\n",
            "391/391 [==============================] - 53s 135ms/step - loss: 1.1590 - accuracy: 0.5198 - val_loss: 0.9092 - val_accuracy: 0.7550\n",
            "Epoch 73/150\n",
            "391/391 [==============================] - 53s 135ms/step - loss: 1.1532 - accuracy: 0.5166 - val_loss: 1.0186 - val_accuracy: 0.7068\n",
            "Epoch 74/150\n",
            "391/391 [==============================] - 53s 135ms/step - loss: 1.2413 - accuracy: 0.4826 - val_loss: 1.1664 - val_accuracy: 0.6355\n",
            "Epoch 75/150\n",
            "391/391 [==============================] - 53s 135ms/step - loss: 1.3278 - accuracy: 0.4546 - val_loss: 1.2325 - val_accuracy: 0.6077\n",
            "Epoch 76/150\n",
            "391/391 [==============================] - 52s 133ms/step - loss: 1.3080 - accuracy: 0.4671 - val_loss: 1.1612 - val_accuracy: 0.6724\n",
            "Epoch 77/150\n",
            "391/391 [==============================] - 53s 136ms/step - loss: 1.2292 - accuracy: 0.4951 - val_loss: 1.0012 - val_accuracy: 0.7249\n",
            "Epoch 78/150\n",
            "391/391 [==============================] - 52s 133ms/step - loss: 1.1503 - accuracy: 0.5226 - val_loss: 0.8965 - val_accuracy: 0.7606\n",
            "Epoch 79/150\n",
            "391/391 [==============================] - 53s 135ms/step - loss: 1.1482 - accuracy: 0.5217 - val_loss: 0.9982 - val_accuracy: 0.7265\n",
            "Epoch 80/150\n",
            "391/391 [==============================] - 53s 135ms/step - loss: 1.2342 - accuracy: 0.4870 - val_loss: 1.1407 - val_accuracy: 0.6626\n",
            "Epoch 81/150\n",
            "391/391 [==============================] - 53s 134ms/step - loss: 1.3217 - accuracy: 0.4576 - val_loss: 1.1300 - val_accuracy: 0.6688\n",
            "Epoch 82/150\n",
            "391/391 [==============================] - 52s 133ms/step - loss: 1.2991 - accuracy: 0.4701 - val_loss: 1.1154 - val_accuracy: 0.6790\n",
            "Epoch 83/150\n",
            "391/391 [==============================] - 52s 133ms/step - loss: 1.2242 - accuracy: 0.4961 - val_loss: 0.9787 - val_accuracy: 0.7299\n",
            "Epoch 84/150\n",
            "391/391 [==============================] - 53s 135ms/step - loss: 1.1463 - accuracy: 0.5247 - val_loss: 0.9022 - val_accuracy: 0.7628\n",
            "Epoch 85/150\n",
            "391/391 [==============================] - 53s 134ms/step - loss: 1.1430 - accuracy: 0.5241 - val_loss: 1.0178 - val_accuracy: 0.7078\n",
            "Epoch 86/150\n",
            "391/391 [==============================] - 53s 135ms/step - loss: 1.2310 - accuracy: 0.4850 - val_loss: 1.1819 - val_accuracy: 0.6371\n",
            "Epoch 87/150\n",
            "391/391 [==============================] - 53s 134ms/step - loss: 1.3180 - accuracy: 0.4569 - val_loss: 1.1456 - val_accuracy: 0.6602\n",
            "Epoch 88/150\n",
            "391/391 [==============================] - 52s 134ms/step - loss: 1.2974 - accuracy: 0.4715 - val_loss: 1.0864 - val_accuracy: 0.6943\n",
            "Epoch 89/150\n",
            "391/391 [==============================] - 53s 134ms/step - loss: 1.2166 - accuracy: 0.4984 - val_loss: 0.9673 - val_accuracy: 0.7416\n",
            "Epoch 90/150\n",
            "391/391 [==============================] - 52s 133ms/step - loss: 1.1409 - accuracy: 0.5267 - val_loss: 0.9009 - val_accuracy: 0.7593\n",
            "Epoch 91/150\n",
            "391/391 [==============================] - 53s 135ms/step - loss: 1.1414 - accuracy: 0.5227 - val_loss: 0.9993 - val_accuracy: 0.7029\n",
            "Epoch 92/150\n",
            "391/391 [==============================] - 53s 135ms/step - loss: 1.2325 - accuracy: 0.4879 - val_loss: 1.0691 - val_accuracy: 0.6904\n",
            "Epoch 93/150\n",
            "391/391 [==============================] - 52s 134ms/step - loss: 1.3145 - accuracy: 0.4592 - val_loss: 1.1137 - val_accuracy: 0.6714\n",
            "Epoch 94/150\n",
            "391/391 [==============================] - 52s 134ms/step - loss: 1.2912 - accuracy: 0.4753 - val_loss: 1.1675 - val_accuracy: 0.6450\n",
            "Epoch 95/150\n",
            "391/391 [==============================] - 53s 135ms/step - loss: 1.2135 - accuracy: 0.5019 - val_loss: 0.9760 - val_accuracy: 0.7306\n",
            "Epoch 96/150\n",
            "391/391 [==============================] - 52s 133ms/step - loss: 1.1344 - accuracy: 0.5285 - val_loss: 0.8894 - val_accuracy: 0.7585\n",
            "Epoch 97/150\n",
            "391/391 [==============================] - 52s 134ms/step - loss: 1.1374 - accuracy: 0.5225 - val_loss: 1.1030 - val_accuracy: 0.6503\n",
            "Epoch 98/150\n",
            "391/391 [==============================] - 52s 133ms/step - loss: 1.2275 - accuracy: 0.4867 - val_loss: 1.1289 - val_accuracy: 0.6487\n",
            "Epoch 99/150\n",
            "391/391 [==============================] - 52s 133ms/step - loss: 1.3140 - accuracy: 0.4616 - val_loss: 1.3043 - val_accuracy: 0.5754\n",
            "Epoch 100/150\n",
            "391/391 [==============================] - 52s 133ms/step - loss: 1.2824 - accuracy: 0.4773 - val_loss: 1.1213 - val_accuracy: 0.6541\n",
            "Epoch 101/150\n",
            "391/391 [==============================] - 52s 134ms/step - loss: 1.2065 - accuracy: 0.5029 - val_loss: 0.9599 - val_accuracy: 0.7414\n",
            "Epoch 102/150\n",
            "391/391 [==============================] - 52s 132ms/step - loss: 1.1290 - accuracy: 0.5308 - val_loss: 0.9030 - val_accuracy: 0.7589\n",
            "Epoch 103/150\n",
            "391/391 [==============================] - 52s 134ms/step - loss: 1.1341 - accuracy: 0.5247 - val_loss: 1.0291 - val_accuracy: 0.7041\n",
            "Epoch 104/150\n",
            "391/391 [==============================] - 52s 132ms/step - loss: 1.2240 - accuracy: 0.4890 - val_loss: 1.2289 - val_accuracy: 0.6273\n",
            "Epoch 105/150\n",
            "391/391 [==============================] - 52s 133ms/step - loss: 1.3104 - accuracy: 0.4612 - val_loss: 1.3182 - val_accuracy: 0.5634\n",
            "Epoch 106/150\n",
            "391/391 [==============================] - 52s 133ms/step - loss: 1.2829 - accuracy: 0.4758 - val_loss: 1.1447 - val_accuracy: 0.6752\n",
            "Epoch 107/150\n",
            "391/391 [==============================] - 52s 134ms/step - loss: 1.2021 - accuracy: 0.5044 - val_loss: 1.0291 - val_accuracy: 0.7157\n",
            "Epoch 108/150\n",
            "391/391 [==============================] - 52s 133ms/step - loss: 1.1221 - accuracy: 0.5335 - val_loss: 0.8877 - val_accuracy: 0.7642\n",
            "Epoch 109/150\n",
            "391/391 [==============================] - 52s 134ms/step - loss: 1.1280 - accuracy: 0.5273 - val_loss: 1.0224 - val_accuracy: 0.6938\n",
            "Epoch 110/150\n",
            "391/391 [==============================] - 52s 133ms/step - loss: 1.2222 - accuracy: 0.4894 - val_loss: 1.1937 - val_accuracy: 0.6268\n",
            "Epoch 111/150\n",
            "391/391 [==============================] - 52s 134ms/step - loss: 1.3069 - accuracy: 0.4651 - val_loss: 1.3985 - val_accuracy: 0.5491\n",
            "Epoch 112/150\n",
            "391/391 [==============================] - 52s 134ms/step - loss: 1.2799 - accuracy: 0.4739 - val_loss: 1.0577 - val_accuracy: 0.7076\n",
            "Epoch 113/150\n",
            "391/391 [==============================] - 53s 134ms/step - loss: 1.1973 - accuracy: 0.5065 - val_loss: 0.9537 - val_accuracy: 0.7423\n",
            "Epoch 114/150\n",
            "391/391 [==============================] - 54s 138ms/step - loss: 1.1214 - accuracy: 0.5337 - val_loss: 0.8861 - val_accuracy: 0.7597\n",
            "Epoch 115/150\n",
            "391/391 [==============================] - 52s 134ms/step - loss: 1.1258 - accuracy: 0.5277 - val_loss: 0.9584 - val_accuracy: 0.7214\n",
            "Epoch 116/150\n",
            "391/391 [==============================] - 52s 133ms/step - loss: 1.2199 - accuracy: 0.4899 - val_loss: 1.1321 - val_accuracy: 0.6643\n",
            "Epoch 117/150\n",
            "391/391 [==============================] - 52s 134ms/step - loss: 1.3059 - accuracy: 0.4632 - val_loss: 1.2395 - val_accuracy: 0.6264\n",
            "Epoch 118/150\n",
            "391/391 [==============================] - 52s 134ms/step - loss: 1.2740 - accuracy: 0.4792 - val_loss: 1.0682 - val_accuracy: 0.7038\n",
            "Epoch 119/150\n",
            "391/391 [==============================] - 52s 134ms/step - loss: 1.1955 - accuracy: 0.5084 - val_loss: 0.9521 - val_accuracy: 0.7507\n",
            "Epoch 120/150\n",
            "391/391 [==============================] - 52s 133ms/step - loss: 1.1165 - accuracy: 0.5355 - val_loss: 0.8796 - val_accuracy: 0.7666\n",
            "Epoch 121/150\n",
            "391/391 [==============================] - 52s 133ms/step - loss: 1.1223 - accuracy: 0.5292 - val_loss: 0.9786 - val_accuracy: 0.7260\n",
            "Epoch 122/150\n",
            "391/391 [==============================] - 52s 132ms/step - loss: 1.2178 - accuracy: 0.4916 - val_loss: 1.3130 - val_accuracy: 0.5862\n",
            "Epoch 123/150\n",
            "391/391 [==============================] - 52s 134ms/step - loss: 1.3030 - accuracy: 0.4664 - val_loss: 1.3596 - val_accuracy: 0.5847\n",
            "Epoch 124/150\n",
            "391/391 [==============================] - 52s 133ms/step - loss: 1.2723 - accuracy: 0.4800 - val_loss: 1.0791 - val_accuracy: 0.6827\n",
            "Epoch 125/150\n",
            "391/391 [==============================] - 52s 133ms/step - loss: 1.1910 - accuracy: 0.5089 - val_loss: 0.9629 - val_accuracy: 0.7353\n",
            "Epoch 126/150\n",
            "391/391 [==============================] - 52s 134ms/step - loss: 1.1117 - accuracy: 0.5376 - val_loss: 0.8784 - val_accuracy: 0.7666\n",
            "Epoch 127/150\n",
            "391/391 [==============================] - 52s 134ms/step - loss: 1.1190 - accuracy: 0.5308 - val_loss: 1.0071 - val_accuracy: 0.7046\n",
            "Epoch 128/150\n",
            "391/391 [==============================] - 52s 133ms/step - loss: 1.2150 - accuracy: 0.4937 - val_loss: 1.3593 - val_accuracy: 0.5641\n",
            "Epoch 129/150\n",
            "391/391 [==============================] - 52s 133ms/step - loss: 1.3008 - accuracy: 0.4673 - val_loss: 1.3141 - val_accuracy: 0.5770\n",
            "Epoch 130/150\n",
            "391/391 [==============================] - 52s 133ms/step - loss: 1.2664 - accuracy: 0.4819 - val_loss: 1.1912 - val_accuracy: 0.6381\n",
            "Epoch 131/150\n",
            "391/391 [==============================] - 52s 134ms/step - loss: 1.1876 - accuracy: 0.5100 - val_loss: 0.9351 - val_accuracy: 0.7387\n",
            "Epoch 132/150\n",
            "391/391 [==============================] - 52s 133ms/step - loss: 1.1088 - accuracy: 0.5380 - val_loss: 0.8918 - val_accuracy: 0.7615\n",
            "Epoch 133/150\n",
            "391/391 [==============================] - 52s 133ms/step - loss: 1.1188 - accuracy: 0.5305 - val_loss: 1.0012 - val_accuracy: 0.7081\n",
            "Epoch 134/150\n",
            "391/391 [==============================] - 52s 133ms/step - loss: 1.2144 - accuracy: 0.4951 - val_loss: 1.5605 - val_accuracy: 0.4595\n",
            "Epoch 135/150\n",
            "391/391 [==============================] - 52s 134ms/step - loss: 1.2973 - accuracy: 0.4676 - val_loss: 1.1716 - val_accuracy: 0.6365\n",
            "Epoch 136/150\n",
            "391/391 [==============================] - 52s 133ms/step - loss: 1.2622 - accuracy: 0.4832 - val_loss: 1.1378 - val_accuracy: 0.6715\n",
            "Epoch 137/150\n",
            "391/391 [==============================] - 52s 134ms/step - loss: 1.1862 - accuracy: 0.5118 - val_loss: 0.9474 - val_accuracy: 0.7471\n",
            "Epoch 138/150\n",
            "391/391 [==============================] - 52s 134ms/step - loss: 1.1058 - accuracy: 0.5404 - val_loss: 0.8791 - val_accuracy: 0.7690\n",
            "Epoch 139/150\n",
            "391/391 [==============================] - 52s 134ms/step - loss: 1.1173 - accuracy: 0.5303 - val_loss: 0.9442 - val_accuracy: 0.7400\n",
            "Epoch 140/150\n",
            "391/391 [==============================] - 52s 134ms/step - loss: 1.2110 - accuracy: 0.4931 - val_loss: 1.1456 - val_accuracy: 0.6480\n",
            "Epoch 141/150\n",
            "391/391 [==============================] - 53s 135ms/step - loss: 1.2982 - accuracy: 0.4647 - val_loss: 1.2135 - val_accuracy: 0.6320\n",
            "Epoch 142/150\n",
            "391/391 [==============================] - 52s 133ms/step - loss: 1.2624 - accuracy: 0.4836 - val_loss: 1.0599 - val_accuracy: 0.6921\n",
            "Epoch 143/150\n",
            "391/391 [==============================] - 52s 134ms/step - loss: 1.1848 - accuracy: 0.5122 - val_loss: 0.9841 - val_accuracy: 0.7312\n",
            "Epoch 144/150\n",
            "391/391 [==============================] - 52s 133ms/step - loss: 1.1042 - accuracy: 0.5384 - val_loss: 0.8890 - val_accuracy: 0.7632\n",
            "Epoch 145/150\n",
            "391/391 [==============================] - 53s 134ms/step - loss: 1.1146 - accuracy: 0.5343 - val_loss: 1.0141 - val_accuracy: 0.7113\n",
            "Epoch 146/150\n",
            "391/391 [==============================] - 52s 134ms/step - loss: 1.2111 - accuracy: 0.4952 - val_loss: 1.1144 - val_accuracy: 0.6670\n",
            "Epoch 147/150\n",
            "391/391 [==============================] - 52s 134ms/step - loss: 1.2941 - accuracy: 0.4668 - val_loss: 1.2390 - val_accuracy: 0.6225\n",
            "Epoch 148/150\n",
            "391/391 [==============================] - 52s 133ms/step - loss: 1.2585 - accuracy: 0.4825 - val_loss: 1.0124 - val_accuracy: 0.7265\n",
            "Epoch 149/150\n",
            "391/391 [==============================] - 52s 134ms/step - loss: 1.1823 - accuracy: 0.5131 - val_loss: 0.9403 - val_accuracy: 0.7460\n",
            "Epoch 150/150\n",
            " 94/391 [======>.......................] - ETA: 37s - loss: 1.1196 - accuracy: 0.5360Buffered data was truncated after reaching the output size limit."
          ],
          "name": "stdout"
        }
      ]
    },
    {
      "cell_type": "code",
      "metadata": {
        "id": "pie-EB9FKtIo",
        "colab_type": "code",
        "colab": {
          "base_uri": "https://localhost:8080/",
          "height": 54
        },
        "outputId": "41ae0332-f92d-4836-d606-09136506707e"
      },
      "source": [
        "# Buffer limit reached for the output on the previous cell, thus evaluate\n",
        "resnet_20_original.evaluate(x=test, batch_size=128)"
      ],
      "execution_count": null,
      "outputs": [
        {
          "output_type": "stream",
          "text": [
            "79/79 [==============================] - 2s 25ms/step - loss: 0.8948 - accuracy: 0.7658\n"
          ],
          "name": "stdout"
        },
        {
          "output_type": "execute_result",
          "data": {
            "text/plain": [
              "[0.8948258757591248, 0.7657999992370605]"
            ]
          },
          "metadata": {
            "tags": []
          },
          "execution_count": 14
        }
      ]
    },
    {
      "cell_type": "code",
      "metadata": {
        "id": "cs8TXRpPwfRb",
        "colab_type": "code",
        "colab": {
          "base_uri": "https://localhost:8080/",
          "height": 54
        },
        "outputId": "79a9931a-90b8-49a6-c768-4f44fedbd23b"
      },
      "source": [
        "resnet_20_original.evaluate(x=train, batch_size=128)"
      ],
      "execution_count": null,
      "outputs": [
        {
          "output_type": "stream",
          "text": [
            "391/391 [==============================] - 9s 24ms/step - loss: 0.8812 - accuracy: 0.7871\n"
          ],
          "name": "stdout"
        },
        {
          "output_type": "execute_result",
          "data": {
            "text/plain": [
              "[0.8811555504798889, 0.7871000170707703]"
            ]
          },
          "metadata": {
            "tags": []
          },
          "execution_count": 15
        }
      ]
    },
    {
      "cell_type": "code",
      "metadata": {
        "id": "yjCOyKJOwjEK",
        "colab_type": "code",
        "colab": {
          "base_uri": "https://localhost:8080/",
          "height": 165
        },
        "outputId": "1d390c9b-a21d-4ec3-99c8-8964a41b0ac6"
      },
      "source": [
        "# Save model\n",
        "resnet_20_original.save('/content/resnet20_relu') "
      ],
      "execution_count": null,
      "outputs": [
        {
          "output_type": "stream",
          "text": [
            "WARNING:tensorflow:From /usr/local/lib/python3.6/dist-packages/tensorflow/python/training/tracking/tracking.py:111: Model.state_updates (from tensorflow.python.keras.engine.training) is deprecated and will be removed in a future version.\n",
            "Instructions for updating:\n",
            "This property should not be used in TensorFlow 2.0, as updates are applied automatically.\n",
            "WARNING:tensorflow:From /usr/local/lib/python3.6/dist-packages/tensorflow/python/training/tracking/tracking.py:111: Layer.updates (from tensorflow.python.keras.engine.base_layer) is deprecated and will be removed in a future version.\n",
            "Instructions for updating:\n",
            "This property should not be used in TensorFlow 2.0, as updates are applied automatically.\n",
            "INFO:tensorflow:Assets written to: /content/resnet20_relu/assets\n"
          ],
          "name": "stdout"
        }
      ]
    },
    {
      "cell_type": "code",
      "metadata": {
        "id": "z-s_tVLXw-zx",
        "colab_type": "code",
        "colab": {
          "base_uri": "https://localhost:8080/",
          "height": 126
        },
        "outputId": "3f06d99e-9473-430e-b037-d6f24fc72cb0"
      },
      "source": [
        "!zip -r resnet20_relu.zip /content/resnet20_relu"
      ],
      "execution_count": null,
      "outputs": [
        {
          "output_type": "stream",
          "text": [
            "  adding: content/resnet20_relu/ (stored 0%)\n",
            "  adding: content/resnet20_relu/saved_model.pb (deflated 92%)\n",
            "  adding: content/resnet20_relu/variables/ (stored 0%)\n",
            "  adding: content/resnet20_relu/variables/variables.data-00000-of-00001 (deflated 10%)\n",
            "  adding: content/resnet20_relu/variables/variables.index (deflated 76%)\n",
            "  adding: content/resnet20_relu/assets/ (stored 0%)\n"
          ],
          "name": "stdout"
        }
      ]
    },
    {
      "cell_type": "code",
      "metadata": {
        "id": "lPhJav9WwzG2",
        "colab_type": "code",
        "colab": {
          "base_uri": "https://localhost:8080/",
          "height": 17
        },
        "outputId": "2bbcea15-73fa-4d4b-8bd0-5d0e8e7b8665"
      },
      "source": [
        "from google.colab import files\n",
        "files.download('/content/resnet20_relu.zip')"
      ],
      "execution_count": null,
      "outputs": [
        {
          "output_type": "display_data",
          "data": {
            "application/javascript": [
              "\n",
              "    async function download(id, filename, size) {\n",
              "      if (!google.colab.kernel.accessAllowed) {\n",
              "        return;\n",
              "      }\n",
              "      const div = document.createElement('div');\n",
              "      const label = document.createElement('label');\n",
              "      label.textContent = `Downloading \"${filename}\": `;\n",
              "      div.appendChild(label);\n",
              "      const progress = document.createElement('progress');\n",
              "      progress.max = size;\n",
              "      div.appendChild(progress);\n",
              "      document.body.appendChild(div);\n",
              "\n",
              "      const buffers = [];\n",
              "      let downloaded = 0;\n",
              "\n",
              "      const channel = await google.colab.kernel.comms.open(id);\n",
              "      // Send a message to notify the kernel that we're ready.\n",
              "      channel.send({})\n",
              "\n",
              "      for await (const message of channel.messages) {\n",
              "        // Send a message to notify the kernel that we're ready.\n",
              "        channel.send({})\n",
              "        if (message.buffers) {\n",
              "          for (const buffer of message.buffers) {\n",
              "            buffers.push(buffer);\n",
              "            downloaded += buffer.byteLength;\n",
              "            progress.value = downloaded;\n",
              "          }\n",
              "        }\n",
              "      }\n",
              "      const blob = new Blob(buffers, {type: 'application/binary'});\n",
              "      const a = document.createElement('a');\n",
              "      a.href = window.URL.createObjectURL(blob);\n",
              "      a.download = filename;\n",
              "      div.appendChild(a);\n",
              "      a.click();\n",
              "      div.remove();\n",
              "    }\n",
              "  "
            ],
            "text/plain": [
              "<IPython.core.display.Javascript object>"
            ]
          },
          "metadata": {
            "tags": []
          }
        },
        {
          "output_type": "display_data",
          "data": {
            "application/javascript": [
              "download(\"download_3aa37c21-d25c-4868-91f5-411fa6e0f7a7\", \"resnet20_relu.zip\", 1239711)"
            ],
            "text/plain": [
              "<IPython.core.display.Javascript object>"
            ]
          },
          "metadata": {
            "tags": []
          }
        }
      ]
    },
    {
      "cell_type": "markdown",
      "metadata": {
        "id": "lOB2MvLux_ke",
        "colab_type": "text"
      },
      "source": [
        "## Adversariall train resnet20 with kafs"
      ]
    },
    {
      "cell_type": "code",
      "metadata": {
        "id": "ttdJTl9gxNwg",
        "colab_type": "code",
        "colab": {}
      },
      "source": [
        "resnet_20_kafs = resnet20(is_kaf=True)"
      ],
      "execution_count": 8,
      "outputs": []
    },
    {
      "cell_type": "code",
      "metadata": {
        "id": "jXJd93PFOvkg",
        "colab_type": "code",
        "colab": {}
      },
      "source": [
        "def scheduler(epoch, lr):\n",
        "  if epoch ==  60:\n",
        "    lr = lr/10\n",
        "  elif epoch == 100:\n",
        "    lr = lr/10\n",
        "  else:\n",
        "    lr = lr\n",
        "  return lr\n",
        "lr_callback = tf.keras.callbacks.LearningRateScheduler(scheduler) "
      ],
      "execution_count": 9,
      "outputs": []
    },
    {
      "cell_type": "code",
      "metadata": {
        "id": "MNOp4mViyMi5",
        "colab_type": "code",
        "colab": {}
      },
      "source": [
        "resnet_20_kafs.compile(\n",
        "              optimizer = tf.keras.optimizers.SGD(learning_rate=0.1, momentum=0.9),\n",
        "              loss=tf.keras.losses.SparseCategoricalCrossentropy(from_logits=False),\n",
        "              metrics=['accuracy']\n",
        "              )"
      ],
      "execution_count": 10,
      "outputs": []
    },
    {
      "cell_type": "code",
      "metadata": {
        "id": "ltsX8fxxO6Vx",
        "colab_type": "code",
        "colab": {
          "base_uri": "https://localhost:8080/",
          "height": 926
        },
        "outputId": "69576c15-2714-45f6-b31a-5af96b9176da"
      },
      "source": [
        "history = resnet_20_kafs.fit(x = train, epochs=150, validation_data=test, callbacks=[lr_callback])"
      ],
      "execution_count": null,
      "outputs": [
        {
          "output_type": "stream",
          "text": [
            "Epoch 1/150\n",
            "391/391 [==============================] - 136s 347ms/step - loss: 3.2148 - accuracy: 0.1637 - val_loss: 2.7587 - val_accuracy: 0.2241\n",
            "Epoch 2/150\n",
            "391/391 [==============================] - 135s 345ms/step - loss: 2.4767 - accuracy: 0.2372 - val_loss: 2.3615 - val_accuracy: 0.2787\n",
            "Epoch 3/150\n",
            "391/391 [==============================] - 135s 344ms/step - loss: 2.1166 - accuracy: 0.2624 - val_loss: 2.0560 - val_accuracy: 0.3069\n",
            "Epoch 4/150\n",
            "391/391 [==============================] - 134s 344ms/step - loss: 1.9362 - accuracy: 0.2867 - val_loss: 1.8549 - val_accuracy: 0.3789\n",
            "Epoch 5/150\n",
            "391/391 [==============================] - 135s 344ms/step - loss: 1.8320 - accuracy: 0.3020 - val_loss: 1.8485 - val_accuracy: 0.3583\n",
            "Epoch 6/150\n",
            "391/391 [==============================] - 134s 344ms/step - loss: 1.7561 - accuracy: 0.3199 - val_loss: 1.6632 - val_accuracy: 0.4221\n",
            "Epoch 7/150\n",
            "391/391 [==============================] - 134s 344ms/step - loss: 1.7049 - accuracy: 0.3333 - val_loss: 1.7565 - val_accuracy: 0.4057\n",
            "Epoch 8/150\n",
            "391/391 [==============================] - 134s 344ms/step - loss: 1.6615 - accuracy: 0.3444 - val_loss: 1.6429 - val_accuracy: 0.4325\n",
            "Epoch 9/150\n",
            "391/391 [==============================] - 135s 344ms/step - loss: 1.6258 - accuracy: 0.3567 - val_loss: 1.7082 - val_accuracy: 0.4057\n",
            "Epoch 10/150\n",
            "391/391 [==============================] - 134s 344ms/step - loss: 1.5941 - accuracy: 0.3687 - val_loss: 1.5631 - val_accuracy: 0.4449\n",
            "Epoch 11/150\n",
            "391/391 [==============================] - 134s 344ms/step - loss: 1.5820 - accuracy: 0.3747 - val_loss: 1.7061 - val_accuracy: 0.4306\n",
            "Epoch 12/150\n",
            "391/391 [==============================] - 135s 344ms/step - loss: 1.5630 - accuracy: 0.3766 - val_loss: 1.6593 - val_accuracy: 0.4339\n",
            "Epoch 13/150\n",
            "391/391 [==============================] - 135s 345ms/step - loss: 1.5414 - accuracy: 0.3924 - val_loss: 1.4355 - val_accuracy: 0.5318\n",
            "Epoch 14/150\n",
            "391/391 [==============================] - 135s 344ms/step - loss: 1.4629 - accuracy: 0.4344 - val_loss: 2.5951 - val_accuracy: 0.2976\n",
            "Epoch 15/150\n",
            "391/391 [==============================] - 134s 344ms/step - loss: 1.2885 - accuracy: 0.6886 - val_loss: 3.2836 - val_accuracy: 0.2197\n",
            "Epoch 16/150\n",
            "391/391 [==============================] - 134s 343ms/step - loss: 1.7735 - accuracy: 0.3560 - val_loss: 2.1506 - val_accuracy: 0.3297\n",
            "Epoch 17/150\n",
            "391/391 [==============================] - 134s 342ms/step - loss: 1.5715 - accuracy: 0.3937 - val_loss: 1.4044 - val_accuracy: 0.5678\n",
            "Epoch 18/150\n",
            "391/391 [==============================] - 134s 342ms/step - loss: 1.5225 - accuracy: 0.3983 - val_loss: 1.5084 - val_accuracy: 0.5143\n",
            "Epoch 19/150\n",
            "391/391 [==============================] - 134s 342ms/step - loss: 1.5040 - accuracy: 0.4017 - val_loss: 1.5003 - val_accuracy: 0.5317\n",
            "Epoch 20/150\n",
            "391/391 [==============================] - 134s 342ms/step - loss: 1.4935 - accuracy: 0.4039 - val_loss: 1.5912 - val_accuracy: 0.4830\n",
            "Epoch 21/150\n",
            "391/391 [==============================] - 134s 343ms/step - loss: 1.4853 - accuracy: 0.4102 - val_loss: 1.4618 - val_accuracy: 0.5125\n",
            "Epoch 22/150\n",
            "391/391 [==============================] - 134s 342ms/step - loss: 1.4854 - accuracy: 0.4079 - val_loss: 1.4343 - val_accuracy: 0.5608\n",
            "Epoch 23/150\n",
            "391/391 [==============================] - 134s 343ms/step - loss: 1.4757 - accuracy: 0.4117 - val_loss: 1.4482 - val_accuracy: 0.5283\n",
            "Epoch 24/150\n",
            "391/391 [==============================] - 134s 342ms/step - loss: 1.4710 - accuracy: 0.4154 - val_loss: 1.4140 - val_accuracy: 0.5736\n",
            "Epoch 25/150\n",
            "176/391 [============>.................] - ETA: 1:10 - loss: 1.4663 - accuracy: 0.4170"
          ],
          "name": "stdout"
        }
      ]
    },
    {
      "cell_type": "code",
      "metadata": {
        "id": "zgqHRE4eqbIJ",
        "colab_type": "code",
        "colab": {
          "base_uri": "https://localhost:8080/",
          "height": 126
        },
        "outputId": "95e0e443-e2f1-4679-864a-fd7fbdd2b11d"
      },
      "source": [
        "# Find an approx for the optimal lr range to cycle through\n",
        "from lr_finder import LRFinder\n",
        "lr_finder = LRFinder()\n",
        "\n",
        "_ = resnet_20_kafs.fit(train, batch_size=128, epochs=4, callbacks=[lr_finder], verbose=True)"
      ],
      "execution_count": 18,
      "outputs": [
        {
          "output_type": "stream",
          "text": [
            "Epoch 1/4\n",
            "391/391 [==============================] - 271s 692ms/step - loss: 2.6726 - accuracy: 0.1000\n",
            "Epoch 2/4\n",
            "391/391 [==============================] - 271s 693ms/step - loss: 2.6716 - accuracy: 0.0996\n",
            "Epoch 3/4\n",
            "391/391 [==============================] - 270s 691ms/step - loss: 143.0112 - accuracy: 0.1071\n"
          ],
          "name": "stdout"
        }
      ]
    },
    {
      "cell_type": "code",
      "metadata": {
        "id": "S7dZOEe-KZni",
        "colab_type": "code",
        "colab": {
          "base_uri": "https://localhost:8080/",
          "height": 298
        },
        "outputId": "3eac4779-d3f6-4f03-d1c0-0d62ba80230c"
      },
      "source": [
        "lr_finder.plot()"
      ],
      "execution_count": 20,
      "outputs": [
        {
          "output_type": "error",
          "ename": "NameError",
          "evalue": "ignored",
          "traceback": [
            "\u001b[0;31m---------------------------------------------------------------------------\u001b[0m",
            "\u001b[0;31mNameError\u001b[0m                                 Traceback (most recent call last)",
            "\u001b[0;32m<ipython-input-20-69a60b1d21e9>\u001b[0m in \u001b[0;36m<module>\u001b[0;34m()\u001b[0m\n\u001b[0;32m----> 1\u001b[0;31m \u001b[0mlr_finder\u001b[0m\u001b[0;34m.\u001b[0m\u001b[0mplot\u001b[0m\u001b[0;34m(\u001b[0m\u001b[0;34m)\u001b[0m\u001b[0;34m\u001b[0m\u001b[0;34m\u001b[0m\u001b[0m\n\u001b[0m",
            "\u001b[0;32m/content/lr_finder.py\u001b[0m in \u001b[0;36mplot\u001b[0;34m(self)\u001b[0m\n\u001b[1;32m     50\u001b[0m         \u001b[0;32mreturn\u001b[0m \u001b[0mself\u001b[0m\u001b[0;34m.\u001b[0m\u001b[0mstart_lr\u001b[0m \u001b[0;34m*\u001b[0m \u001b[0;34m(\u001b[0m\u001b[0mself\u001b[0m\u001b[0;34m.\u001b[0m\u001b[0mend_lr\u001b[0m \u001b[0;34m/\u001b[0m \u001b[0mself\u001b[0m\u001b[0;34m.\u001b[0m\u001b[0mstart_lr\u001b[0m\u001b[0;34m)\u001b[0m \u001b[0;34m**\u001b[0m \u001b[0;34m(\u001b[0m\u001b[0mstep\u001b[0m \u001b[0;34m*\u001b[0m \u001b[0;36m1.\u001b[0m \u001b[0;34m/\u001b[0m \u001b[0mself\u001b[0m\u001b[0;34m.\u001b[0m\u001b[0mmax_steps\u001b[0m\u001b[0;34m)\u001b[0m\u001b[0;34m\u001b[0m\u001b[0;34m\u001b[0m\u001b[0m\n\u001b[1;32m     51\u001b[0m \u001b[0;34m\u001b[0m\u001b[0m\n\u001b[0;32m---> 52\u001b[0;31m     \u001b[0;32mdef\u001b[0m \u001b[0mplot\u001b[0m\u001b[0;34m(\u001b[0m\u001b[0mself\u001b[0m\u001b[0;34m)\u001b[0m\u001b[0;34m:\u001b[0m\u001b[0;34m\u001b[0m\u001b[0;34m\u001b[0m\u001b[0m\n\u001b[0m\u001b[1;32m     53\u001b[0m         \u001b[0mfig\u001b[0m\u001b[0;34m,\u001b[0m \u001b[0max\u001b[0m \u001b[0;34m=\u001b[0m \u001b[0mplt\u001b[0m\u001b[0;34m.\u001b[0m\u001b[0msubplots\u001b[0m\u001b[0;34m(\u001b[0m\u001b[0;36m1\u001b[0m\u001b[0;34m,\u001b[0m \u001b[0;36m1\u001b[0m\u001b[0;34m)\u001b[0m\u001b[0;34m\u001b[0m\u001b[0;34m\u001b[0m\u001b[0m\n\u001b[1;32m     54\u001b[0m         \u001b[0max\u001b[0m\u001b[0;34m.\u001b[0m\u001b[0mset_ylabel\u001b[0m\u001b[0;34m(\u001b[0m\u001b[0;34m'Loss'\u001b[0m\u001b[0;34m)\u001b[0m\u001b[0;34m\u001b[0m\u001b[0;34m\u001b[0m\u001b[0m\n",
            "\u001b[0;31mNameError\u001b[0m: name 'plt' is not defined"
          ]
        }
      ]
    },
    {
      "cell_type": "code",
      "metadata": {
        "id": "201nzqlhsdjR",
        "colab_type": "code",
        "colab": {}
      },
      "source": [
        "x_train, y_train = normalize(x_train, y_train)"
      ],
      "execution_count": null,
      "outputs": []
    },
    {
      "cell_type": "code",
      "metadata": {
        "id": "pMwX4wWCsDI2",
        "colab_type": "code",
        "colab": {
          "base_uri": "https://localhost:8080/",
          "height": 199
        },
        "outputId": "58a05262-93b3-4834-df15-f1fa14907a05"
      },
      "source": [
        "lr_finder.find(x_train, y_train, start_lr=0.00001, end_lr=3, batch_size=128, epochs=5)"
      ],
      "execution_count": null,
      "outputs": [
        {
          "output_type": "stream",
          "text": [
            "Epoch 1/5\n",
            "391/391 [==============================] - 86s 220ms/step - loss: 2.6703 - accuracy: 0.1007\n",
            "Epoch 2/5\n",
            "391/391 [==============================] - 86s 220ms/step - loss: 2.6701 - accuracy: 0.0989\n",
            "Epoch 3/5\n",
            "391/391 [==============================] - 86s 219ms/step - loss: 2.6690 - accuracy: 0.1010\n",
            "Epoch 4/5\n",
            "391/391 [==============================] - 86s 219ms/step - loss: 2.6414 - accuracy: 0.1151\n",
            "Epoch 5/5\n",
            "391/391 [==============================] - 86s 219ms/step - loss: 2.3270 - accuracy: 0.2129\n"
          ],
          "name": "stdout"
        }
      ]
    },
    {
      "cell_type": "code",
      "metadata": {
        "id": "GC1kALTbvqWp",
        "colab_type": "code",
        "colab": {
          "base_uri": "https://localhost:8080/",
          "height": 283
        },
        "outputId": "daf70eb8-7cb8-44c0-a9b1-b2189ed3139d"
      },
      "source": [
        "# Plot the loss, ignore 20 batches in the beginning and 5 in the end\n",
        "lr_finder.plot_loss(n_skip_beginning=20, n_skip_end=5)"
      ],
      "execution_count": null,
      "outputs": [
        {
          "output_type": "display_data",
          "data": {
            "image/png": "[encoded data removed]",
            "text/plain": [
              "<Figure size 432x288 with 1 Axes>"
            ]
          },
          "metadata": {
            "tags": [],
            "needs_background": "light"
          }
        }
      ]
    },
    {
      "cell_type": "code",
      "metadata": {
        "id": "pSbvmeH3vvg6",
        "colab_type": "code",
        "colab": {
          "base_uri": "https://localhost:8080/",
          "height": 287
        },
        "outputId": "e2b3934a-7745-4c90-b2ab-26faf8caec14"
      },
      "source": [
        "# Plot rate of change of the loss\n",
        "# Ignore 20 batches in the beginning and 5 in the end\n",
        "# Smooth the curve using simple moving average of 20 batches\n",
        "# Limit the range for y axis to (-0.02, 0.01)\n",
        "lr_finder.plot_loss_change(sma=20, n_skip_beginning=20, n_skip_end=5, y_lim=(-0.01, 0.01))"
      ],
      "execution_count": null,
      "outputs": [
        {
          "output_type": "display_data",
          "data": {
            "image/png": "[encoded data removed]",
            "text/plain": [
              "<Figure size 432x288 with 1 Axes>"
            ]
          },
          "metadata": {
            "tags": [],
            "needs_background": "light"
          }
        }
      ]
    },
    {
      "cell_type": "code",
      "metadata": {
        "id": "X9scawlz0Fc4",
        "colab_type": "code",
        "colab": {
          "base_uri": "https://localhost:8080/",
          "height": 35
        },
        "outputId": "1e4217e5-37c6-4157-f219-a9924d17cd67"
      },
      "source": [
        "!git clone https://github.com/bckenstler/CLR.git"
      ],
      "execution_count": null,
      "outputs": [
        {
          "output_type": "stream",
          "text": [
            "fatal: destination path 'CLR' already exists and is not an empty directory.\n"
          ],
          "name": "stdout"
        }
      ]
    },
    {
      "cell_type": "code",
      "metadata": {
        "id": "f4729mgDqton",
        "colab_type": "code",
        "colab": {
          "base_uri": "https://localhost:8080/",
          "height": 1000
        },
        "outputId": "81299bb8-9a9f-4a8f-bc36-b6ddda77fc3a"
      },
      "source": [
        "from CLR.clr_callback import CyclicLR\n",
        "# Set CLR options\n",
        "step_size = int(3 * (50000/128))\n",
        "base_lr = 0.1\n",
        "max_lr = 1\n",
        "mode='triangular'\n",
        "\n",
        "# Define the callback\n",
        "clr = CyclicLR(base_lr=base_lr, max_lr=max_lr, step_size=step_size, mode=mode)\n",
        "\n",
        "resnet_20_kafs.fit(x=train, epochs = 100, batch_size=128, validation_data=test)"
      ],
      "execution_count": null,
      "outputs": [
        {
          "output_type": "stream",
          "text": [
            "Epoch 1/100\n",
            "391/391 [==============================] - 90s 230ms/step - loss: 2.6670 - accuracy: 0.1002 - val_loss: 2.6656 - val_accuracy: 0.0998\n",
            "Epoch 2/100\n",
            "391/391 [==============================] - 90s 230ms/step - loss: 2.6646 - accuracy: 0.1008 - val_loss: 2.6630 - val_accuracy: 0.1051\n",
            "Epoch 3/100\n",
            "391/391 [==============================] - 90s 231ms/step - loss: 2.6622 - accuracy: 0.1000 - val_loss: 2.6606 - val_accuracy: 0.1054\n",
            "Epoch 4/100\n",
            "391/391 [==============================] - 90s 231ms/step - loss: 2.6597 - accuracy: 0.1014 - val_loss: 2.6583 - val_accuracy: 0.1006\n",
            "Epoch 5/100\n",
            "391/391 [==============================] - 90s 230ms/step - loss: 2.6572 - accuracy: 0.0994 - val_loss: 2.6559 - val_accuracy: 0.1026\n",
            "Epoch 6/100\n",
            "391/391 [==============================] - 90s 231ms/step - loss: 2.6548 - accuracy: 0.0965 - val_loss: 2.6533 - val_accuracy: 0.1048\n",
            "Epoch 7/100\n",
            "391/391 [==============================] - 90s 231ms/step - loss: 2.6519 - accuracy: 0.1012 - val_loss: 2.6504 - val_accuracy: 0.1108\n",
            "Epoch 8/100\n",
            "391/391 [==============================] - 90s 231ms/step - loss: 2.6489 - accuracy: 0.1119 - val_loss: 2.6466 - val_accuracy: 0.1292\n",
            "Epoch 9/100\n",
            "391/391 [==============================] - 90s 230ms/step - loss: 2.6452 - accuracy: 0.1283 - val_loss: 2.6420 - val_accuracy: 0.1377\n",
            "Epoch 10/100\n",
            "391/391 [==============================] - 90s 231ms/step - loss: 2.6381 - accuracy: 0.1421 - val_loss: 2.6262 - val_accuracy: 0.1707\n",
            "Epoch 11/100\n",
            "391/391 [==============================] - 90s 230ms/step - loss: 2.6063 - accuracy: 0.1675 - val_loss: 2.5712 - val_accuracy: 0.1750\n",
            "Epoch 12/100\n",
            "391/391 [==============================] - 90s 231ms/step - loss: 2.5378 - accuracy: 0.1732 - val_loss: 2.5438 - val_accuracy: 0.1618\n",
            "Epoch 13/100\n",
            "391/391 [==============================] - 90s 231ms/step - loss: 2.4655 - accuracy: 0.1833 - val_loss: 2.4566 - val_accuracy: 0.1886\n",
            "Epoch 14/100\n",
            "391/391 [==============================] - 90s 230ms/step - loss: 2.4122 - accuracy: 0.1970 - val_loss: 2.3646 - val_accuracy: 0.2210\n",
            "Epoch 15/100\n",
            "391/391 [==============================] - 90s 230ms/step - loss: 2.3711 - accuracy: 0.2088 - val_loss: 2.3309 - val_accuracy: 0.2306\n",
            "Epoch 16/100\n",
            "391/391 [==============================] - 90s 230ms/step - loss: 2.3398 - accuracy: 0.2148 - val_loss: 2.2812 - val_accuracy: 0.2483\n",
            "Epoch 17/100\n",
            "391/391 [==============================] - 90s 229ms/step - loss: 2.3114 - accuracy: 0.2204 - val_loss: 2.2630 - val_accuracy: 0.2535\n",
            "Epoch 18/100\n",
            "391/391 [==============================] - 90s 230ms/step - loss: 2.2940 - accuracy: 0.2276 - val_loss: 2.2374 - val_accuracy: 0.2654\n",
            "Epoch 19/100\n",
            "391/391 [==============================] - 90s 229ms/step - loss: 2.2778 - accuracy: 0.2291 - val_loss: 2.2193 - val_accuracy: 0.2734\n",
            "Epoch 20/100\n",
            "391/391 [==============================] - 90s 229ms/step - loss: 2.2609 - accuracy: 0.2337 - val_loss: 2.1914 - val_accuracy: 0.3038\n",
            "Epoch 21/100\n",
            "391/391 [==============================] - 90s 230ms/step - loss: 2.2490 - accuracy: 0.2354 - val_loss: 2.1630 - val_accuracy: 0.3220\n",
            "Epoch 22/100\n",
            "391/391 [==============================] - 90s 230ms/step - loss: 2.2377 - accuracy: 0.2423 - val_loss: 2.1500 - val_accuracy: 0.3198\n",
            "Epoch 23/100\n",
            "391/391 [==============================] - 90s 230ms/step - loss: 2.2322 - accuracy: 0.2421 - val_loss: 2.1324 - val_accuracy: 0.3408\n",
            "Epoch 24/100\n",
            "391/391 [==============================] - 90s 229ms/step - loss: 2.2352 - accuracy: 0.2398 - val_loss: 2.1232 - val_accuracy: 0.3378\n",
            "Epoch 25/100\n",
            "391/391 [==============================] - 90s 230ms/step - loss: 2.2427 - accuracy: 0.2394 - val_loss: 2.1321 - val_accuracy: 0.3501\n",
            "Epoch 26/100\n",
            "391/391 [==============================] - 90s 229ms/step - loss: 2.2504 - accuracy: 0.2353 - val_loss: 2.1356 - val_accuracy: 0.3444\n",
            "Epoch 27/100\n",
            "391/391 [==============================] - 90s 229ms/step - loss: 2.2479 - accuracy: 0.2388 - val_loss: 2.1153 - val_accuracy: 0.3529\n",
            "Epoch 28/100\n",
            "391/391 [==============================] - 90s 229ms/step - loss: 2.2446 - accuracy: 0.2394 - val_loss: 2.1260 - val_accuracy: 0.3434\n",
            "Epoch 29/100\n",
            "391/391 [==============================] - 90s 230ms/step - loss: 2.2407 - accuracy: 0.2407 - val_loss: 2.1019 - val_accuracy: 0.3539\n",
            "Epoch 30/100\n",
            "391/391 [==============================] - 90s 230ms/step - loss: 2.2325 - accuracy: 0.2409 - val_loss: 2.1041 - val_accuracy: 0.3515\n",
            "Epoch 31/100\n",
            "391/391 [==============================] - 90s 230ms/step - loss: 2.2253 - accuracy: 0.2442 - val_loss: 2.0923 - val_accuracy: 0.3563\n",
            "Epoch 32/100\n",
            "391/391 [==============================] - 90s 230ms/step - loss: 2.2178 - accuracy: 0.2454 - val_loss: 2.0838 - val_accuracy: 0.3511\n",
            "Epoch 33/100\n",
            "391/391 [==============================] - 90s 230ms/step - loss: 2.2062 - accuracy: 0.2497 - val_loss: 2.0693 - val_accuracy: 0.3622\n",
            "Epoch 34/100\n",
            "391/391 [==============================] - 90s 230ms/step - loss: 2.1989 - accuracy: 0.2502 - val_loss: 2.0816 - val_accuracy: 0.3484\n",
            "Epoch 35/100\n",
            "391/391 [==============================] - 90s 230ms/step - loss: 2.1892 - accuracy: 0.2543 - val_loss: 2.0417 - val_accuracy: 0.3703\n",
            "Epoch 36/100\n",
            "391/391 [==============================] - 90s 230ms/step - loss: 2.1791 - accuracy: 0.2563 - val_loss: 2.0861 - val_accuracy: 0.3510\n",
            "Epoch 37/100\n",
            "391/391 [==============================] - 90s 230ms/step - loss: 2.1711 - accuracy: 0.2586 - val_loss: 2.0339 - val_accuracy: 0.3652\n",
            "Epoch 38/100\n",
            "391/391 [==============================] - 90s 230ms/step - loss: 2.1614 - accuracy: 0.2608 - val_loss: 2.0146 - val_accuracy: 0.3775\n",
            "Epoch 39/100\n",
            "391/391 [==============================] - 90s 229ms/step - loss: 2.1517 - accuracy: 0.2639 - val_loss: 2.0093 - val_accuracy: 0.3768\n",
            "Epoch 40/100\n",
            "391/391 [==============================] - 90s 229ms/step - loss: 2.1445 - accuracy: 0.2646 - val_loss: 2.0563 - val_accuracy: 0.3555\n",
            "Epoch 41/100\n",
            "391/391 [==============================] - 89s 229ms/step - loss: 2.1360 - accuracy: 0.2660 - val_loss: 2.0275 - val_accuracy: 0.3655\n",
            "Epoch 42/100\n",
            "391/391 [==============================] - 90s 230ms/step - loss: 2.1283 - accuracy: 0.2660 - val_loss: 1.9725 - val_accuracy: 0.3879\n",
            "Epoch 43/100\n",
            "391/391 [==============================] - 90s 230ms/step - loss: 2.1186 - accuracy: 0.2692 - val_loss: 1.9653 - val_accuracy: 0.3861\n",
            "Epoch 44/100\n",
            "391/391 [==============================] - 90s 229ms/step - loss: 2.1078 - accuracy: 0.2721 - val_loss: 1.9529 - val_accuracy: 0.3912\n",
            "Epoch 45/100\n",
            "391/391 [==============================] - 90s 230ms/step - loss: 2.1007 - accuracy: 0.2746 - val_loss: 2.0274 - val_accuracy: 0.3544\n",
            "Epoch 46/100\n",
            "391/391 [==============================] - 90s 231ms/step - loss: 2.0902 - accuracy: 0.2769 - val_loss: 1.9199 - val_accuracy: 0.4036\n",
            "Epoch 47/100\n",
            "391/391 [==============================] - 90s 231ms/step - loss: 2.0805 - accuracy: 0.2766 - val_loss: 1.9204 - val_accuracy: 0.4034\n",
            "Epoch 48/100\n",
            "391/391 [==============================] - 90s 231ms/step - loss: 2.0718 - accuracy: 0.2803 - val_loss: 1.9167 - val_accuracy: 0.3981\n",
            "Epoch 49/100\n",
            "391/391 [==============================] - 90s 231ms/step - loss: 2.0622 - accuracy: 0.2811 - val_loss: 1.8869 - val_accuracy: 0.4143\n",
            "Epoch 50/100\n",
            "  4/391 [..............................] - ETA: 1:04 - loss: 2.0153 - accuracy: 0.2852"
          ],
          "name": "stdout"
        }
      ]
    },
    {
      "cell_type": "code",
      "metadata": {
        "id": "jgNu5HGUwxp2",
        "colab_type": "code",
        "colab": {
          "base_uri": "https://localhost:8080/",
          "height": 867
        },
        "outputId": "542d47a9-1072-457b-96c8-e73b3d3b273f"
      },
      "source": [
        "# Set CLR options\n",
        "step_size = int(5 * (50000/128))\n",
        "base_lr = 0.01\n",
        "max_lr = 0.8\n",
        "mode='triangular'\n",
        "\n",
        "# Define the callback\n",
        "clr = CyclicLR(base_lr=base_lr, max_lr=max_lr, step_size=step_size, mode=mode)\n",
        "\n",
        "resnet_20_kafs.fit(x=train, epochs = 100, batch_size=128, validation_data=test)"
      ],
      "execution_count": null,
      "outputs": [
        {
          "output_type": "stream",
          "text": [
            "Epoch 1/100\n",
            "391/391 [==============================] - 91s 232ms/step - loss: 2.6687 - accuracy: 0.0978 - val_loss: 2.6672 - val_accuracy: 0.0983\n",
            "Epoch 2/100\n",
            "391/391 [==============================] - 90s 230ms/step - loss: 2.6662 - accuracy: 0.0979 - val_loss: 2.6650 - val_accuracy: 0.0945\n",
            "Epoch 3/100\n",
            "391/391 [==============================] - 90s 230ms/step - loss: 2.6637 - accuracy: 0.0969 - val_loss: 2.6623 - val_accuracy: 0.0978\n",
            "Epoch 4/100\n",
            "391/391 [==============================] - 90s 229ms/step - loss: 2.6610 - accuracy: 0.0994 - val_loss: 2.6595 - val_accuracy: 0.0970\n",
            "Epoch 5/100\n",
            "391/391 [==============================] - 90s 230ms/step - loss: 2.6583 - accuracy: 0.1050 - val_loss: 2.6564 - val_accuracy: 0.1096\n",
            "Epoch 6/100\n",
            "391/391 [==============================] - 90s 229ms/step - loss: 2.6552 - accuracy: 0.1067 - val_loss: 2.6533 - val_accuracy: 0.1122\n",
            "Epoch 7/100\n",
            "391/391 [==============================] - 90s 229ms/step - loss: 2.6514 - accuracy: 0.1166 - val_loss: 2.6473 - val_accuracy: 0.1353\n",
            "Epoch 8/100\n",
            "391/391 [==============================] - 89s 229ms/step - loss: 2.6443 - accuracy: 0.1312 - val_loss: 2.6359 - val_accuracy: 0.1433\n",
            "Epoch 9/100\n",
            "391/391 [==============================] - 90s 229ms/step - loss: 2.6180 - accuracy: 0.1509 - val_loss: 2.5759 - val_accuracy: 0.1848\n",
            "Epoch 10/100\n",
            "391/391 [==============================] - 90s 229ms/step - loss: 2.5426 - accuracy: 0.1781 - val_loss: 2.4794 - val_accuracy: 0.2020\n",
            "Epoch 11/100\n",
            "391/391 [==============================] - 90s 229ms/step - loss: 2.4701 - accuracy: 0.1807 - val_loss: 2.4087 - val_accuracy: 0.2185\n",
            "Epoch 12/100\n",
            "391/391 [==============================] - 90s 229ms/step - loss: 2.4199 - accuracy: 0.1952 - val_loss: 2.3541 - val_accuracy: 0.2317\n",
            "Epoch 13/100\n",
            "391/391 [==============================] - 90s 229ms/step - loss: 2.3879 - accuracy: 0.1975 - val_loss: 2.3348 - val_accuracy: 0.2408\n",
            "Epoch 14/100\n",
            "187/391 [=============>................] - ETA: 44s - loss: 2.3749 - accuracy: 0.2025"
          ],
          "name": "stdout"
        },
        {
          "output_type": "error",
          "ename": "KeyboardInterrupt",
          "evalue": "ignored",
          "traceback": [
            "\u001b[0;31m---------------------------------------------------------------------------\u001b[0m",
            "\u001b[0;31mKeyboardInterrupt\u001b[0m                         Traceback (most recent call last)",
            "\u001b[0;32m<ipython-input-23-667f613f9b4b>\u001b[0m in \u001b[0;36m<module>\u001b[0;34m()\u001b[0m\n\u001b[1;32m      8\u001b[0m \u001b[0mclr\u001b[0m \u001b[0;34m=\u001b[0m \u001b[0mCyclicLR\u001b[0m\u001b[0;34m(\u001b[0m\u001b[0mbase_lr\u001b[0m\u001b[0;34m=\u001b[0m\u001b[0mbase_lr\u001b[0m\u001b[0;34m,\u001b[0m \u001b[0mmax_lr\u001b[0m\u001b[0;34m=\u001b[0m\u001b[0mmax_lr\u001b[0m\u001b[0;34m,\u001b[0m \u001b[0mstep_size\u001b[0m\u001b[0;34m=\u001b[0m\u001b[0mstep_size\u001b[0m\u001b[0;34m,\u001b[0m \u001b[0mmode\u001b[0m\u001b[0;34m=\u001b[0m\u001b[0mmode\u001b[0m\u001b[0;34m)\u001b[0m\u001b[0;34m\u001b[0m\u001b[0;34m\u001b[0m\u001b[0m\n\u001b[1;32m      9\u001b[0m \u001b[0;34m\u001b[0m\u001b[0m\n\u001b[0;32m---> 10\u001b[0;31m \u001b[0mresnet_20_kafs\u001b[0m\u001b[0;34m.\u001b[0m\u001b[0mfit\u001b[0m\u001b[0;34m(\u001b[0m\u001b[0mx\u001b[0m\u001b[0;34m=\u001b[0m\u001b[0mtrain\u001b[0m\u001b[0;34m,\u001b[0m \u001b[0mepochs\u001b[0m \u001b[0;34m=\u001b[0m \u001b[0;36m100\u001b[0m\u001b[0;34m,\u001b[0m \u001b[0mbatch_size\u001b[0m\u001b[0;34m=\u001b[0m\u001b[0;36m128\u001b[0m\u001b[0;34m,\u001b[0m \u001b[0mvalidation_data\u001b[0m\u001b[0;34m=\u001b[0m\u001b[0mtest\u001b[0m\u001b[0;34m)\u001b[0m\u001b[0;34m\u001b[0m\u001b[0;34m\u001b[0m\u001b[0m\n\u001b[0m",
            "\u001b[0;32m/usr/local/lib/python3.6/dist-packages/tensorflow/python/keras/engine/training.py\u001b[0m in \u001b[0;36m_method_wrapper\u001b[0;34m(self, *args, **kwargs)\u001b[0m\n\u001b[1;32m    106\u001b[0m   \u001b[0;32mdef\u001b[0m \u001b[0m_method_wrapper\u001b[0m\u001b[0;34m(\u001b[0m\u001b[0mself\u001b[0m\u001b[0;34m,\u001b[0m \u001b[0;34m*\u001b[0m\u001b[0margs\u001b[0m\u001b[0;34m,\u001b[0m \u001b[0;34m**\u001b[0m\u001b[0mkwargs\u001b[0m\u001b[0;34m)\u001b[0m\u001b[0;34m:\u001b[0m\u001b[0;34m\u001b[0m\u001b[0;34m\u001b[0m\u001b[0m\n\u001b[1;32m    107\u001b[0m     \u001b[0;32mif\u001b[0m \u001b[0;32mnot\u001b[0m \u001b[0mself\u001b[0m\u001b[0;34m.\u001b[0m\u001b[0m_in_multi_worker_mode\u001b[0m\u001b[0;34m(\u001b[0m\u001b[0;34m)\u001b[0m\u001b[0;34m:\u001b[0m  \u001b[0;31m# pylint: disable=protected-access\u001b[0m\u001b[0;34m\u001b[0m\u001b[0;34m\u001b[0m\u001b[0m\n\u001b[0;32m--> 108\u001b[0;31m       \u001b[0;32mreturn\u001b[0m \u001b[0mmethod\u001b[0m\u001b[0;34m(\u001b[0m\u001b[0mself\u001b[0m\u001b[0;34m,\u001b[0m \u001b[0;34m*\u001b[0m\u001b[0margs\u001b[0m\u001b[0;34m,\u001b[0m \u001b[0;34m**\u001b[0m\u001b[0mkwargs\u001b[0m\u001b[0;34m)\u001b[0m\u001b[0;34m\u001b[0m\u001b[0;34m\u001b[0m\u001b[0m\n\u001b[0m\u001b[1;32m    109\u001b[0m \u001b[0;34m\u001b[0m\u001b[0m\n\u001b[1;32m    110\u001b[0m     \u001b[0;31m# Running inside `run_distribute_coordinator` already.\u001b[0m\u001b[0;34m\u001b[0m\u001b[0;34m\u001b[0m\u001b[0;34m\u001b[0m\u001b[0m\n",
            "\u001b[0;32m/usr/local/lib/python3.6/dist-packages/tensorflow/python/keras/engine/training.py\u001b[0m in \u001b[0;36mfit\u001b[0;34m(self, x, y, batch_size, epochs, verbose, callbacks, validation_split, validation_data, shuffle, class_weight, sample_weight, initial_epoch, steps_per_epoch, validation_steps, validation_batch_size, validation_freq, max_queue_size, workers, use_multiprocessing)\u001b[0m\n\u001b[1;32m   1096\u001b[0m                 batch_size=batch_size):\n\u001b[1;32m   1097\u001b[0m               \u001b[0mcallbacks\u001b[0m\u001b[0;34m.\u001b[0m\u001b[0mon_train_batch_begin\u001b[0m\u001b[0;34m(\u001b[0m\u001b[0mstep\u001b[0m\u001b[0;34m)\u001b[0m\u001b[0;34m\u001b[0m\u001b[0;34m\u001b[0m\u001b[0m\n\u001b[0;32m-> 1098\u001b[0;31m               \u001b[0mtmp_logs\u001b[0m \u001b[0;34m=\u001b[0m \u001b[0mtrain_function\u001b[0m\u001b[0;34m(\u001b[0m\u001b[0miterator\u001b[0m\u001b[0;34m)\u001b[0m\u001b[0;34m\u001b[0m\u001b[0;34m\u001b[0m\u001b[0m\n\u001b[0m\u001b[1;32m   1099\u001b[0m               \u001b[0;32mif\u001b[0m \u001b[0mdata_handler\u001b[0m\u001b[0;34m.\u001b[0m\u001b[0mshould_sync\u001b[0m\u001b[0;34m:\u001b[0m\u001b[0;34m\u001b[0m\u001b[0;34m\u001b[0m\u001b[0m\n\u001b[1;32m   1100\u001b[0m                 \u001b[0mcontext\u001b[0m\u001b[0;34m.\u001b[0m\u001b[0masync_wait\u001b[0m\u001b[0;34m(\u001b[0m\u001b[0;34m)\u001b[0m\u001b[0;34m\u001b[0m\u001b[0;34m\u001b[0m\u001b[0m\n",
            "\u001b[0;32m/usr/local/lib/python3.6/dist-packages/tensorflow/python/eager/def_function.py\u001b[0m in \u001b[0;36m__call__\u001b[0;34m(self, *args, **kwds)\u001b[0m\n\u001b[1;32m    778\u001b[0m       \u001b[0;32melse\u001b[0m\u001b[0;34m:\u001b[0m\u001b[0;34m\u001b[0m\u001b[0;34m\u001b[0m\u001b[0m\n\u001b[1;32m    779\u001b[0m         \u001b[0mcompiler\u001b[0m \u001b[0;34m=\u001b[0m \u001b[0;34m\"nonXla\"\u001b[0m\u001b[0;34m\u001b[0m\u001b[0;34m\u001b[0m\u001b[0m\n\u001b[0;32m--> 780\u001b[0;31m         \u001b[0mresult\u001b[0m \u001b[0;34m=\u001b[0m \u001b[0mself\u001b[0m\u001b[0;34m.\u001b[0m\u001b[0m_call\u001b[0m\u001b[0;34m(\u001b[0m\u001b[0;34m*\u001b[0m\u001b[0margs\u001b[0m\u001b[0;34m,\u001b[0m \u001b[0;34m**\u001b[0m\u001b[0mkwds\u001b[0m\u001b[0;34m)\u001b[0m\u001b[0;34m\u001b[0m\u001b[0;34m\u001b[0m\u001b[0m\n\u001b[0m\u001b[1;32m    781\u001b[0m \u001b[0;34m\u001b[0m\u001b[0m\n\u001b[1;32m    782\u001b[0m       \u001b[0mnew_tracing_count\u001b[0m \u001b[0;34m=\u001b[0m \u001b[0mself\u001b[0m\u001b[0;34m.\u001b[0m\u001b[0m_get_tracing_count\u001b[0m\u001b[0;34m(\u001b[0m\u001b[0;34m)\u001b[0m\u001b[0;34m\u001b[0m\u001b[0;34m\u001b[0m\u001b[0m\n",
            "\u001b[0;32m/usr/local/lib/python3.6/dist-packages/tensorflow/python/eager/def_function.py\u001b[0m in \u001b[0;36m_call\u001b[0;34m(self, *args, **kwds)\u001b[0m\n\u001b[1;32m    805\u001b[0m       \u001b[0;31m# In this case we have created variables on the first call, so we run the\u001b[0m\u001b[0;34m\u001b[0m\u001b[0;34m\u001b[0m\u001b[0;34m\u001b[0m\u001b[0m\n\u001b[1;32m    806\u001b[0m       \u001b[0;31m# defunned version which is guaranteed to never create variables.\u001b[0m\u001b[0;34m\u001b[0m\u001b[0;34m\u001b[0m\u001b[0;34m\u001b[0m\u001b[0m\n\u001b[0;32m--> 807\u001b[0;31m       \u001b[0;32mreturn\u001b[0m \u001b[0mself\u001b[0m\u001b[0;34m.\u001b[0m\u001b[0m_stateless_fn\u001b[0m\u001b[0;34m(\u001b[0m\u001b[0;34m*\u001b[0m\u001b[0margs\u001b[0m\u001b[0;34m,\u001b[0m \u001b[0;34m**\u001b[0m\u001b[0mkwds\u001b[0m\u001b[0;34m)\u001b[0m  \u001b[0;31m# pylint: disable=not-callable\u001b[0m\u001b[0;34m\u001b[0m\u001b[0;34m\u001b[0m\u001b[0m\n\u001b[0m\u001b[1;32m    808\u001b[0m     \u001b[0;32melif\u001b[0m \u001b[0mself\u001b[0m\u001b[0;34m.\u001b[0m\u001b[0m_stateful_fn\u001b[0m \u001b[0;32mis\u001b[0m \u001b[0;32mnot\u001b[0m \u001b[0;32mNone\u001b[0m\u001b[0;34m:\u001b[0m\u001b[0;34m\u001b[0m\u001b[0;34m\u001b[0m\u001b[0m\n\u001b[1;32m    809\u001b[0m       \u001b[0;31m# Release the lock early so that multiple threads can perform the call\u001b[0m\u001b[0;34m\u001b[0m\u001b[0;34m\u001b[0m\u001b[0;34m\u001b[0m\u001b[0m\n",
            "\u001b[0;32m/usr/local/lib/python3.6/dist-packages/tensorflow/python/eager/function.py\u001b[0m in \u001b[0;36m__call__\u001b[0;34m(self, *args, **kwargs)\u001b[0m\n\u001b[1;32m   2827\u001b[0m     \u001b[0;32mwith\u001b[0m \u001b[0mself\u001b[0m\u001b[0;34m.\u001b[0m\u001b[0m_lock\u001b[0m\u001b[0;34m:\u001b[0m\u001b[0;34m\u001b[0m\u001b[0;34m\u001b[0m\u001b[0m\n\u001b[1;32m   2828\u001b[0m       \u001b[0mgraph_function\u001b[0m\u001b[0;34m,\u001b[0m \u001b[0margs\u001b[0m\u001b[0;34m,\u001b[0m \u001b[0mkwargs\u001b[0m \u001b[0;34m=\u001b[0m \u001b[0mself\u001b[0m\u001b[0;34m.\u001b[0m\u001b[0m_maybe_define_function\u001b[0m\u001b[0;34m(\u001b[0m\u001b[0margs\u001b[0m\u001b[0;34m,\u001b[0m \u001b[0mkwargs\u001b[0m\u001b[0;34m)\u001b[0m\u001b[0;34m\u001b[0m\u001b[0;34m\u001b[0m\u001b[0m\n\u001b[0;32m-> 2829\u001b[0;31m     \u001b[0;32mreturn\u001b[0m \u001b[0mgraph_function\u001b[0m\u001b[0;34m.\u001b[0m\u001b[0m_filtered_call\u001b[0m\u001b[0;34m(\u001b[0m\u001b[0margs\u001b[0m\u001b[0;34m,\u001b[0m \u001b[0mkwargs\u001b[0m\u001b[0;34m)\u001b[0m  \u001b[0;31m# pylint: disable=protected-access\u001b[0m\u001b[0;34m\u001b[0m\u001b[0;34m\u001b[0m\u001b[0m\n\u001b[0m\u001b[1;32m   2830\u001b[0m \u001b[0;34m\u001b[0m\u001b[0m\n\u001b[1;32m   2831\u001b[0m   \u001b[0;34m@\u001b[0m\u001b[0mproperty\u001b[0m\u001b[0;34m\u001b[0m\u001b[0;34m\u001b[0m\u001b[0m\n",
            "\u001b[0;32m/usr/local/lib/python3.6/dist-packages/tensorflow/python/eager/function.py\u001b[0m in \u001b[0;36m_filtered_call\u001b[0;34m(self, args, kwargs, cancellation_manager)\u001b[0m\n\u001b[1;32m   1846\u001b[0m                            resource_variable_ops.BaseResourceVariable))],\n\u001b[1;32m   1847\u001b[0m         \u001b[0mcaptured_inputs\u001b[0m\u001b[0;34m=\u001b[0m\u001b[0mself\u001b[0m\u001b[0;34m.\u001b[0m\u001b[0mcaptured_inputs\u001b[0m\u001b[0;34m,\u001b[0m\u001b[0;34m\u001b[0m\u001b[0;34m\u001b[0m\u001b[0m\n\u001b[0;32m-> 1848\u001b[0;31m         cancellation_manager=cancellation_manager)\n\u001b[0m\u001b[1;32m   1849\u001b[0m \u001b[0;34m\u001b[0m\u001b[0m\n\u001b[1;32m   1850\u001b[0m   \u001b[0;32mdef\u001b[0m \u001b[0m_call_flat\u001b[0m\u001b[0;34m(\u001b[0m\u001b[0mself\u001b[0m\u001b[0;34m,\u001b[0m \u001b[0margs\u001b[0m\u001b[0;34m,\u001b[0m \u001b[0mcaptured_inputs\u001b[0m\u001b[0;34m,\u001b[0m \u001b[0mcancellation_manager\u001b[0m\u001b[0;34m=\u001b[0m\u001b[0;32mNone\u001b[0m\u001b[0;34m)\u001b[0m\u001b[0;34m:\u001b[0m\u001b[0;34m\u001b[0m\u001b[0;34m\u001b[0m\u001b[0m\n",
            "\u001b[0;32m/usr/local/lib/python3.6/dist-packages/tensorflow/python/eager/function.py\u001b[0m in \u001b[0;36m_call_flat\u001b[0;34m(self, args, captured_inputs, cancellation_manager)\u001b[0m\n\u001b[1;32m   1922\u001b[0m       \u001b[0;31m# No tape is watching; skip to running the function.\u001b[0m\u001b[0;34m\u001b[0m\u001b[0;34m\u001b[0m\u001b[0;34m\u001b[0m\u001b[0m\n\u001b[1;32m   1923\u001b[0m       return self._build_call_outputs(self._inference_function.call(\n\u001b[0;32m-> 1924\u001b[0;31m           ctx, args, cancellation_manager=cancellation_manager))\n\u001b[0m\u001b[1;32m   1925\u001b[0m     forward_backward = self._select_forward_and_backward_functions(\n\u001b[1;32m   1926\u001b[0m         \u001b[0margs\u001b[0m\u001b[0;34m,\u001b[0m\u001b[0;34m\u001b[0m\u001b[0;34m\u001b[0m\u001b[0m\n",
            "\u001b[0;32m/usr/local/lib/python3.6/dist-packages/tensorflow/python/eager/function.py\u001b[0m in \u001b[0;36mcall\u001b[0;34m(self, ctx, args, cancellation_manager)\u001b[0m\n\u001b[1;32m    548\u001b[0m               \u001b[0minputs\u001b[0m\u001b[0;34m=\u001b[0m\u001b[0margs\u001b[0m\u001b[0;34m,\u001b[0m\u001b[0;34m\u001b[0m\u001b[0;34m\u001b[0m\u001b[0m\n\u001b[1;32m    549\u001b[0m               \u001b[0mattrs\u001b[0m\u001b[0;34m=\u001b[0m\u001b[0mattrs\u001b[0m\u001b[0;34m,\u001b[0m\u001b[0;34m\u001b[0m\u001b[0;34m\u001b[0m\u001b[0m\n\u001b[0;32m--> 550\u001b[0;31m               ctx=ctx)\n\u001b[0m\u001b[1;32m    551\u001b[0m         \u001b[0;32melse\u001b[0m\u001b[0;34m:\u001b[0m\u001b[0;34m\u001b[0m\u001b[0;34m\u001b[0m\u001b[0m\n\u001b[1;32m    552\u001b[0m           outputs = execute.execute_with_cancellation(\n",
            "\u001b[0;32m/usr/local/lib/python3.6/dist-packages/tensorflow/python/eager/execute.py\u001b[0m in \u001b[0;36mquick_execute\u001b[0;34m(op_name, num_outputs, inputs, attrs, ctx, name)\u001b[0m\n\u001b[1;32m     58\u001b[0m     \u001b[0mctx\u001b[0m\u001b[0;34m.\u001b[0m\u001b[0mensure_initialized\u001b[0m\u001b[0;34m(\u001b[0m\u001b[0;34m)\u001b[0m\u001b[0;34m\u001b[0m\u001b[0;34m\u001b[0m\u001b[0m\n\u001b[1;32m     59\u001b[0m     tensors = pywrap_tfe.TFE_Py_Execute(ctx._handle, device_name, op_name,\n\u001b[0;32m---> 60\u001b[0;31m                                         inputs, attrs, num_outputs)\n\u001b[0m\u001b[1;32m     61\u001b[0m   \u001b[0;32mexcept\u001b[0m \u001b[0mcore\u001b[0m\u001b[0;34m.\u001b[0m\u001b[0m_NotOkStatusException\u001b[0m \u001b[0;32mas\u001b[0m \u001b[0me\u001b[0m\u001b[0;34m:\u001b[0m\u001b[0;34m\u001b[0m\u001b[0;34m\u001b[0m\u001b[0m\n\u001b[1;32m     62\u001b[0m     \u001b[0;32mif\u001b[0m \u001b[0mname\u001b[0m \u001b[0;32mis\u001b[0m \u001b[0;32mnot\u001b[0m \u001b[0;32mNone\u001b[0m\u001b[0;34m:\u001b[0m\u001b[0;34m\u001b[0m\u001b[0;34m\u001b[0m\u001b[0m\n",
            "\u001b[0;31mKeyboardInterrupt\u001b[0m: "
          ]
        }
      ]
    },
    {
      "cell_type": "code",
      "metadata": {
        "id": "oBk0JXzxXdsy",
        "colab_type": "code",
        "colab": {
          "base_uri": "https://localhost:8080/",
          "height": 145
        },
        "outputId": "2a61c9f2-0ce6-43d1-c73b-49998e97a34f"
      },
      "source": [
        " resnet_20_kafs.fit(x=train, epochs = 3, batch_size=128, validation_data=test)"
      ],
      "execution_count": null,
      "outputs": [
        {
          "output_type": "stream",
          "text": [
            "Epoch 1/3\n",
            "391/391 [==============================] - 297s 759ms/step - loss: 3.6228 - accuracy: 0.1646 - val_loss: 3.0133 - val_accuracy: 0.2823\n",
            "Epoch 2/3\n",
            "391/391 [==============================] - 296s 757ms/step - loss: 2.6658 - accuracy: 0.2372 - val_loss: 2.3426 - val_accuracy: 0.3157\n",
            "Epoch 3/3\n",
            "391/391 [==============================] - 296s 757ms/step - loss: 2.2054 - accuracy: 0.2631 - val_loss: 1.9982 - val_accuracy: 0.3710\n"
          ],
          "name": "stdout"
        },
        {
          "output_type": "execute_result",
          "data": {
            "text/plain": [
              "<tensorflow.python.keras.callbacks.History at 0x7fab41d27cf8>"
            ]
          },
          "metadata": {
            "tags": []
          },
          "execution_count": 15
        }
      ]
    },
    {
      "cell_type": "code",
      "metadata": {
        "id": "oI6B388qKzH3",
        "colab_type": "code",
        "colab": {
          "base_uri": "https://localhost:8080/",
          "height": 108
        },
        "outputId": "fc03366f-eb2e-4bfc-a485-90a9a97aca48"
      },
      "source": [
        "!git clone https://github.com/christianversloot/keras_lr_finder/"
      ],
      "execution_count": null,
      "outputs": [
        {
          "output_type": "stream",
          "text": [
            "Cloning into 'keras_lr_finder'...\n",
            "remote: Enumerating objects: 1, done.\u001b[K\n",
            "remote: Counting objects: 100% (1/1)\u001b[K\rremote: Counting objects: 100% (1/1), done.\u001b[K\n",
            "Unpacking objects:   1% (1/64)   \rUnpacking objects:   3% (2/64)   \rUnpacking objects:   4% (3/64)   \rUnpacking objects:   6% (4/64)   \rUnpacking objects:   7% (5/64)   \rUnpacking objects:   9% (6/64)   \rUnpacking objects:  10% (7/64)   \rUnpacking objects:  12% (8/64)   \rUnpacking objects:  14% (9/64)   \rUnpacking objects:  15% (10/64)   \rUnpacking objects:  17% (11/64)   \rUnpacking objects:  18% (12/64)   \rUnpacking objects:  20% (13/64)   \rUnpacking objects:  21% (14/64)   \rUnpacking objects:  23% (15/64)   \rUnpacking objects:  25% (16/64)   \rUnpacking objects:  26% (17/64)   \rUnpacking objects:  28% (18/64)   \rUnpacking objects:  29% (19/64)   \rUnpacking objects:  31% (20/64)   \rUnpacking objects:  32% (21/64)   \rUnpacking objects:  34% (22/64)   \rUnpacking objects:  35% (23/64)   \rUnpacking objects:  37% (24/64)   \rUnpacking objects:  39% (25/64)   \rremote: Total 64 (delta 0), reused 1 (delta 0), pack-reused 63\u001b[K\n",
            "Unpacking objects:  40% (26/64)   \rUnpacking objects:  42% (27/64)   \rUnpacking objects:  43% (28/64)   \rUnpacking objects:  45% (29/64)   \rUnpacking objects:  46% (30/64)   \rUnpacking objects:  48% (31/64)   \rUnpacking objects:  50% (32/64)   \rUnpacking objects:  51% (33/64)   \rUnpacking objects:  53% (34/64)   \rUnpacking objects:  54% (35/64)   \rUnpacking objects:  56% (36/64)   \rUnpacking objects:  57% (37/64)   \rUnpacking objects:  59% (38/64)   \rUnpacking objects:  60% (39/64)   \rUnpacking objects:  62% (40/64)   \rUnpacking objects:  64% (41/64)   \rUnpacking objects:  65% (42/64)   \rUnpacking objects:  67% (43/64)   \rUnpacking objects:  68% (44/64)   \rUnpacking objects:  70% (45/64)   \rUnpacking objects:  71% (46/64)   \rUnpacking objects:  73% (47/64)   \rUnpacking objects:  75% (48/64)   \rUnpacking objects:  76% (49/64)   \rUnpacking objects:  78% (50/64)   \rUnpacking objects:  79% (51/64)   \rUnpacking objects:  81% (52/64)   \rUnpacking objects:  82% (53/64)   \rUnpacking objects:  84% (54/64)   \rUnpacking objects:  85% (55/64)   \rUnpacking objects:  87% (56/64)   \rUnpacking objects:  89% (57/64)   \rUnpacking objects:  90% (58/64)   \rUnpacking objects:  92% (59/64)   \rUnpacking objects:  93% (60/64)   \rUnpacking objects:  95% (61/64)   \rUnpacking objects:  96% (62/64)   \rUnpacking objects:  98% (63/64)   \rUnpacking objects: 100% (64/64)   \rUnpacking objects: 100% (64/64), done.\n"
          ],
          "name": "stdout"
        }
      ]
    },
    {
      "cell_type": "code",
      "metadata": {
        "id": "ICJ3pUPDSw80",
        "colab_type": "code",
        "colab": {
          "base_uri": "https://localhost:8080/",
          "height": 126
        },
        "outputId": "995063ed-5187-4013-eee1-25524462dfae"
      },
      "source": [
        "!python keras_lr_finder/setup.py"
      ],
      "execution_count": null,
      "outputs": [
        {
          "output_type": "stream",
          "text": [
            "usage: setup.py [global_opts] cmd1 [cmd1_opts] [cmd2 [cmd2_opts] ...]\n",
            "   or: setup.py --help [cmd1 cmd2 ...]\n",
            "   or: setup.py --help-commands\n",
            "   or: setup.py cmd --help\n",
            "\n",
            "error: no commands supplied\n"
          ],
          "name": "stdout"
        }
      ]
    },
    {
      "cell_type": "code",
      "metadata": {
        "id": "d--wSaDIRb6R",
        "colab_type": "code",
        "colab": {}
      },
      "source": [
        "import tensorflow_addons as tfa"
      ],
      "execution_count": null,
      "outputs": []
    },
    {
      "cell_type": "code",
      "metadata": {
        "id": "YCB5zDs3qHmv",
        "colab_type": "code",
        "colab": {
          "base_uri": "https://localhost:8080/",
          "height": 519
        },
        "outputId": "d4272fb8-7c4c-4054-c000-b5451e77bfb5"
      },
      "source": [
        "# Learning rate bounds finder\n",
        "from LRFinder. keras_callback import LRFinder\n",
        "lr_finder = LRFinder(min_lr=1e-2, max_lr=1) \n",
        "\n",
        "resnet_20_kafs.fit(x=train, epochs = 3, batch_size=128, callbacks=[lr_finder])"
      ],
      "execution_count": null,
      "outputs": [
        {
          "output_type": "stream",
          "text": [
            "Epoch 1/3\n",
            "391/391 [==============================] - 296s 757ms/step - loss: 2.6716 - accuracy: 0.1000\n",
            "Epoch 2/3\n",
            "391/391 [==============================] - 296s 756ms/step - loss: 2.6829 - accuracy: 0.0979\n",
            "Epoch 3/3\n",
            "391/391 [==============================] - 296s 757ms/step - loss: 2.9329 - accuracy: 0.1000\n"
          ],
          "name": "stdout"
        },
        {
          "output_type": "display_data",
          "data": {
            "image/png": "[encoded data removed]",
            "text/plain": [
              "<Figure size 864x432 with 1 Axes>"
            ]
          },
          "metadata": {
            "tags": [],
            "needs_background": "light"
          }
        },
        {
          "output_type": "execute_result",
          "data": {
            "text/plain": [
              "<tensorflow.python.keras.callbacks.History at 0x7fab3d1596d8>"
            ]
          },
          "metadata": {
            "tags": []
          },
          "execution_count": 19
        }
      ]
    },
    {
      "cell_type": "code",
      "metadata": {
        "id": "liOUBjqGV7u7",
        "colab_type": "code",
        "colab": {
          "base_uri": "https://localhost:8080/",
          "height": 35
        },
        "outputId": "44ceb3a9-7f6a-4e50-bc93-dc11316f92d0"
      },
      "source": [
        "!git clone https://github.com/bckenstler/CLR.git\n",
        "from CLR.clr_callback import CyclicLR"
      ],
      "execution_count": null,
      "outputs": [
        {
          "output_type": "stream",
          "text": [
            "fatal: destination path 'CLR' already exists and is not an empty directory.\n"
          ],
          "name": "stdout"
        }
      ]
    },
    {
      "cell_type": "markdown",
      "metadata": {
        "id": "6QvesbSe1J-m",
        "colab_type": "text"
      },
      "source": [
        "## Very strange, it seems like there is no valid lr in the range 1e-4;1\n",
        "* Whatever, try with the same bounds as relu before"
      ]
    },
    {
      "cell_type": "code",
      "metadata": {
        "id": "o5TzD3fCyRQ_",
        "colab_type": "code",
        "colab": {}
      },
      "source": [
        "from CLR.clr_callback import CyclicLR\n",
        "# Set CLR options\n",
        "step_size = int(3 * (50000/128))\n",
        "base_lr = 1e-4\n",
        "max_lr = 1e-3\n",
        "mode='triangular'\n",
        "\n",
        "# Define the callback\n",
        "clr = CyclicLR(base_lr=base_lr, max_lr=max_lr, step_size=step_size, mode=mode)"
      ],
      "execution_count": null,
      "outputs": []
    },
    {
      "cell_type": "code",
      "metadata": {
        "id": "uGQO3T5cycRV",
        "colab_type": "code",
        "colab": {
          "base_uri": "https://localhost:8080/",
          "height": 146
        },
        "outputId": "fb89b67a-6844-4524-970b-294c617f498e"
      },
      "source": [
        "history = resnet_20_kafs.fit(x = train, epochs=3, validation_data=test, callbacks=[clr])"
      ],
      "execution_count": null,
      "outputs": [
        {
          "output_type": "stream",
          "text": [
            "Epoch 1/3\n",
            "391/391 [==============================] - 90s 231ms/step - loss: 2.6639 - accuracy: 0.0998 - val_loss: 2.6565 - val_accuracy: 0.0952\n",
            "Epoch 2/3\n",
            "391/391 [==============================] - 90s 229ms/step - loss: 2.5201 - accuracy: 0.1565 - val_loss: 2.4722 - val_accuracy: 0.2135\n",
            "Epoch 3/3\n",
            "391/391 [==============================] - 90s 229ms/step - loss: 2.2848 - accuracy: 0.2249 - val_loss: 2.2193 - val_accuracy: 0.2790\n"
          ],
          "name": "stdout"
        }
      ]
    },
    {
      "cell_type": "code",
      "metadata": {
        "id": "awJMpfiCWDvS",
        "colab_type": "code",
        "colab": {
          "base_uri": "https://localhost:8080/",
          "height": 146
        },
        "outputId": "45aed302-f92f-489f-d393-deaee46974f6"
      },
      "source": [
        "history = resnet_20_kafs.fit(x = train, epochs=3, validation_data=test, callbacks=[clr])"
      ],
      "execution_count": null,
      "outputs": [
        {
          "output_type": "stream",
          "text": [
            "Epoch 1/3\n",
            "391/391 [==============================] - 90s 231ms/step - loss: 2.6687 - accuracy: 0.1000 - val_loss: 2.6687 - val_accuracy: 0.1000\n",
            "Epoch 2/3\n",
            "391/391 [==============================] - 90s 229ms/step - loss: 2.6685 - accuracy: 0.1000 - val_loss: 2.6683 - val_accuracy: 0.1001\n",
            "Epoch 3/3\n",
            "391/391 [==============================] - 90s 229ms/step - loss: 2.6681 - accuracy: 0.1000 - val_loss: 2.6677 - val_accuracy: 0.0995\n"
          ],
          "name": "stdout"
        }
      ]
    },
    {
      "cell_type": "code",
      "metadata": {
        "id": "dpiZlvh3IGri",
        "colab_type": "code",
        "colab": {
          "base_uri": "https://localhost:8080/",
          "height": 291
        },
        "outputId": "74240e38-4d17-407f-d47c-4de8d41aa1c5"
      },
      "source": [
        "# Save model\n",
        "resnet_20_kafs.save('/content/resnet20_kafs')\n",
        "!zip -r resnet20_kafs.zip /content/resnet20_kafs\n",
        "from google.colab import files\n",
        "files.download('/content/resnet20_kafs.zip')"
      ],
      "execution_count": null,
      "outputs": [
        {
          "output_type": "stream",
          "text": [
            "WARNING:tensorflow:From /usr/local/lib/python3.6/dist-packages/tensorflow/python/training/tracking/tracking.py:111: Model.state_updates (from tensorflow.python.keras.engine.training) is deprecated and will be removed in a future version.\n",
            "Instructions for updating:\n",
            "This property should not be used in TensorFlow 2.0, as updates are applied automatically.\n",
            "WARNING:tensorflow:From /usr/local/lib/python3.6/dist-packages/tensorflow/python/training/tracking/tracking.py:111: Layer.updates (from tensorflow.python.keras.engine.base_layer) is deprecated and will be removed in a future version.\n",
            "Instructions for updating:\n",
            "This property should not be used in TensorFlow 2.0, as updates are applied automatically.\n",
            "INFO:tensorflow:Assets written to: /content/resnet20_kafs/assets\n",
            "  adding: content/resnet20_kafs/ (stored 0%)\n",
            "  adding: content/resnet20_kafs/saved_model.pb (deflated 92%)\n",
            "  adding: content/resnet20_kafs/assets/ (stored 0%)\n",
            "  adding: content/resnet20_kafs/variables/ (stored 0%)\n",
            "  adding: content/resnet20_kafs/variables/variables.data-00000-of-00001 (deflated 10%)\n",
            "  adding: content/resnet20_kafs/variables/variables.index (deflated 78%)\n"
          ],
          "name": "stdout"
        },
        {
          "output_type": "display_data",
          "data": {
            "application/javascript": [
              "\n",
              "    async function download(id, filename, size) {\n",
              "      if (!google.colab.kernel.accessAllowed) {\n",
              "        return;\n",
              "      }\n",
              "      const div = document.createElement('div');\n",
              "      const label = document.createElement('label');\n",
              "      label.textContent = `Downloading \"${filename}\": `;\n",
              "      div.appendChild(label);\n",
              "      const progress = document.createElement('progress');\n",
              "      progress.max = size;\n",
              "      div.appendChild(progress);\n",
              "      document.body.appendChild(div);\n",
              "\n",
              "      const buffers = [];\n",
              "      let downloaded = 0;\n",
              "\n",
              "      const channel = await google.colab.kernel.comms.open(id);\n",
              "      // Send a message to notify the kernel that we're ready.\n",
              "      channel.send({})\n",
              "\n",
              "      for await (const message of channel.messages) {\n",
              "        // Send a message to notify the kernel that we're ready.\n",
              "        channel.send({})\n",
              "        if (message.buffers) {\n",
              "          for (const buffer of message.buffers) {\n",
              "            buffers.push(buffer);\n",
              "            downloaded += buffer.byteLength;\n",
              "            progress.value = downloaded;\n",
              "          }\n",
              "        }\n",
              "      }\n",
              "      const blob = new Blob(buffers, {type: 'application/binary'});\n",
              "      const a = document.createElement('a');\n",
              "      a.href = window.URL.createObjectURL(blob);\n",
              "      a.download = filename;\n",
              "      div.appendChild(a);\n",
              "      a.click();\n",
              "      div.remove();\n",
              "    }\n",
              "  "
            ],
            "text/plain": [
              "<IPython.core.display.Javascript object>"
            ]
          },
          "metadata": {
            "tags": []
          }
        },
        {
          "output_type": "display_data",
          "data": {
            "application/javascript": [
              "download(\"download_edb3e1b2-d035-4752-ad7e-bf84a617e6bb\", \"resnet20_kafs.zip\", 1307385)"
            ],
            "text/plain": [
              "<IPython.core.display.Javascript object>"
            ]
          },
          "metadata": {
            "tags": []
          }
        }
      ]
    },
    {
      "cell_type": "code",
      "metadata": {
        "id": "KI0qx5KRYgsq",
        "colab_type": "code",
        "colab": {
          "base_uri": "https://localhost:8080/",
          "height": 308
        },
        "outputId": "81b8e310-c106-4875-f78d-b2d89c900ac6"
      },
      "source": [
        "history = resnet_20_kafs.fit(x = train, epochs=118, validation_data=test, callbacks=[clr])"
      ],
      "execution_count": null,
      "outputs": [
        {
          "output_type": "stream",
          "text": [
            "Epoch 1/118\n",
            "391/391 [==============================] - 292s 747ms/step - loss: 1.3225 - accuracy: 0.4526 - val_loss: 1.7164 - val_accuracy: 0.4275\n",
            "Epoch 2/118\n",
            "391/391 [==============================] - 292s 746ms/step - loss: 1.3935 - accuracy: 0.4269 - val_loss: 1.6033 - val_accuracy: 0.4640\n",
            "Epoch 3/118\n",
            "391/391 [==============================] - 292s 747ms/step - loss: 1.3736 - accuracy: 0.4394 - val_loss: 1.3088 - val_accuracy: 0.5724\n",
            "Epoch 4/118\n",
            "391/391 [==============================] - 292s 747ms/step - loss: 1.2973 - accuracy: 0.4651 - val_loss: 1.1241 - val_accuracy: 0.6471\n",
            "Epoch 5/118\n",
            "391/391 [==============================] - 292s 747ms/step - loss: 1.2160 - accuracy: 0.4955 - val_loss: 0.9510 - val_accuracy: 0.7238\n",
            "Epoch 6/118\n",
            "391/391 [==============================] - 292s 747ms/step - loss: 1.2102 - accuracy: 0.4922 - val_loss: 1.0914 - val_accuracy: 0.6506\n",
            "Epoch 7/118\n",
            "391/391 [==============================] - 292s 747ms/step - loss: 1.2960 - accuracy: 0.4627 - val_loss: 1.2714 - val_accuracy: 0.5875\n",
            "Epoch 8/118\n",
            "223/391 [================>.............] - ETA: 2:00 - loss: 1.3526 - accuracy: 0.4432"
          ],
          "name": "stdout"
        }
      ]
    }
  ]
}
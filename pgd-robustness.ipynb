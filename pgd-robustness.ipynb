{
 "cells": [
  {
   "cell_type": "markdown",
   "metadata": {},
   "source": [
    "# Projected-Gradient-Based Attack\n",
    "\n",
    "* Load the learned relu/kwta/kaf-based models.\n",
    "* Craft a PGD-attack for each of them and evaluate robustness based on the activation function used.\n",
    "* Train every model against PGD and evaluate the resulting robustness.\n",
    "* How does kwta and kaf activation functions affect the robustness of the network wrt traditional functions such as relu?"
   ]
  },
  {
   "cell_type": "code",
   "execution_count": 1,
   "metadata": {},
   "outputs": [],
   "source": [
    "# Imports\n",
    "import tensorflow as tf \n",
    "import numpy as np \n",
    "import matplotlib.pyplot as plt"
   ]
  },
  {
   "cell_type": "code",
   "execution_count": 2,
   "metadata": {},
   "outputs": [],
   "source": [
    "from kafnet import Kaf\n",
    "from kwta import Kwta"
   ]
  },
  {
   "cell_type": "markdown",
   "metadata": {},
   "source": [
    "## Load CIFAR10 and the Models"
   ]
  },
  {
   "cell_type": "code",
   "execution_count": 3,
   "metadata": {},
   "outputs": [
    {
     "output_type": "stream",
     "name": "stderr",
     "text": "Using TensorFlow backend.\n"
    }
   ],
   "source": [
    "from keras.datasets import cifar10\n",
    "\n",
    "(x_train, y_train), (x_test, y_test) = cifar10.load_data()\n",
    "x_train, x_test = x_train/ 255.0, x_test/ 255.0"
   ]
  },
  {
   "cell_type": "code",
   "execution_count": 8,
   "metadata": {},
   "outputs": [
    {
     "output_type": "stream",
     "name": "stdout",
     "text": "10000/10000 [==============================] - 9s 889us/sample - loss: 1.1458 - accuracy: 0.6391\n"
    },
    {
     "output_type": "execute_result",
     "data": {
      "text/plain": "[1.145782506942749, 0.6391]"
     },
     "metadata": {},
     "execution_count": 8
    }
   ],
   "source": [
    "## QUI IL PROBLEMA DI ACCURATEZZA! Se valuato subito dopo l allenamento infatti il modello presenta un accuracy ~ 0.73\n",
    "kwta_cnn_tmp = tf.keras.models.load_model('saved_custom_model/kwta_cnn', custom_objects= {'Kwta': Kwta})\n",
    "kwta_cnn_tmp.evaluate(x = x_test, y = y_test, batch_size=128)"
   ]
  },
  {
   "cell_type": "code",
   "execution_count": 5,
   "metadata": {},
   "outputs": [
    {
     "output_type": "stream",
     "name": "stdout",
     "text": "Model: \"sequential_9\"\n_________________________________________________________________\nLayer (type)                 Output Shape              Param #   \n=================================================================\nconv2d_33 (Conv2D)           (None, 32, 32, 32)        896       \n_________________________________________________________________\nbatch_normalization_33 (Batc (None, 32, 32, 32)        128       \n_________________________________________________________________\nconv2d_34 (Conv2D)           (None, 32, 32, 32)        9248      \n_________________________________________________________________\nbatch_normalization_34 (Batc (None, 32, 32, 32)        128       \n_________________________________________________________________\nmax_pooling2d_27 (MaxPooling (None, 16, 16, 32)        0         \n_________________________________________________________________\ndropout_27 (Dropout)         (None, 16, 16, 32)        0         \n_________________________________________________________________\nconv2d_35 (Conv2D)           (None, 16, 16, 64)        18496     \n_________________________________________________________________\nbatch_normalization_35 (Batc (None, 16, 16, 64)        256       \n_________________________________________________________________\nconv2d_36 (Conv2D)           (None, 16, 16, 64)        36928     \n_________________________________________________________________\nbatch_normalization_36 (Batc (None, 16, 16, 64)        256       \n_________________________________________________________________\nmax_pooling2d_28 (MaxPooling (None, 8, 8, 64)          0         \n_________________________________________________________________\ndropout_28 (Dropout)         (None, 8, 8, 64)          0         \n_________________________________________________________________\nconv2d_37 (Conv2D)           (None, 8, 8, 128)         73856     \n_________________________________________________________________\nbatch_normalization_37 (Batc (None, 8, 8, 128)         512       \n_________________________________________________________________\nconv2d_38 (Conv2D)           (None, 8, 8, 128)         147584    \n_________________________________________________________________\nbatch_normalization_38 (Batc (None, 8, 8, 128)         512       \n_________________________________________________________________\nmax_pooling2d_29 (MaxPooling (None, 4, 4, 128)         0         \n_________________________________________________________________\ndropout_29 (Dropout)         (None, 4, 4, 128)         0         \n_________________________________________________________________\nflatten_9 (Flatten)          (None, 2048)              0         \n_________________________________________________________________\ndense_13 (Dense)             (None, 256)               524544    \n_________________________________________________________________\ndense_14 (Dense)             (None, 10)                2570      \n=================================================================\nTotal params: 815,914\nTrainable params: 815,018\nNon-trainable params: 896\n_________________________________________________________________\nModel: \"sequential_11\"\n_________________________________________________________________\nLayer (type)                 Output Shape              Param #   \n=================================================================\nconv2d_45 (Conv2D)           (None, 32, 32, 32)        896       \n_________________________________________________________________\nbatch_normalization_45 (Batc (None, 32, 32, 32)        128       \n_________________________________________________________________\nkwta_1 (Kwta)                (None, 32, 32, 32)        0         \n_________________________________________________________________\nconv2d_46 (Conv2D)           (None, 32, 32, 32)        9248      \n_________________________________________________________________\nbatch_normalization_46 (Batc (None, 32, 32, 32)        128       \n_________________________________________________________________\nkwta_2 (Kwta)                (None, 32, 32, 32)        0         \n_________________________________________________________________\nmax_pooling2d_33 (MaxPooling (None, 16, 16, 32)        0         \n_________________________________________________________________\ndropout_33 (Dropout)         (None, 16, 16, 32)        0         \n_________________________________________________________________\nconv2d_47 (Conv2D)           (None, 16, 16, 64)        18496     \n_________________________________________________________________\nbatch_normalization_47 (Batc (None, 16, 16, 64)        256       \n_________________________________________________________________\nkwta_3 (Kwta)                (None, 16, 16, 64)        0         \n_________________________________________________________________\nconv2d_48 (Conv2D)           (None, 16, 16, 64)        36928     \n_________________________________________________________________\nbatch_normalization_48 (Batc (None, 16, 16, 64)        256       \n_________________________________________________________________\nkwta_4 (Kwta)                (None, 16, 16, 64)        0         \n_________________________________________________________________\nmax_pooling2d_34 (MaxPooling (None, 8, 8, 64)          0         \n_________________________________________________________________\ndropout_34 (Dropout)         (None, 8, 8, 64)          0         \n_________________________________________________________________\nconv2d_49 (Conv2D)           (None, 8, 8, 128)         73856     \n_________________________________________________________________\nbatch_normalization_49 (Batc (None, 8, 8, 128)         512       \n_________________________________________________________________\nkwta_5 (Kwta)                (None, 8, 8, 128)         0         \n_________________________________________________________________\nconv2d_50 (Conv2D)           (None, 8, 8, 128)         147584    \n_________________________________________________________________\nbatch_normalization_50 (Batc (None, 8, 8, 128)         512       \n_________________________________________________________________\nkwta_6 (Kwta)                (None, 8, 8, 128)         0         \n_________________________________________________________________\nmax_pooling2d_35 (MaxPooling (None, 4, 4, 128)         0         \n_________________________________________________________________\ndropout_35 (Dropout)         (None, 4, 4, 128)         0         \n_________________________________________________________________\nflatten_11 (Flatten)         (None, 2048)              0         \n_________________________________________________________________\ndense_17 (Dense)             (None, 256)               524544    \n_________________________________________________________________\nkwta_7 (Kwta)                (None, 256)               0         \n_________________________________________________________________\ndense_18 (Dense)             (None, 10)                2570      \n=================================================================\nTotal params: 815,914\nTrainable params: 815,018\nNon-trainable params: 896\n_________________________________________________________________\nModel: \"sequential\"\n_________________________________________________________________\nLayer (type)                 Output Shape              Param #   \n=================================================================\nconv2d (Conv2D)              (None, 32, 32, 32)        896       \n_________________________________________________________________\nbatch_normalization (BatchNo (None, 32, 32, 32)        128       \n_________________________________________________________________\nkaf (Kaf)                    (None, 32, 32, 32)        1300      \n_________________________________________________________________\nconv2d_1 (Conv2D)            (None, 32, 32, 32)        9248      \n_________________________________________________________________\nbatch_normalization_1 (Batch (None, 32, 32, 32)        128       \n_________________________________________________________________\nkaf_1 (Kaf)                  (None, 32, 32, 32)        1300      \n_________________________________________________________________\nmax_pooling2d (MaxPooling2D) (None, 16, 16, 32)        0         \n_________________________________________________________________\ndropout (Dropout)            (None, 16, 16, 32)        0         \n_________________________________________________________________\nconv2d_2 (Conv2D)            (None, 16, 16, 64)        18496     \n_________________________________________________________________\nbatch_normalization_2 (Batch (None, 16, 16, 64)        256       \n_________________________________________________________________\nkaf_2 (Kaf)                  (None, 16, 16, 64)        2580      \n_________________________________________________________________\nconv2d_3 (Conv2D)            (None, 16, 16, 64)        36928     \n_________________________________________________________________\nbatch_normalization_3 (Batch (None, 16, 16, 64)        256       \n_________________________________________________________________\nkaf_3 (Kaf)                  (None, 16, 16, 64)        2580      \n_________________________________________________________________\nmax_pooling2d_1 (MaxPooling2 (None, 8, 8, 64)          0         \n_________________________________________________________________\ndropout_1 (Dropout)          (None, 8, 8, 64)          0         \n_________________________________________________________________\nconv2d_4 (Conv2D)            (None, 8, 8, 128)         73856     \n_________________________________________________________________\nbatch_normalization_4 (Batch (None, 8, 8, 128)         512       \n_________________________________________________________________\nkaf_4 (Kaf)                  (None, 8, 8, 128)         5140      \n_________________________________________________________________\nconv2d_5 (Conv2D)            (None, 8, 8, 128)         147584    \n_________________________________________________________________\nbatch_normalization_5 (Batch (None, 8, 8, 128)         512       \n_________________________________________________________________\nkaf_5 (Kaf)                  (None, 8, 8, 128)         5140      \n_________________________________________________________________\nmax_pooling2d_2 (MaxPooling2 (None, 4, 4, 128)         0         \n_________________________________________________________________\ndropout_2 (Dropout)          (None, 4, 4, 128)         0         \n_________________________________________________________________\nflatten (Flatten)            (None, 2048)              0         \n_________________________________________________________________\ndense (Dense)                (None, 256)               524544    \n_________________________________________________________________\nkaf_6 (Kaf)                  (None, 256)               5140      \n_________________________________________________________________\ndense_1 (Dense)              (None, 10)                2570      \n=================================================================\nTotal params: 839,094\nTrainable params: 838,058\nNon-trainable params: 1,036\n_________________________________________________________________\n"
    }
   ],
   "source": [
    "relu_cnn = tf.keras.models.load_model('saved_custom_model/relu_cnn')\n",
    "kwta_cnn = tf.keras.models.load_model('saved_custom_model/kwta_cnn')\n",
    "kaf_cnn = tf.keras.models.load_model('saved_custom_model/kaf_cnn')\n",
    "\n",
    "relu_cnn.summary()\n",
    "kwta_cnn.summary()\n",
    "kaf_cnn.summary()"
   ]
  },
  {
   "cell_type": "code",
   "execution_count": 6,
   "metadata": {},
   "outputs": [
    {
     "output_type": "stream",
     "name": "stdout",
     "text": "10000/10000 [==============================] - 1s 133us/sample - loss: 0.5655 - accuracy: 0.8383\n10000/10000 [==============================] - 5s 499us/sample - loss: 1.1458 - accuracy: 0.6391\n10000/10000 [==============================] - 11s 1ms/sample - loss: 0.6115 - accuracy: 0.8235\n"
    },
    {
     "output_type": "execute_result",
     "data": {
      "text/plain": "[0.6115004356384277, 0.8235]"
     },
     "metadata": {},
     "execution_count": 6
    }
   ],
   "source": [
    "relu_cnn.evaluate(x_test, y_test, batch_size=64)\n",
    "kwta_cnn.evaluate(x = x_test, y = y_test, batch_size=64)\n",
    "kaf_cnn.evaluate(x_test, y_test, batch_size=64)"
   ]
  },
  {
   "cell_type": "markdown",
   "metadata": {},
   "source": [
    "## Part 3. Crafting a PGD Attack "
   ]
  },
  {
   "cell_type": "code",
   "execution_count": null,
   "metadata": {},
   "outputs": [],
   "source": [
    "# We use the IBM Adversarial Robustness 360 Toolbox\n",
    "# !pip install adversarial-robustness-toolbox"
   ]
  },
  {
   "cell_type": "code",
   "execution_count": null,
   "metadata": {},
   "outputs": [],
   "source": [
    "from art.classifiers import TensorFlowV2Classifier\n",
    "from art.attacks import ProjectedGradientDescent\n",
    "\n",
    "# Wrap the model in a TensorFlowV2Classifier object\n",
    "relu_cnn_art = TensorFlowV2Classifier(model=relu_cnn, nb_classes=10, input_shape=(32, 32, 3), loss_object=tf.keras.losses.SparseCategoricalCrossentropy(), clip_values=(0, 1))\n",
    "kwta_cnn_art = TensorFlowV2Classifier(model=kwta_cnn, nb_classes=10, input_shape=(32, 32, 3), loss_object=tf.keras.losses.SparseCategoricalCrossentropy(), clip_values=(0, 1))\n",
    "kaf_cnn_art = TensorFlowV2Classifier(model=kaf_cnn, nb_classes=10, input_shape=(32, 32, 3), loss_object=tf.keras.losses.SparseCategoricalCrossentropy(), clip_values=(0, 1))"
   ]
  },
  {
   "cell_type": "code",
   "execution_count": null,
   "metadata": {},
   "outputs": [],
   "source": [
    "pgd_relu = ProjectedGradientDescent(classifier= relu_cnn_art, eps=0.031, eps_step=0.003, max_iter=40, num_random_init=40, norm=np.inf)\n",
    "pgd_kwta = ProjectedGradientDescent(classifier= kwta_cnn_art, eps=0.031, eps_step=0.003, max_iter=40, num_random_init=40, norm=np.inf)\n",
    "pgd_kaf = ProjectedGradientDescent(classifier= kaf_cnn_art, eps=0.031, eps_step=0.003, max_iter=40, num_random_init=40, norm=np.inf)"
   ]
  },
  {
   "cell_type": "code",
   "execution_count": null,
   "metadata": {},
   "outputs": [],
   "source": [
    "# Our net is 90% certain of our image being a horse\n",
    "classes= ['airplane', 'automobile', 'bird', 'cat', 'deer',\n",
    "               'dog', 'frog', 'horse', 'ship', 'truck']\n",
    "plt.imshow(x)\n",
    "print(classes[np.argmax(reluCnn.predict(tf.expand_dims(x, 0)))])\n",
    "print(reluCnn.predict(tf.expand_dims(x, 0)))\n",
    "\n",
    "x_adv = pgd.generate(tf.expand_dims(x, 0))\n",
    "plt.imshow(tf.squeeze(x_adv))\n",
    "\n",
    "# Now its 99% sure it is a frog instead!\n",
    "classes= ['airplane', 'automobile', 'bird', 'cat', 'deer',\n",
    "               'dog', 'frog', 'horse', 'ship', 'truck']\n",
    "print(classes[np.argmax(reluCnn.predict(tf.expand_dims(tf.squeeze(x_adv), 0)))])\n",
    "print(reluCnn.predict(tf.expand_dims(tf.squeeze(x_adv), 0)))"
   ]
  },
  {
   "cell_type": "code",
   "execution_count": null,
   "metadata": {},
   "outputs": [],
   "source": [
    "sample_ids = np.random.randint(1000, size=100)\n",
    "x_test_sample = x_test[sample_ids, :, :, :]\n",
    "\n",
    "x_test_sample.shape\n",
    "x_adv_test = pgd.generate(x_test_sample)\n",
    "np.save('adversarial_pgd_test_100', x_adv_test)"
   ]
  },
  {
   "cell_type": "code",
   "execution_count": null,
   "metadata": {},
   "outputs": [],
   "source": []
  }
 ],
 "metadata": {
  "language_info": {
   "codemirror_mode": {
    "name": "ipython",
    "version": 3
   },
   "file_extension": ".py",
   "mimetype": "text/x-python",
   "name": "python",
   "nbconvert_exporter": "python",
   "pygments_lexer": "ipython3",
   "version": "3.6.9-final"
  },
  "orig_nbformat": 2,
  "kernelspec": {
   "name": "python3",
   "display_name": "Python 3"
  }
 },
 "nbformat": 4,
 "nbformat_minor": 2
}
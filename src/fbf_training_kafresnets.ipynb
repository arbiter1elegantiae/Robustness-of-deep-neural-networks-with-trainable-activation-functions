{
  "nbformat": 4,
  "nbformat_minor": 0,
  "metadata": {
    "colab": {
      "name": "oclr_advtrain.ipynb",
      "provenance": [],
      "collapsed_sections": [],
      "toc_visible": true
    },
    "kernelspec": {
      "name": "python3",
      "display_name": "Python 3"
    },
    "accelerator": "GPU"
  },
  "cells": [
    {
      "cell_type": "code",
      "metadata": {
        "id": "AWC3z33mgadA",
        "colab_type": "code",
        "colab": {
          "base_uri": "https://localhost:8080/",
          "height": 128
        },
        "outputId": "830bec97-fbd2-4696-c2cd-62aad5bb32cd"
      },
      "source": [
        "# Find out GPU allocated (P100s, T4 reccommended)\n",
        "import tensorflow as tf\n",
        "tf.keras.mixed_precision.experimental.set_policy('mixed_float16')"
      ],
      "execution_count": null,
      "outputs": [
        {
          "output_type": "stream",
          "text": [
            "WARNING:tensorflow:Mixed precision compatibility check (mixed_float16): WARNING\n",
            "Your GPU may run slowly with dtype policy mixed_float16 because it does not have compute capability of at least 7.0. Your GPU:\n",
            "  Tesla P100-PCIE-16GB, compute capability 6.0\n",
            "See https://developer.nvidia.com/cuda-gpus for a list of GPUs and their compute capabilities.\n",
            "If you will use compatible GPU(s) not attached to this host, e.g. by running a multi-worker model, you can ignore this warning. This message will only be logged once\n"
          ],
          "name": "stdout"
        }
      ]
    },
    {
      "cell_type": "code",
      "metadata": {
        "id": "TVCFMfxqxRy3",
        "colab_type": "code",
        "colab": {
          "base_uri": "https://localhost:8080/",
          "height": 583
        },
        "outputId": "1da23750-96a8-42fc-99bc-408fc789660a"
      },
      "source": [
        "# Install art if absent\n",
        "!pip install adversarial-robustness-toolbox"
      ],
      "execution_count": null,
      "outputs": [
        {
          "output_type": "stream",
          "text": [
            "Requirement already satisfied: adversarial-robustness-toolbox in /usr/local/lib/python3.6/dist-packages (1.3.3)\n",
            "Requirement already satisfied: six in /usr/local/lib/python3.6/dist-packages (from adversarial-robustness-toolbox) (1.15.0)\n",
            "Requirement already satisfied: pydub in /usr/local/lib/python3.6/dist-packages (from adversarial-robustness-toolbox) (0.24.1)\n",
            "Requirement already satisfied: scipy==1.4.1 in /usr/local/lib/python3.6/dist-packages (from adversarial-robustness-toolbox) (1.4.1)\n",
            "Requirement already satisfied: Pillow in /usr/local/lib/python3.6/dist-packages (from adversarial-robustness-toolbox) (7.0.0)\n",
            "Requirement already satisfied: resampy in /usr/local/lib/python3.6/dist-packages (from adversarial-robustness-toolbox) (0.2.2)\n",
            "Requirement already satisfied: numpy in /usr/local/lib/python3.6/dist-packages (from adversarial-robustness-toolbox) (1.18.5)\n",
            "Requirement already satisfied: matplotlib in /usr/local/lib/python3.6/dist-packages (from adversarial-robustness-toolbox) (3.2.2)\n",
            "Requirement already satisfied: statsmodels in /usr/local/lib/python3.6/dist-packages (from adversarial-robustness-toolbox) (0.10.2)\n",
            "Requirement already satisfied: cma in /usr/local/lib/python3.6/dist-packages (from adversarial-robustness-toolbox) (3.0.3)\n",
            "Requirement already satisfied: scikit-learn==0.23.2 in /usr/local/lib/python3.6/dist-packages (from adversarial-robustness-toolbox) (0.23.2)\n",
            "Requirement already satisfied: setuptools in /usr/local/lib/python3.6/dist-packages (from adversarial-robustness-toolbox) (49.6.0)\n",
            "Requirement already satisfied: tqdm in /usr/local/lib/python3.6/dist-packages (from adversarial-robustness-toolbox) (4.41.1)\n",
            "Requirement already satisfied: mypy in /usr/local/lib/python3.6/dist-packages (from adversarial-robustness-toolbox) (0.782)\n",
            "Requirement already satisfied: ffmpeg-python in /usr/local/lib/python3.6/dist-packages (from adversarial-robustness-toolbox) (0.2.0)\n",
            "Requirement already satisfied: numba>=0.32 in /usr/local/lib/python3.6/dist-packages (from resampy->adversarial-robustness-toolbox) (0.48.0)\n",
            "Requirement already satisfied: kiwisolver>=1.0.1 in /usr/local/lib/python3.6/dist-packages (from matplotlib->adversarial-robustness-toolbox) (1.2.0)\n",
            "Requirement already satisfied: pyparsing!=2.0.4,!=2.1.2,!=2.1.6,>=2.0.1 in /usr/local/lib/python3.6/dist-packages (from matplotlib->adversarial-robustness-toolbox) (2.4.7)\n",
            "Requirement already satisfied: python-dateutil>=2.1 in /usr/local/lib/python3.6/dist-packages (from matplotlib->adversarial-robustness-toolbox) (2.8.1)\n",
            "Requirement already satisfied: cycler>=0.10 in /usr/local/lib/python3.6/dist-packages (from matplotlib->adversarial-robustness-toolbox) (0.10.0)\n",
            "Requirement already satisfied: pandas>=0.19 in /usr/local/lib/python3.6/dist-packages (from statsmodels->adversarial-robustness-toolbox) (1.0.5)\n",
            "Requirement already satisfied: patsy>=0.4.0 in /usr/local/lib/python3.6/dist-packages (from statsmodels->adversarial-robustness-toolbox) (0.5.1)\n",
            "Requirement already satisfied: threadpoolctl>=2.0.0 in /usr/local/lib/python3.6/dist-packages (from scikit-learn==0.23.2->adversarial-robustness-toolbox) (2.1.0)\n",
            "Requirement already satisfied: joblib>=0.11 in /usr/local/lib/python3.6/dist-packages (from scikit-learn==0.23.2->adversarial-robustness-toolbox) (0.16.0)\n",
            "Requirement already satisfied: typing-extensions>=3.7.4 in /usr/local/lib/python3.6/dist-packages (from mypy->adversarial-robustness-toolbox) (3.7.4.3)\n",
            "Requirement already satisfied: typed-ast<1.5.0,>=1.4.0 in /usr/local/lib/python3.6/dist-packages (from mypy->adversarial-robustness-toolbox) (1.4.1)\n",
            "Requirement already satisfied: mypy-extensions<0.5.0,>=0.4.3 in /usr/local/lib/python3.6/dist-packages (from mypy->adversarial-robustness-toolbox) (0.4.3)\n",
            "Requirement already satisfied: future in /usr/local/lib/python3.6/dist-packages (from ffmpeg-python->adversarial-robustness-toolbox) (0.16.0)\n",
            "Requirement already satisfied: llvmlite<0.32.0,>=0.31.0dev0 in /usr/local/lib/python3.6/dist-packages (from numba>=0.32->resampy->adversarial-robustness-toolbox) (0.31.0)\n",
            "Requirement already satisfied: pytz>=2017.2 in /usr/local/lib/python3.6/dist-packages (from pandas>=0.19->statsmodels->adversarial-robustness-toolbox) (2018.9)\n"
          ],
          "name": "stdout"
        }
      ]
    },
    {
      "cell_type": "code",
      "metadata": {
        "id": "-_WbOWPqg5Ge",
        "colab_type": "code",
        "colab": {}
      },
      "source": [
        "import numpy as np\n",
        "import matplotlib.pyplot as plt\n",
        "import fbfadvtrain\n",
        "import activationsf\n",
        "\n",
        "from activationsf import Kaf\n",
        "from lr_finder import LRFinder\n",
        "\n",
        "from tensorflow.keras.layers import Conv2D, BatchNormalization, Activation, Add, Input, ZeroPadding2D, GlobalAveragePooling2D, Dense, Flatten, MaxPooling2D, Dropout\n",
        "from tensorflow.keras.regularizers import l2 \n",
        "from tensorflow.keras import Model\n",
        "from tensorflow import math\n",
        "\n",
        "regularizer = l2(0.0005)"
      ],
      "execution_count": null,
      "outputs": []
    },
    {
      "cell_type": "code",
      "metadata": {
        "id": "4qRCfeJejWV8",
        "colab_type": "code",
        "colab": {
          "base_uri": "https://localhost:8080/",
          "height": 54
        },
        "outputId": "d5c53560-c940-4ba8-eb79-4f58177bef32"
      },
      "source": [
        "# Load CIFAR10\n",
        "from tensorflow.keras.datasets import cifar10\n",
        "(x_train, y_train), (x_test, y_test) = cifar10.load_data()"
      ],
      "execution_count": null,
      "outputs": [
        {
          "output_type": "stream",
          "text": [
            "Downloading data from https://www.cs.toronto.edu/~kriz/cifar-10-python.tar.gz\n",
            "170500096/170498071 [==============================] - 6s 0us/step\n"
          ],
          "name": "stdout"
        }
      ]
    },
    {
      "cell_type": "code",
      "metadata": {
        "id": "bK4rIcyLjiPD",
        "colab_type": "code",
        "colab": {}
      },
      "source": [
        "# Use tf.data to improve performances\n",
        "train = tf.data.Dataset.from_tensor_slices((x_train, y_train))\n",
        "test = tf.data.Dataset.from_tensor_slices((x_test, y_test))\n",
        "\n",
        "# Data augmentation \n",
        "def normalize(img, label):\n",
        "  img = tf.cast(img, tf.float32)\n",
        "  return img/255.0, label\n",
        "def augment(img, label):\n",
        "  img, _ = normalize(img, label)\n",
        "  img = tf.image.resize_with_crop_or_pad(img, 40, 40) # Pad evenly w/ four 0s pixels\n",
        "  img = tf.image.random_flip_left_right(img) # Random horizontal flip\n",
        "  img = tf.image.random_crop(img, [32, 32, 3]) # Randomly crop back to cifar dimensionality\n",
        "  return img, label\n",
        "\n",
        "# Create generator\n",
        "AUTOTUNE = tf.data.experimental.AUTOTUNE\n",
        "train = (\n",
        "    train\n",
        "    .shuffle(1000)\n",
        "    .map(augment, num_parallel_calls=AUTOTUNE)\n",
        "    .batch(128)\n",
        "    .prefetch(AUTOTUNE)\n",
        ")\n",
        "test = (\n",
        "    test\n",
        "    .shuffle(1000)\n",
        "    .map(normalize, num_parallel_calls=AUTOTUNE)\n",
        "    .batch(128)\n",
        "    .prefetch(AUTOTUNE)\n",
        ")  "
      ],
      "execution_count": null,
      "outputs": []
    },
    {
      "cell_type": "markdown",
      "metadata": {
        "id": "hn-dsoLfuPim",
        "colab_type": "text"
      },
      "source": [
        "### Build Resnet\n"
      ]
    },
    {
      "cell_type": "code",
      "metadata": {
        "id": "mAC80uQqjbUi",
        "colab_type": "code",
        "colab": {}
      },
      "source": [
        "def cifar_res_block(x, s, filters, activation, kaf=False): \n",
        "  \"\"\" \n",
        "    Residual Block\n",
        "  \"\"\"\n",
        "\n",
        "  x_skip = x # this will be used for addition with the residual block\n",
        "\n",
        "  # First convolution, feature space halves when s=2 \n",
        "  x = Conv2D(filters, kernel_size=(3, 3), strides=(s, s), padding='same', kernel_regularizer = regularizer)(x)\n",
        "  x = BatchNormalization()(x)\n",
        "  if kaf is not False:\n",
        "    x = Kaf(D = 20, conv = True, moving = False, ridge=tf.keras.activations.relu) (x)\n",
        "  else:\n",
        "    x = Activation(activation)(x)\n",
        "\n",
        "  # Second convolution, no dimensionality reduction\n",
        "  x = Conv2D(filters, kernel_size=(3, 3), strides=(1, 1), padding='same', kernel_regularizer = regularizer)(x)\n",
        "\n",
        "  # Project to a lower feature space the residual too if there was a dim reduction during 1st conv\n",
        "  if s > 1:\n",
        "    x_skip = Conv2D(filters, kernel_size=(3, 3), strides=(s, s), padding='same', kernel_regularizer = regularizer)(x_skip)\n",
        "  \n",
        "  # Add the input\n",
        "  x = Add()([x, x_skip])\n",
        "  x = BatchNormalization()(x)\n",
        "  if kaf is not False:\n",
        "    x = Kaf(D = 20, conv = True, moving = False, ridge=tf.keras.activations.relu) (x)\n",
        "  else:\n",
        "    x = Activation(activation)(x)\n",
        "\n",
        "  return x"
      ],
      "execution_count": null,
      "outputs": []
    },
    {
      "cell_type": "code",
      "metadata": {
        "id": "vf0KuFutjoNz",
        "colab_type": "code",
        "colab": {}
      },
      "source": [
        "def resnet20(act = None, is_kaf = False):\n",
        "\n",
        "  input = Input(shape=(32,32,3)) # padded cifar10 images size\n",
        "\n",
        "  # Preparation Step\n",
        "  x = Conv2D(16, kernel_size=(3, 3), padding='same', kernel_regularizer = regularizer)(input)\n",
        "  x = BatchNormalization()(x)\n",
        "  if is_kaf is not False:\n",
        "    x = Kaf(D = 20, conv = True, moving = False, ridge = tf.keras.activations.relu) (x)\n",
        "  else:\n",
        "    x = Activation(act)(x)\n",
        "\n",
        "  # 1st stage: filter size 16, keep feature map size \n",
        "  x = cifar_res_block(x, s=1, filters=16, activation = act, kaf = is_kaf)\n",
        "  x = cifar_res_block(x, s=1, filters=16, activation = act, kaf = is_kaf)\n",
        "  x = cifar_res_block(x, s=1, filters=16, activation = act, kaf = is_kaf)\n",
        "\n",
        "  # 2nd stage: double filter size, half feature map size\n",
        "  x = cifar_res_block(x, s=2, filters=32, activation = act, kaf = is_kaf)\n",
        "  x = cifar_res_block(x, s=1, filters=32, activation = act, kaf = is_kaf)\n",
        "  x = cifar_res_block(x, s=1, filters=32, activation = act, kaf = is_kaf)\n",
        "\n",
        "  # 3rd stage: double filter size, half feature map size\n",
        "  x = cifar_res_block(x, s=2, filters=64, activation = act, kaf = is_kaf)\n",
        "  x = cifar_res_block(x, s=1, filters=64, activation = act, kaf = is_kaf)\n",
        "  x = cifar_res_block(x, s=1, filters=64, activation = act, kaf = is_kaf)\n",
        "\n",
        "  x = GlobalAveragePooling2D()(x)\n",
        "\n",
        "  x = Dense(10, activation='softmax', kernel_initializer='he_normal', dtype=tf.float32, kernel_regularizer = regularizer)(x) \n",
        "\n",
        "  model = fbfadvtrain.FastBetterFreeTrainedModel(inputs=input, outputs=x, name='resnet') # Adv. Training Module\n",
        "\n",
        "  return model"
      ],
      "execution_count": null,
      "outputs": []
    },
    {
      "cell_type": "code",
      "metadata": {
        "id": "UM6eMTh62ID3",
        "colab_type": "code",
        "colab": {
          "base_uri": "https://localhost:8080/",
          "height": 199
        },
        "outputId": "82a58af4-5ab5-4c77-dcd4-66a7da9a8d7c"
      },
      "source": [
        "# Learning rate range test\n",
        "# Code from: https://github.com/beringresearch/lrfinder\n",
        "\n",
        "BATCH = 128\n",
        "STEPS_PER_EPOCH = np.ceil(len(x_train) / BATCH)\n",
        "\n",
        "\n",
        "resnet_20 = resnet20(is_kaf=True)\n",
        "resnet_20.compile(\n",
        "              optimizer = tf.keras.optimizers.SGD(),\n",
        "              loss=tf.keras.losses.SparseCategoricalCrossentropy(from_logits=False),\n",
        "              metrics='sparse_categorical_accuracy'\n",
        "              )\n",
        "\n",
        "lr_finder = LRFinder(resnet_20)\n",
        "lr_finder.find(train, start_lr=1e-4, end_lr=3, epochs=5,\n",
        "               steps_per_epoch=STEPS_PER_EPOCH)"
      ],
      "execution_count": null,
      "outputs": [
        {
          "output_type": "stream",
          "text": [
            "Epoch 1/5\n",
            "391/391 [==============================] - 131s 335ms/step - loss: 2.7636 - sparse_categorical_accuracy: 0.0375\n",
            "Epoch 2/5\n",
            "391/391 [==============================] - 131s 335ms/step - loss: 2.7167 - sparse_categorical_accuracy: 0.0448\n",
            "Epoch 3/5\n",
            "391/391 [==============================] - 131s 335ms/step - loss: 2.5836 - sparse_categorical_accuracy: 0.1223\n",
            "Epoch 4/5\n",
            "391/391 [==============================] - 130s 334ms/step - loss: 2.3950 - sparse_categorical_accuracy: 0.2054\n",
            "Epoch 5/5\n",
            "391/391 [==============================] - 130s 334ms/step - loss: 2.2354 - sparse_categorical_accuracy: 0.2228\n"
          ],
          "name": "stdout"
        }
      ]
    },
    {
      "cell_type": "code",
      "metadata": {
        "id": "O-yTCdq0Knwn",
        "colab_type": "code",
        "colab": {}
      },
      "source": [
        "import matplotlib.pyplot as plt\n",
        "\n",
        "def plot_loss(n_skip_beginning=10, n_skip_end=5, x_scale='log'):\n",
        "    \"\"\"\n",
        "    Plots the loss.\n",
        "    Parameters:\n",
        "        n_skip_beginning - number of batches to skip on the left.\n",
        "        n_skip_end - number of batches to skip on the right.\n",
        "        \"\"\"\n",
        "    learning_rates = lr_finder.get_learning_rates()\n",
        "    losses = lr_finder.get_losses()\n",
        "\n",
        "    f, ax = plt.subplots()\n",
        "    ax.set_ylabel(\"loss\")\n",
        "    ax.set_xlabel(\"learning rate (log scale)\")\n",
        "    ax.plot(learning_rates[n_skip_beginning:-n_skip_end],\n",
        "            losses[n_skip_beginning:-n_skip_end])\n",
        "    ax.set_xscale(x_scale)\n",
        "    return(ax)"
      ],
      "execution_count": null,
      "outputs": []
    },
    {
      "cell_type": "code",
      "metadata": {
        "id": "zrJqmKBXRilg",
        "colab_type": "code",
        "colab": {
          "base_uri": "https://localhost:8080/",
          "height": 302
        },
        "outputId": "4e120db6-3339-422f-bf9e-a4c6461f4447"
      },
      "source": [
        "axs = plot_loss()\n",
        "axs.axvline(x=lr_finder.get_best_lr(sma=20), c='r', linestyle='-.')"
      ],
      "execution_count": null,
      "outputs": [
        {
          "output_type": "execute_result",
          "data": {
            "text/plain": [
              "<matplotlib.lines.Line2D at 0x7f5393ff4cc0>"
            ]
          },
          "metadata": {
            "tags": []
          },
          "execution_count": 11
        },
        {
          "output_type": "display_data",
          "data": {
            "image/png": "[encoded data removed]",
            "text/plain": [
              "<Figure size 432x288 with 1 Axes>"
            ]
          },
          "metadata": {
            "tags": [],
            "needs_background": "light"
          }
        }
      ]
    },
    {
      "cell_type": "code",
      "metadata": {
        "id": "MiDVKRMajsGO",
        "colab_type": "code",
        "colab": {
          "base_uri": "https://localhost:8080/",
          "height": 1000
        },
        "outputId": "389d748b-da7f-447a-eb7a-768ea43ce5ef"
      },
      "source": [
        "import tensorflow_addons as tfa\n",
        "\n",
        "class schedulePlot(tf.keras.callbacks.Callback):\n",
        "\n",
        "  def __init__(self):\n",
        "    super(schedulePlot, self).__init__()\n",
        "    self.lrs = []\n",
        "    self.step = 0\n",
        "\n",
        "  def on_train_batch_end(self, batch, logs=None):\n",
        "    self.step += 1\n",
        "    self.lrs.append(self.model.optimizer.lr(self.step))            \n",
        "\n",
        "  def on_train_end(self, logs=None):\n",
        "    plt.plot(self.lrs)\n",
        "    plt.show()\n",
        "\n",
        "\n",
        "epochs = 80\n",
        "step_size = np.ceil((len(x_train) / 128) * (epochs/2))\n",
        "\n",
        "oclr = tfa.optimizers.TriangularCyclicalLearningRate(initial_learning_rate = 0.01, maximal_learning_rate = 0.8, step_size = step_size)\n",
        "# Sanity check, uncomment and add as callback to plot the evolution of lr throughout the training\n",
        "# lrplot = schedulePlot() \n",
        "\n",
        "resnet_20.compile(\n",
        "              optimizer = tf.keras.optimizers.SGD(learning_rate = oclr),\n",
        "              loss=tf.keras.losses.SparseCategoricalCrossentropy(from_logits=False),\n",
        "              metrics='sparse_categorical_accuracy'\n",
        "              )\n",
        "resnet_20.fit(x = train, epochs = epochs, batch_size = 128, validation_data = test)\n"
      ],
      "execution_count": null,
      "outputs": [
        {
          "output_type": "stream",
          "text": [
            "Epoch 1/80\n",
            "391/391 [==============================] - 135s 346ms/step - loss: 2.5668 - sparse_categorical_accuracy: 0.1283 - val_loss: 2.4179 - val_sparse_categorical_accuracy: 0.2167\n",
            "Epoch 2/80\n",
            "391/391 [==============================] - 135s 346ms/step - loss: 2.3718 - sparse_categorical_accuracy: 0.2013 - val_loss: 2.2302 - val_sparse_categorical_accuracy: 0.3025\n",
            "Epoch 3/80\n",
            "391/391 [==============================] - 135s 345ms/step - loss: 2.3144 - sparse_categorical_accuracy: 0.2161 - val_loss: 2.1818 - val_sparse_categorical_accuracy: 0.3164\n",
            "Epoch 4/80\n",
            "391/391 [==============================] - 135s 345ms/step - loss: 2.2620 - sparse_categorical_accuracy: 0.2347 - val_loss: 2.1343 - val_sparse_categorical_accuracy: 0.3396\n",
            "Epoch 5/80\n",
            "391/391 [==============================] - 135s 346ms/step - loss: 2.1963 - sparse_categorical_accuracy: 0.2483 - val_loss: 2.0460 - val_sparse_categorical_accuracy: 0.3584\n",
            "Epoch 6/80\n",
            "391/391 [==============================] - 135s 346ms/step - loss: 2.1328 - sparse_categorical_accuracy: 0.2628 - val_loss: 1.9941 - val_sparse_categorical_accuracy: 0.3594\n",
            "Epoch 7/80\n",
            "391/391 [==============================] - 135s 345ms/step - loss: 2.0727 - sparse_categorical_accuracy: 0.2728 - val_loss: 2.0567 - val_sparse_categorical_accuracy: 0.3540\n",
            "Epoch 8/80\n",
            "391/391 [==============================] - 135s 346ms/step - loss: 2.0103 - sparse_categorical_accuracy: 0.2860 - val_loss: 1.8868 - val_sparse_categorical_accuracy: 0.4096\n",
            "Epoch 9/80\n",
            "391/391 [==============================] - 135s 345ms/step - loss: 1.9511 - sparse_categorical_accuracy: 0.2958 - val_loss: 1.7811 - val_sparse_categorical_accuracy: 0.4220\n",
            "Epoch 10/80\n",
            "391/391 [==============================] - 135s 345ms/step - loss: 1.8878 - sparse_categorical_accuracy: 0.3087 - val_loss: 1.8471 - val_sparse_categorical_accuracy: 0.4139\n",
            "Epoch 11/80\n",
            "391/391 [==============================] - 135s 346ms/step - loss: 1.8299 - sparse_categorical_accuracy: 0.3222 - val_loss: 1.7372 - val_sparse_categorical_accuracy: 0.4403\n",
            "Epoch 12/80\n",
            "391/391 [==============================] - 135s 345ms/step - loss: 1.7740 - sparse_categorical_accuracy: 0.3329 - val_loss: 1.6219 - val_sparse_categorical_accuracy: 0.4823\n",
            "Epoch 13/80\n",
            "391/391 [==============================] - 135s 345ms/step - loss: 1.7207 - sparse_categorical_accuracy: 0.3419 - val_loss: 1.6767 - val_sparse_categorical_accuracy: 0.4429\n",
            "Epoch 14/80\n",
            "391/391 [==============================] - 135s 345ms/step - loss: 1.6705 - sparse_categorical_accuracy: 0.3520 - val_loss: 1.4811 - val_sparse_categorical_accuracy: 0.5239\n",
            "Epoch 15/80\n",
            "391/391 [==============================] - 135s 345ms/step - loss: 1.6274 - sparse_categorical_accuracy: 0.3643 - val_loss: 1.6322 - val_sparse_categorical_accuracy: 0.4649\n",
            "Epoch 16/80\n",
            "391/391 [==============================] - 135s 346ms/step - loss: 1.5890 - sparse_categorical_accuracy: 0.3712 - val_loss: 1.5971 - val_sparse_categorical_accuracy: 0.4656\n",
            "Epoch 17/80\n",
            "391/391 [==============================] - 135s 345ms/step - loss: 1.5550 - sparse_categorical_accuracy: 0.3826 - val_loss: 1.3785 - val_sparse_categorical_accuracy: 0.5854\n",
            "Epoch 18/80\n",
            "391/391 [==============================] - 135s 345ms/step - loss: 1.5309 - sparse_categorical_accuracy: 0.3899 - val_loss: 1.3014 - val_sparse_categorical_accuracy: 0.5838\n",
            "Epoch 19/80\n",
            "391/391 [==============================] - 135s 346ms/step - loss: 1.5033 - sparse_categorical_accuracy: 0.3959 - val_loss: 1.3437 - val_sparse_categorical_accuracy: 0.5746\n",
            "Epoch 20/80\n",
            "391/391 [==============================] - 135s 346ms/step - loss: 1.4882 - sparse_categorical_accuracy: 0.4008 - val_loss: 1.3701 - val_sparse_categorical_accuracy: 0.5381\n",
            "Epoch 21/80\n",
            "391/391 [==============================] - 135s 345ms/step - loss: 1.4706 - sparse_categorical_accuracy: 0.4096 - val_loss: 1.2271 - val_sparse_categorical_accuracy: 0.6095\n",
            "Epoch 22/80\n",
            "391/391 [==============================] - 135s 345ms/step - loss: 1.4585 - sparse_categorical_accuracy: 0.4128 - val_loss: 1.2908 - val_sparse_categorical_accuracy: 0.5760\n",
            "Epoch 23/80\n",
            "391/391 [==============================] - 135s 345ms/step - loss: 1.4525 - sparse_categorical_accuracy: 0.4186 - val_loss: 1.3160 - val_sparse_categorical_accuracy: 0.5812\n",
            "Epoch 24/80\n",
            "391/391 [==============================] - 135s 345ms/step - loss: 1.4401 - sparse_categorical_accuracy: 0.4230 - val_loss: 1.4373 - val_sparse_categorical_accuracy: 0.5241\n",
            "Epoch 25/80\n",
            "391/391 [==============================] - 135s 345ms/step - loss: 1.4381 - sparse_categorical_accuracy: 0.4245 - val_loss: 1.2872 - val_sparse_categorical_accuracy: 0.5836\n",
            "Epoch 26/80\n",
            "391/391 [==============================] - 135s 345ms/step - loss: 1.4296 - sparse_categorical_accuracy: 0.4269 - val_loss: 1.3570 - val_sparse_categorical_accuracy: 0.5782\n",
            "Epoch 27/80\n",
            "391/391 [==============================] - 135s 345ms/step - loss: 1.4261 - sparse_categorical_accuracy: 0.4276 - val_loss: 1.2309 - val_sparse_categorical_accuracy: 0.6291\n",
            "Epoch 28/80\n",
            "391/391 [==============================] - 135s 345ms/step - loss: 1.4212 - sparse_categorical_accuracy: 0.4309 - val_loss: 1.4461 - val_sparse_categorical_accuracy: 0.5176\n",
            "Epoch 29/80\n",
            "391/391 [==============================] - 135s 345ms/step - loss: 1.4183 - sparse_categorical_accuracy: 0.4340 - val_loss: 1.3089 - val_sparse_categorical_accuracy: 0.5901\n",
            "Epoch 30/80\n",
            "391/391 [==============================] - 135s 345ms/step - loss: 1.4217 - sparse_categorical_accuracy: 0.4314 - val_loss: 1.2864 - val_sparse_categorical_accuracy: 0.5942\n",
            "Epoch 31/80\n",
            "391/391 [==============================] - 135s 345ms/step - loss: 1.4207 - sparse_categorical_accuracy: 0.4347 - val_loss: 1.2899 - val_sparse_categorical_accuracy: 0.6278\n",
            "Epoch 32/80\n",
            "391/391 [==============================] - 135s 345ms/step - loss: 1.4222 - sparse_categorical_accuracy: 0.4331 - val_loss: 1.3322 - val_sparse_categorical_accuracy: 0.5778\n",
            "Epoch 33/80\n",
            "391/391 [==============================] - 135s 345ms/step - loss: 1.4201 - sparse_categorical_accuracy: 0.4352 - val_loss: 1.2945 - val_sparse_categorical_accuracy: 0.6021\n",
            "Epoch 34/80\n",
            "391/391 [==============================] - 135s 345ms/step - loss: 1.4194 - sparse_categorical_accuracy: 0.4334 - val_loss: 1.4820 - val_sparse_categorical_accuracy: 0.5023\n",
            "Epoch 35/80\n",
            "391/391 [==============================] - 135s 345ms/step - loss: 1.4204 - sparse_categorical_accuracy: 0.4342 - val_loss: 1.2648 - val_sparse_categorical_accuracy: 0.6030\n",
            "Epoch 36/80\n",
            "391/391 [==============================] - 135s 345ms/step - loss: 1.4180 - sparse_categorical_accuracy: 0.4368 - val_loss: 1.3078 - val_sparse_categorical_accuracy: 0.6079\n",
            "Epoch 37/80\n",
            "391/391 [==============================] - 135s 345ms/step - loss: 1.4219 - sparse_categorical_accuracy: 0.4352 - val_loss: 1.2703 - val_sparse_categorical_accuracy: 0.6202\n",
            "Epoch 38/80\n",
            "391/391 [==============================] - 135s 345ms/step - loss: 1.4281 - sparse_categorical_accuracy: 0.4342 - val_loss: 1.3123 - val_sparse_categorical_accuracy: 0.5982\n",
            "Epoch 39/80\n",
            "391/391 [==============================] - 135s 345ms/step - loss: 1.4249 - sparse_categorical_accuracy: 0.4348 - val_loss: 1.2893 - val_sparse_categorical_accuracy: 0.6089\n",
            "Epoch 40/80\n",
            "391/391 [==============================] - 135s 344ms/step - loss: 1.4283 - sparse_categorical_accuracy: 0.4370 - val_loss: 1.5760 - val_sparse_categorical_accuracy: 0.4907\n",
            "Epoch 41/80\n",
            "391/391 [==============================] - 135s 345ms/step - loss: 1.4227 - sparse_categorical_accuracy: 0.4358 - val_loss: 1.2322 - val_sparse_categorical_accuracy: 0.6224\n",
            "Epoch 42/80\n",
            "391/391 [==============================] - 135s 345ms/step - loss: 1.4170 - sparse_categorical_accuracy: 0.4382 - val_loss: 1.3210 - val_sparse_categorical_accuracy: 0.5937\n",
            "Epoch 43/80\n",
            "391/391 [==============================] - 135s 344ms/step - loss: 1.4055 - sparse_categorical_accuracy: 0.4402 - val_loss: 1.3115 - val_sparse_categorical_accuracy: 0.5776\n",
            "Epoch 44/80\n",
            "391/391 [==============================] - 135s 345ms/step - loss: 1.3957 - sparse_categorical_accuracy: 0.4445 - val_loss: 1.2291 - val_sparse_categorical_accuracy: 0.6116\n",
            "Epoch 45/80\n",
            "391/391 [==============================] - 135s 345ms/step - loss: 1.3895 - sparse_categorical_accuracy: 0.4480 - val_loss: 1.3345 - val_sparse_categorical_accuracy: 0.5896\n",
            "Epoch 46/80\n",
            "391/391 [==============================] - 135s 344ms/step - loss: 1.3781 - sparse_categorical_accuracy: 0.4500 - val_loss: 1.1686 - val_sparse_categorical_accuracy: 0.6511\n",
            "Epoch 47/80\n",
            "391/391 [==============================] - 135s 345ms/step - loss: 1.3698 - sparse_categorical_accuracy: 0.4531 - val_loss: 1.2460 - val_sparse_categorical_accuracy: 0.6060\n",
            "Epoch 48/80\n",
            "391/391 [==============================] - 135s 345ms/step - loss: 1.3655 - sparse_categorical_accuracy: 0.4516 - val_loss: 1.3191 - val_sparse_categorical_accuracy: 0.5936\n",
            "Epoch 49/80\n",
            "391/391 [==============================] - 135s 345ms/step - loss: 1.3558 - sparse_categorical_accuracy: 0.4556 - val_loss: 1.1796 - val_sparse_categorical_accuracy: 0.6611\n",
            "Epoch 50/80\n",
            "391/391 [==============================] - 135s 344ms/step - loss: 1.3486 - sparse_categorical_accuracy: 0.4586 - val_loss: 1.3533 - val_sparse_categorical_accuracy: 0.5583\n",
            "Epoch 51/80\n",
            "391/391 [==============================] - 135s 345ms/step - loss: 1.3369 - sparse_categorical_accuracy: 0.4622 - val_loss: 1.4701 - val_sparse_categorical_accuracy: 0.5670\n",
            "Epoch 52/80\n",
            "391/391 [==============================] - 135s 345ms/step - loss: 1.3285 - sparse_categorical_accuracy: 0.4660 - val_loss: 1.3819 - val_sparse_categorical_accuracy: 0.5665\n",
            "Epoch 53/80\n",
            "391/391 [==============================] - 135s 345ms/step - loss: 1.3216 - sparse_categorical_accuracy: 0.4674 - val_loss: 1.2151 - val_sparse_categorical_accuracy: 0.6258\n",
            "Epoch 54/80\n",
            "391/391 [==============================] - 135s 345ms/step - loss: 1.3113 - sparse_categorical_accuracy: 0.4687 - val_loss: 1.1256 - val_sparse_categorical_accuracy: 0.6774\n",
            "Epoch 55/80\n",
            "391/391 [==============================] - 135s 345ms/step - loss: 1.3041 - sparse_categorical_accuracy: 0.4741 - val_loss: 1.1881 - val_sparse_categorical_accuracy: 0.6196\n",
            "Epoch 56/80\n",
            "391/391 [==============================] - 135s 345ms/step - loss: 1.2925 - sparse_categorical_accuracy: 0.4744 - val_loss: 1.1948 - val_sparse_categorical_accuracy: 0.6186\n",
            "Epoch 57/80\n",
            "391/391 [==============================] - 135s 345ms/step - loss: 1.2886 - sparse_categorical_accuracy: 0.4756 - val_loss: 1.0722 - val_sparse_categorical_accuracy: 0.6738\n",
            "Epoch 58/80\n",
            "391/391 [==============================] - 135s 345ms/step - loss: 1.2771 - sparse_categorical_accuracy: 0.4821 - val_loss: 1.0934 - val_sparse_categorical_accuracy: 0.6650\n",
            "Epoch 59/80\n",
            "391/391 [==============================] - 135s 345ms/step - loss: 1.2660 - sparse_categorical_accuracy: 0.4838 - val_loss: 1.0942 - val_sparse_categorical_accuracy: 0.6833\n",
            "Epoch 60/80\n",
            "391/391 [==============================] - 135s 345ms/step - loss: 1.2602 - sparse_categorical_accuracy: 0.4852 - val_loss: 1.0838 - val_sparse_categorical_accuracy: 0.6800\n",
            "Epoch 61/80\n",
            "391/391 [==============================] - 135s 345ms/step - loss: 1.2481 - sparse_categorical_accuracy: 0.4876 - val_loss: 1.1151 - val_sparse_categorical_accuracy: 0.6820\n",
            "Epoch 62/80\n",
            "391/391 [==============================] - 135s 345ms/step - loss: 1.2372 - sparse_categorical_accuracy: 0.4897 - val_loss: 1.0319 - val_sparse_categorical_accuracy: 0.6966\n",
            "Epoch 63/80\n",
            "391/391 [==============================] - 135s 345ms/step - loss: 1.2283 - sparse_categorical_accuracy: 0.4948 - val_loss: 1.1916 - val_sparse_categorical_accuracy: 0.6247\n",
            "Epoch 64/80\n",
            "391/391 [==============================] - 135s 345ms/step - loss: 1.2164 - sparse_categorical_accuracy: 0.4974 - val_loss: 1.0588 - val_sparse_categorical_accuracy: 0.6948\n",
            "Epoch 65/80\n",
            "391/391 [==============================] - 135s 345ms/step - loss: 1.2088 - sparse_categorical_accuracy: 0.4977 - val_loss: 0.9901 - val_sparse_categorical_accuracy: 0.7074\n",
            "Epoch 66/80\n",
            "391/391 [==============================] - 135s 345ms/step - loss: 1.1987 - sparse_categorical_accuracy: 0.5029 - val_loss: 1.0410 - val_sparse_categorical_accuracy: 0.6942\n",
            "Epoch 67/80\n",
            "391/391 [==============================] - 135s 345ms/step - loss: 1.1866 - sparse_categorical_accuracy: 0.5038 - val_loss: 0.9987 - val_sparse_categorical_accuracy: 0.6968\n",
            "Epoch 68/80\n",
            "391/391 [==============================] - 135s 345ms/step - loss: 1.1703 - sparse_categorical_accuracy: 0.5117 - val_loss: 1.0015 - val_sparse_categorical_accuracy: 0.7103\n",
            "Epoch 69/80\n",
            "391/391 [==============================] - 135s 345ms/step - loss: 1.1595 - sparse_categorical_accuracy: 0.5148 - val_loss: 0.9712 - val_sparse_categorical_accuracy: 0.7225\n",
            "Epoch 70/80\n",
            "391/391 [==============================] - 135s 345ms/step - loss: 1.1455 - sparse_categorical_accuracy: 0.5182 - val_loss: 1.0522 - val_sparse_categorical_accuracy: 0.6765\n",
            "Epoch 71/80\n",
            "391/391 [==============================] - 135s 345ms/step - loss: 1.1341 - sparse_categorical_accuracy: 0.5222 - val_loss: 0.9917 - val_sparse_categorical_accuracy: 0.7156\n",
            "Epoch 72/80\n",
            "391/391 [==============================] - 135s 345ms/step - loss: 1.1185 - sparse_categorical_accuracy: 0.5272 - val_loss: 0.9287 - val_sparse_categorical_accuracy: 0.7366\n",
            "Epoch 73/80\n",
            "391/391 [==============================] - 135s 345ms/step - loss: 1.1010 - sparse_categorical_accuracy: 0.5344 - val_loss: 0.9172 - val_sparse_categorical_accuracy: 0.7320\n",
            "Epoch 74/80\n",
            "391/391 [==============================] - 135s 345ms/step - loss: 1.0848 - sparse_categorical_accuracy: 0.5359 - val_loss: 0.9130 - val_sparse_categorical_accuracy: 0.7323\n",
            "Epoch 75/80\n",
            "391/391 [==============================] - 135s 345ms/step - loss: 1.0682 - sparse_categorical_accuracy: 0.5431 - val_loss: 0.8837 - val_sparse_categorical_accuracy: 0.7479\n",
            "Epoch 76/80\n",
            "391/391 [==============================] - 135s 345ms/step - loss: 1.0499 - sparse_categorical_accuracy: 0.5502 - val_loss: 0.8283 - val_sparse_categorical_accuracy: 0.7634\n",
            "Epoch 77/80\n",
            "391/391 [==============================] - 135s 345ms/step - loss: 1.0265 - sparse_categorical_accuracy: 0.5559 - val_loss: 0.8346 - val_sparse_categorical_accuracy: 0.7603\n",
            "Epoch 78/80\n",
            "391/391 [==============================] - 135s 345ms/step - loss: 1.0065 - sparse_categorical_accuracy: 0.5622 - val_loss: 0.8052 - val_sparse_categorical_accuracy: 0.7722\n",
            "Epoch 79/80\n",
            "391/391 [==============================] - 135s 345ms/step - loss: 0.9843 - sparse_categorical_accuracy: 0.5714 - val_loss: 0.7882 - val_sparse_categorical_accuracy: 0.7772\n",
            "Epoch 80/80\n",
            "391/391 [==============================] - 135s 345ms/step - loss: 0.9623 - sparse_categorical_accuracy: 0.5806 - val_loss: 0.7706 - val_sparse_categorical_accuracy: 0.7907\n"
          ],
          "name": "stdout"
        },
        {
          "output_type": "execute_result",
          "data": {
            "text/plain": [
              "<tensorflow.python.keras.callbacks.History at 0x7f539389be80>"
            ]
          },
          "metadata": {
            "tags": []
          },
          "execution_count": 12
        }
      ]
    },
    {
      "cell_type": "code",
      "metadata": {
        "id": "r6jxFmDMm8yR",
        "colab_type": "code",
        "colab": {
          "base_uri": "https://localhost:8080/",
          "height": 274
        },
        "outputId": "4ea68fad-45be-45ee-cc64-874bf0b66a12"
      },
      "source": [
        "# Store the model\n",
        "resnet_20.save('/content/resnet20_kafs')\n",
        "!zip -r resnet20_kafrelu_ocrob_lrfinder.zip ./resnet20_kafs\n",
        "from google.colab import files\n",
        "files.download('/content/resnet20_kafrelu_ocrob_lrfinder.zip')"
      ],
      "execution_count": null,
      "outputs": [
        {
          "output_type": "stream",
          "text": [
            "WARNING:tensorflow:From /usr/local/lib/python3.6/dist-packages/tensorflow/python/training/tracking/tracking.py:111: Model.state_updates (from tensorflow.python.keras.engine.training) is deprecated and will be removed in a future version.\n",
            "Instructions for updating:\n",
            "This property should not be used in TensorFlow 2.0, as updates are applied automatically.\n",
            "WARNING:tensorflow:From /usr/local/lib/python3.6/dist-packages/tensorflow/python/training/tracking/tracking.py:111: Layer.updates (from tensorflow.python.keras.engine.base_layer) is deprecated and will be removed in a future version.\n",
            "Instructions for updating:\n",
            "This property should not be used in TensorFlow 2.0, as updates are applied automatically.\n",
            "INFO:tensorflow:Assets written to: /content/resnet20_kafs/assets\n",
            "  adding: resnet20_kafs/ (stored 0%)\n",
            "  adding: resnet20_kafs/variables/ (stored 0%)\n",
            "  adding: resnet20_kafs/variables/variables.index (deflated 78%)\n",
            "  adding: resnet20_kafs/variables/variables.data-00000-of-00001 (deflated 10%)\n",
            "  adding: resnet20_kafs/assets/ (stored 0%)\n",
            "  adding: resnet20_kafs/saved_model.pb (deflated 92%)\n"
          ],
          "name": "stdout"
        },
        {
          "output_type": "display_data",
          "data": {
            "application/javascript": [
              "\n",
              "    async function download(id, filename, size) {\n",
              "      if (!google.colab.kernel.accessAllowed) {\n",
              "        return;\n",
              "      }\n",
              "      const div = document.createElement('div');\n",
              "      const label = document.createElement('label');\n",
              "      label.textContent = `Downloading \"${filename}\": `;\n",
              "      div.appendChild(label);\n",
              "      const progress = document.createElement('progress');\n",
              "      progress.max = size;\n",
              "      div.appendChild(progress);\n",
              "      document.body.appendChild(div);\n",
              "\n",
              "      const buffers = [];\n",
              "      let downloaded = 0;\n",
              "\n",
              "      const channel = await google.colab.kernel.comms.open(id);\n",
              "      // Send a message to notify the kernel that we're ready.\n",
              "      channel.send({})\n",
              "\n",
              "      for await (const message of channel.messages) {\n",
              "        // Send a message to notify the kernel that we're ready.\n",
              "        channel.send({})\n",
              "        if (message.buffers) {\n",
              "          for (const buffer of message.buffers) {\n",
              "            buffers.push(buffer);\n",
              "            downloaded += buffer.byteLength;\n",
              "            progress.value = downloaded;\n",
              "          }\n",
              "        }\n",
              "      }\n",
              "      const blob = new Blob(buffers, {type: 'application/binary'});\n",
              "      const a = document.createElement('a');\n",
              "      a.href = window.URL.createObjectURL(blob);\n",
              "      a.download = filename;\n",
              "      div.appendChild(a);\n",
              "      a.click();\n",
              "      div.remove();\n",
              "    }\n",
              "  "
            ],
            "text/plain": [
              "<IPython.core.display.Javascript object>"
            ]
          },
          "metadata": {
            "tags": []
          }
        },
        {
          "output_type": "display_data",
          "data": {
            "application/javascript": [
              "download(\"download_0e984d72-e46f-427e-9298-35995d13441e\", \"resnet20_kafrelu_ocrob_lrfinder.zip\", 1316322)"
            ],
            "text/plain": [
              "<IPython.core.display.Javascript object>"
            ]
          },
          "metadata": {
            "tags": []
          }
        }
      ]
    },
    {
      "cell_type": "code",
      "metadata": {
        "id": "y4D59NuC1pTT",
        "colab_type": "code",
        "colab": {
          "base_uri": "https://localhost:8080/",
          "height": 145
        },
        "outputId": "487fff3c-8b6c-420c-c403-3e05d0fee109"
      },
      "source": [
        "# Load robust model trained as in https://arxiv.org/abs/2001.03994\n",
        "!unzip /content/resnet20_kafrelu_ocrob_lrfinder.zip\n",
        "import tensorflow_addons as tfa\n",
        "from tensorflow_addons.optimizers import TriangularCyclicalLearningRate\n",
        "model_path = '/content/resnet20_kafs'\n",
        "model = tf.keras.models.load_model(model_path, custom_objects={'optimizer': TriangularCyclicalLearningRate})\n",
        "model = fbfadvtrain.FastBetterFreeTrainedModel(inputs = model.input, outputs = model.output)"
      ],
      "execution_count": null,
      "outputs": [
        {
          "output_type": "stream",
          "text": [
            "Archive:  /content/resnet20_kafrelu_ocrob_lrfinder.zip\n",
            "   creating: resnet20_kafs/\n",
            "   creating: resnet20_kafs/variables/\n",
            "  inflating: resnet20_kafs/variables/variables.index  \n",
            "  inflating: resnet20_kafs/variables/variables.data-00000-of-00001  \n",
            "   creating: resnet20_kafs/assets/\n",
            "  inflating: resnet20_kafs/saved_model.pb  \n"
          ],
          "name": "stdout"
        }
      ]
    },
    {
      "cell_type": "code",
      "metadata": {
        "id": "BaqNvXld_Jqy",
        "colab_type": "code",
        "colab": {
          "base_uri": "https://localhost:8080/",
          "height": 783
        },
        "outputId": "48f1a3be-edca-44bd-a99d-b6cec613f049"
      },
      "source": [
        "# Last phase implementation of the OC learning policy\n",
        "# lr_min = lr_max/(25 * 100)\n",
        "def lr_schedule(epoch, lr):\n",
        "  if epoch % 4 == 0:\n",
        "    lr = lr / 2\n",
        "  else:\n",
        "    lr = lr\n",
        "  return lr\n",
        "\n",
        "lr_callback = tf.keras.callbacks.LearningRateScheduler(lr_schedule)\n",
        "model.compile(\n",
        "              optimizer = tf.keras.optimizers.SGD(learning_rate = 0.01),\n",
        "              loss=tf.keras.losses.SparseCategoricalCrossentropy(from_logits=False),\n",
        "              metrics='sparse_categorical_accuracy'\n",
        "              )\n",
        "model.fit(x = train, epochs = 20, batch_size = 128, validation_data = test, callbacks=[lr_callback])"
      ],
      "execution_count": null,
      "outputs": [
        {
          "output_type": "stream",
          "text": [
            "Epoch 1/20\n",
            "391/391 [==============================] - 92s 235ms/step - loss: 0.9474 - sparse_categorical_accuracy: 0.5865 - val_loss: 0.7639 - val_sparse_categorical_accuracy: 0.7904\n",
            "Epoch 2/20\n",
            "391/391 [==============================] - 91s 234ms/step - loss: 0.9441 - sparse_categorical_accuracy: 0.5884 - val_loss: 0.7584 - val_sparse_categorical_accuracy: 0.7937\n",
            "Epoch 3/20\n",
            "391/391 [==============================] - 92s 234ms/step - loss: 0.9398 - sparse_categorical_accuracy: 0.5870 - val_loss: 0.7563 - val_sparse_categorical_accuracy: 0.7926\n",
            "Epoch 4/20\n",
            "391/391 [==============================] - 91s 234ms/step - loss: 0.9385 - sparse_categorical_accuracy: 0.5887 - val_loss: 0.7560 - val_sparse_categorical_accuracy: 0.7935\n",
            "Epoch 5/20\n",
            "391/391 [==============================] - 91s 234ms/step - loss: 0.9353 - sparse_categorical_accuracy: 0.5897 - val_loss: 0.7539 - val_sparse_categorical_accuracy: 0.7942\n",
            "Epoch 6/20\n",
            "391/391 [==============================] - 91s 234ms/step - loss: 0.9321 - sparse_categorical_accuracy: 0.5900 - val_loss: 0.7537 - val_sparse_categorical_accuracy: 0.7948\n",
            "Epoch 7/20\n",
            "391/391 [==============================] - 92s 234ms/step - loss: 0.9327 - sparse_categorical_accuracy: 0.5917 - val_loss: 0.7508 - val_sparse_categorical_accuracy: 0.7961\n",
            "Epoch 8/20\n",
            "391/391 [==============================] - 91s 234ms/step - loss: 0.9312 - sparse_categorical_accuracy: 0.5898 - val_loss: 0.7527 - val_sparse_categorical_accuracy: 0.7944\n",
            "Epoch 9/20\n",
            "391/391 [==============================] - 91s 234ms/step - loss: 0.9307 - sparse_categorical_accuracy: 0.5913 - val_loss: 0.7539 - val_sparse_categorical_accuracy: 0.7957\n",
            "Epoch 10/20\n",
            "391/391 [==============================] - 91s 234ms/step - loss: 0.9290 - sparse_categorical_accuracy: 0.5915 - val_loss: 0.7514 - val_sparse_categorical_accuracy: 0.7940\n",
            "Epoch 11/20\n",
            "391/391 [==============================] - 91s 233ms/step - loss: 0.9296 - sparse_categorical_accuracy: 0.5907 - val_loss: 0.7560 - val_sparse_categorical_accuracy: 0.7949\n",
            "Epoch 12/20\n",
            "391/391 [==============================] - 91s 234ms/step - loss: 0.9275 - sparse_categorical_accuracy: 0.5921 - val_loss: 0.7507 - val_sparse_categorical_accuracy: 0.7952\n",
            "Epoch 13/20\n",
            "391/391 [==============================] - 91s 233ms/step - loss: 0.9259 - sparse_categorical_accuracy: 0.5925 - val_loss: 0.7505 - val_sparse_categorical_accuracy: 0.7970\n",
            "Epoch 14/20\n",
            "391/391 [==============================] - 91s 234ms/step - loss: 0.9283 - sparse_categorical_accuracy: 0.5917 - val_loss: 0.7490 - val_sparse_categorical_accuracy: 0.7957\n",
            "Epoch 15/20\n",
            "391/391 [==============================] - 91s 234ms/step - loss: 0.9254 - sparse_categorical_accuracy: 0.5927 - val_loss: 0.7464 - val_sparse_categorical_accuracy: 0.7952\n",
            "Epoch 16/20\n",
            "391/391 [==============================] - 91s 234ms/step - loss: 0.9278 - sparse_categorical_accuracy: 0.5901 - val_loss: 0.7468 - val_sparse_categorical_accuracy: 0.7973\n",
            "Epoch 17/20\n",
            "391/391 [==============================] - 92s 234ms/step - loss: 0.9249 - sparse_categorical_accuracy: 0.5930 - val_loss: 0.7481 - val_sparse_categorical_accuracy: 0.7960\n",
            "Epoch 18/20\n",
            "391/391 [==============================] - 91s 234ms/step - loss: 0.9260 - sparse_categorical_accuracy: 0.5923 - val_loss: 0.7472 - val_sparse_categorical_accuracy: 0.7960\n",
            "Epoch 19/20\n",
            "391/391 [==============================] - 91s 233ms/step - loss: 0.9249 - sparse_categorical_accuracy: 0.5931 - val_loss: 0.7459 - val_sparse_categorical_accuracy: 0.7976\n",
            "Epoch 20/20\n",
            "391/391 [==============================] - 91s 234ms/step - loss: 0.9256 - sparse_categorical_accuracy: 0.5925 - val_loss: 0.7466 - val_sparse_categorical_accuracy: 0.7957\n"
          ],
          "name": "stdout"
        },
        {
          "output_type": "execute_result",
          "data": {
            "text/plain": [
              "<tensorflow.python.keras.callbacks.History at 0x7f64b8ff2b70>"
            ]
          },
          "metadata": {
            "tags": []
          },
          "execution_count": 10
        }
      ]
    },
    {
      "cell_type": "code",
      "metadata": {
        "id": "5irNcMxzBAC2",
        "colab_type": "code",
        "colab": {
          "base_uri": "https://localhost:8080/",
          "height": 291
        },
        "outputId": "39d0ef37-ecb1-414d-976b-780c27ebc108"
      },
      "source": [
        "# Store the model\n",
        "model.save('/content/resnet20_kafs')\n",
        "!zip -r resnet20_kafrelu_ocrob_lrfinder.zip ./resnet20_kafs\n",
        "from google.colab import files\n",
        "files.download('/content/resnet20_kafrelu_ocrob_lrfinder.zip')"
      ],
      "execution_count": null,
      "outputs": [
        {
          "output_type": "stream",
          "text": [
            "WARNING:tensorflow:From /usr/local/lib/python3.6/dist-packages/tensorflow/python/training/tracking/tracking.py:111: Model.state_updates (from tensorflow.python.keras.engine.training) is deprecated and will be removed in a future version.\n",
            "Instructions for updating:\n",
            "This property should not be used in TensorFlow 2.0, as updates are applied automatically.\n",
            "WARNING:tensorflow:From /usr/local/lib/python3.6/dist-packages/tensorflow/python/training/tracking/tracking.py:111: Layer.updates (from tensorflow.python.keras.engine.base_layer) is deprecated and will be removed in a future version.\n",
            "Instructions for updating:\n",
            "This property should not be used in TensorFlow 2.0, as updates are applied automatically.\n",
            "INFO:tensorflow:Assets written to: /content/resnet20_kafs/assets\n",
            "  adding: resnet20_kafs/ (stored 0%)\n",
            "  adding: resnet20_kafs/assets/ (stored 0%)\n",
            "  adding: resnet20_kafs/saved_model.pb (deflated 92%)\n",
            "  adding: resnet20_kafs/variables/ (stored 0%)\n",
            "  adding: resnet20_kafs/variables/variables.index (deflated 78%)\n",
            "  adding: resnet20_kafs/variables/variables.data-00000-of-00001 (deflated 10%)\n"
          ],
          "name": "stdout"
        },
        {
          "output_type": "display_data",
          "data": {
            "application/javascript": [
              "\n",
              "    async function download(id, filename, size) {\n",
              "      if (!google.colab.kernel.accessAllowed) {\n",
              "        return;\n",
              "      }\n",
              "      const div = document.createElement('div');\n",
              "      const label = document.createElement('label');\n",
              "      label.textContent = `Downloading \"${filename}\": `;\n",
              "      div.appendChild(label);\n",
              "      const progress = document.createElement('progress');\n",
              "      progress.max = size;\n",
              "      div.appendChild(progress);\n",
              "      document.body.appendChild(div);\n",
              "\n",
              "      const buffers = [];\n",
              "      let downloaded = 0;\n",
              "\n",
              "      const channel = await google.colab.kernel.comms.open(id);\n",
              "      // Send a message to notify the kernel that we're ready.\n",
              "      channel.send({})\n",
              "\n",
              "      for await (const message of channel.messages) {\n",
              "        // Send a message to notify the kernel that we're ready.\n",
              "        channel.send({})\n",
              "        if (message.buffers) {\n",
              "          for (const buffer of message.buffers) {\n",
              "            buffers.push(buffer);\n",
              "            downloaded += buffer.byteLength;\n",
              "            progress.value = downloaded;\n",
              "          }\n",
              "        }\n",
              "      }\n",
              "      const blob = new Blob(buffers, {type: 'application/binary'});\n",
              "      const a = document.createElement('a');\n",
              "      a.href = window.URL.createObjectURL(blob);\n",
              "      a.download = filename;\n",
              "      div.appendChild(a);\n",
              "      a.click();\n",
              "      div.remove();\n",
              "    }\n",
              "  "
            ],
            "text/plain": [
              "<IPython.core.display.Javascript object>"
            ]
          },
          "metadata": {
            "tags": []
          }
        },
        {
          "output_type": "display_data",
          "data": {
            "application/javascript": [
              "download(\"download_237de6d7-dd86-4103-ac45-30002aff93be\", \"resnet20_kafrelu_ocrob_lrfinder.zip\", 1323404)"
            ],
            "text/plain": [
              "<IPython.core.display.Javascript object>"
            ]
          },
          "metadata": {
            "tags": []
          }
        }
      ]
    }
  ]
}
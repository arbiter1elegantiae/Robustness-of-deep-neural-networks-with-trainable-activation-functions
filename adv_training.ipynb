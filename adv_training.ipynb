{
 "cells": [
  {
   "cell_type": "markdown",
   "metadata": {},
   "source": [
    "# Adversarial Training using Fast Better than Free Implementation\n",
    "### Ref (https://arxiv.org/abs/2001.03994https://arxiv.org/abs/2001.03994)"
   ]
  },
  {
   "cell_type": "code",
   "execution_count": 1,
   "metadata": {},
   "outputs": [],
   "source": [
    "# Environment installation (e.g for colab usage)\n",
    "#!pip install adversarial-robustness-toolbox\n",
    "#!pip install tf-nightly==2.3.0-dev20200521"
   ]
  },
  {
   "cell_type": "code",
   "execution_count": null,
   "metadata": {},
   "outputs": [],
   "source": [
    "# Main imports\n",
    "import numpy as np\n",
    "import tensorflow as tf\n",
    "import matplotlib.pyplot as plt\n",
    "import fbfadvtrain\n",
    "import activationsf\n",
    "\n",
    "# Modelling imports\n",
    "from tensorflow.keras import layers \n",
    "from tensorflow.keras import initializers \n",
    "from tensorflow.keras import regularizers \n",
    "from tensorflow.keras import losses, optimizers, metrics\n",
    "from tensorflow.keras import callbacks \n",
    "from tensorflow.keras.models import Sequential"
   ]
  },
  {
   "cell_type": "code",
   "execution_count": 4,
   "metadata": {},
   "outputs": [],
   "source": [
    "# Load CIFAR10\n",
    "from tensorflow.keras.datasets import cifar10\n",
    "(x_train, y_train), (x_test, y_test) = cifar10.load_data()\n",
    "x_train, x_test = x_train/ 255.0, x_test/ 255.0"
   ]
  },
  {
   "cell_type": "code",
   "execution_count": 5,
   "metadata": {},
   "outputs": [],
   "source": [
    "from tensorflow.keras.activations import swishfrom tensorflow.keras.activations import swish\n",
    "\n",
    "tf.keras.mixed_precision.experimental.set_policy('mixed_float16')\n",
    "kaf_swish_cnn = Sequential([\n",
    "  \n",
    "  # VGG inspired model:\n",
    "  layers.Conv2D(32, 3, padding='same', activation=None, kernel_initializer='he_uniform',  input_shape = (32, 32, 3)),\n",
    "  layers.BatchNormalization(),\n",
    "  activationsf.Kaf(conv=True, D=20, name='kaf_1', ridge=swish),\n",
    "  layers.Conv2D(32, 3, padding='same', activation=None, kernel_initializer='he_uniform'),\n",
    "  layers.BatchNormalization(),\n",
    "  activationsf.Kaf(conv=True, D=20, name='kaf_2', ridge=swish),\n",
    "  layers.MaxPooling2D(pool_size=(2,2)),\n",
    "  layers.Dropout(0.2),\n",
    "\n",
    "  layers.Conv2D(64, 3, padding='same', activation=None, kernel_initializer='he_uniform'),\n",
    "  layers.BatchNormalization(),\n",
    "  activationsf.Kaf(conv=True, D=20, name='kaf_3', ridge=swish),\n",
    "  layers.Conv2D(64, 3, padding='same', activation=None, kernel_initializer='he_uniform'),\n",
    "  layers.BatchNormalization(),\n",
    "  activationsf.Kaf(conv=True, D=20, name='kaf_4', ridge=swish),\n",
    "  layers.MaxPooling2D(pool_size=(2,2)),\n",
    "  layers.Dropout(0.25),\n",
    "\n",
    "  layers.Conv2D(128, 3, padding='same', activation=None, kernel_initializer='he_uniform'),\n",
    "  layers.BatchNormalization(),\n",
    "  activationsf.Kaf(conv=True, D=20, name='kaf_5', ridge=swish),\n",
    "  layers.Conv2D(128, 3, padding='same', activation=None, kernel_initializer='he_uniform'),\n",
    "  layers.BatchNormalization(),\n",
    "  activationsf.Kaf(conv=True, D=20, name='kaf_6', ridge=swish),\n",
    "  layers.MaxPooling2D(pool_size=(2,2)),\n",
    "  layers.Dropout(0.3),\n",
    "\n",
    "  layers.Flatten(),\n",
    "  layers.Dense(64, activation=None, kernel_regularizer=regularizers.l2(0.0012)),\n",
    "  activationsf.Kaf(D=20, name='kaf_7', ridge=swish),\n",
    "  layers.Dropout(0.4),\n",
    "  layers.Dense(10, activation='softmax', kernel_regularizer=regularizers.l2(0.0012), dtype=tf.float32)\n",
    "])"
   ]
  },
  {
   "cell_type": "code",
   "execution_count": null,
   "metadata": {},
   "outputs": [],
   "source": [
    "# Using swish w/o KAFs\n",
    "tf.keras.mixed_precision.experimental.set_policy('mixed_float16')\n",
    "swish_cnn = Sequential([\n",
    "  \n",
    "  # Using KAFs instead\n",
    "  layers.Conv2D(32, 3, padding='same', activation='swish', kernel_initializer='he_uniform',  input_shape = (32, 32, 3)),\n",
    "  layers.BatchNormalization(),\n",
    "  #activationsf.Kaf(conv=True, D=16, name='kaf_1', ridge=swish),\n",
    "  layers.Conv2D(32, 3, padding='same', activation='swish', kernel_initializer='he_uniform'),\n",
    "  layers.BatchNormalization(),\n",
    "  #activationsf.Kaf(conv=True, D=16, name='kaf_2', ridge=swish),\n",
    "  layers.MaxPooling2D(pool_size=(2,2)),\n",
    "  layers.Dropout(0.2),\n",
    "\n",
    "  layers.Conv2D(64, 3, padding='same', activation='swish', kernel_initializer='he_uniform'),\n",
    "  layers.BatchNormalization(),\n",
    "  #activationsf.Kaf(conv=True, D=16, name='kaf_3', ridge=swish),\n",
    "  layers.Conv2D(64, 3, padding='same', activation='swish', kernel_initializer='he_uniform'),\n",
    "  layers.BatchNormalization(),\n",
    "  #activationsf.Kaf(conv=True, D=16, name='kaf_4', ridge=swish),\n",
    "  layers.MaxPooling2D(pool_size=(2,2)),\n",
    "  layers.Dropout(0.25),\n",
    "\n",
    "  layers.Conv2D(128, 3, padding='same', activation='swish', kernel_initializer='he_uniform'),\n",
    "  layers.BatchNormalization(),\n",
    "  #activationsf.Kaf(conv=True, D=16, name='kaf_5', ridge=swish),\n",
    "  layers.Conv2D(128, 3, padding='same', activation='swish', kernel_initializer='he_uniform'),\n",
    "  layers.BatchNormalization(),\n",
    "  #activationsf.Kaf(conv=True, D=16, name='kaf_6', ridge=swish),\n",
    "  layers.MaxPooling2D(pool_size=(2,2)),\n",
    "  layers.Dropout(0.3),\n",
    "\n",
    "  layers.Flatten(),\n",
    "  layers.Dense(64, activation='swish', kernel_regularizer=regularizers.l2(0.0012)),\n",
    "  #activationsf.Kaf(D=16, name='kaf_7', ridge=swish),\n",
    "  layers.Dropout(0.4),\n",
    "  layers.Dense(10, activation='softmax', kernel_regularizer=regularizers.l2(0.0012), dtype=tf.float32)\n",
    "])"
   ]
  },
  {
   "cell_type": "code",
   "execution_count": null,
   "metadata": {},
   "outputs": [],
   "source": [
    "swish_cnn.summary()"
   ]
  },
  {
   "cell_type": "code",
   "execution_count": null,
   "metadata": {},
   "outputs": [],
   "source": [
    "kaf_swish_cnn.summary()"
   ]
  },
  {
   "cell_type": "code",
   "execution_count": null,
   "metadata": {},
   "outputs": [],
   "source": [
    "# Create an adversarially trainable models using fbfadvtrain utilities \n",
    "rob_kaf_swish_cnn = fbfadvtrain.FastBetterFreeTrainedModel(inputs=kaf_swish_cnn.inputs, outputs=kaf_swish_cnn.outputs)\n",
    "rob_swish_cnn = fbfadvtrain.FastBetterFreeTrainedModel(inputs=swish_cnn.inputs, outputs=swish_cnn.outputs)"
   ]
  },
  {
   "cell_type": "code",
   "execution_count": null,
   "metadata": {},
   "outputs": [],
   "source": [
    "# Compile them\n",
    "rob_swish_cnn.compile(\n",
    "              optimizer = tf.keras.optimizers.SGD(),\n",
    "              loss=tf.keras.losses.SparseCategoricalCrossentropy(from_logits=False),\n",
    "              metrics=['accuracy']\n",
    "              )\n",
    "rob_kaf_swish_cnn.compile(\n",
    "              optimizer = tf.keras.optimizers.SGD(),\n",
    "              loss=tf.keras.losses.SparseCategoricalCrossentropy(from_logits=False),\n",
    "              metrics=['accuracy']\n",
    "              )"
   ]
  },
  {
   "cell_type": "code",
   "execution_count": null,
   "metadata": {},
   "outputs": [],
   "source": [
    "# If not already present\n",
    "#!git clone https://github.com/WittmannF/LRFinder.git!git clone https://github.com/WittmannF/LRFinder.git\n",
    "\n",
    "# Find the min max lr meaningful bounds to cycle through\n",
    "# Ref: https://www.machinecurve.com/index.php/2020/02/25/training-your-neural-network-with-cyclical-learning-rates/\n",
    "# Note need to make lRFinder/keras_callback.py tf compatible\n",
    "from LRFinder.keras_callback import LRFinder\n",
    "lr_finder = LRFinder(min_lr=1e-4, max_lr=1) # implemented as a callback"
   ]
  },
  {
   "cell_type": "code",
   "execution_count": null,
   "metadata": {},
   "outputs": [],
   "source": [
    "# Perform lr range test on 10 epochs\n",
    "\n",
    "# Kaf case\n",
    "rob_kaf_swish_cnn.fit(x_train, y_train, epochs = 6, batch_size=128, callbacks=[lr_finder, activationsf.plot_kafs_epoch_wise(7)])"
   ]
  },
  {
   "cell_type": "code",
   "execution_count": null,
   "metadata": {},
   "outputs": [],
   "source": [
    "# W/o KAFs model\n",
    "rob_swish_cnn.fit(x_train, y_train, epochs = 6, batch_size=128, callbacks=[lr_finder, activationsf.plot_kafs_epoch_wise(7)])"
   ]
  },
  {
   "cell_type": "code",
   "execution_count": null,
   "metadata": {},
   "outputs": [],
   "source": [
    "# Set up cyclic learning (linear) given the above results \n",
    "# ref: same as above\n",
    "!git clone https://github.com/bckenstler/CLR.git\n",
    "from CLR.clr_callback import CyclicLR\n",
    "\n",
    "# Set CLR options\n",
    "step_size = int(3 * (50000/128))\n",
    "base_lr = 1e-3\n",
    "max_lr = 3e-1\n",
    "mode='triangular'\n",
    "\n",
    "# Define the callback\n",
    "clr = CyclicLR(base_lr=base_lr, max_lr=max_lr, step_size=step_size, mode=mode)"
   ]
  },
  {
   "cell_type": "code",
   "execution_count": 12,
   "metadata": {},
   "outputs": [],
   "source": [
    "# Set Early Stopping\n",
    "# To avoid Catastrophical Overfitting? (ref paper)\n",
    "es = callbacks.EarlyStopping(\n",
    "        monitor='val_accuracy',\n",
    "        min_delta=5e-3,\n",
    "        patience=7,\n",
    "        mode='max', \n",
    "        restore_best_weights=True,\n",
    "        verbose=1)"
   ]
  },
  {
   "cell_type": "code",
   "execution_count": null,
   "metadata": {},
   "outputs": [],
   "source": [
    "# Plot diagnostic learning curves\n",
    "def summarize_diagnostics(history, fine_tuning=False):\n",
    "\t\n",
    "\tif fine_tuning :\n",
    "\t\tcolor_train = 'green'\n",
    "\t\tcolor_validation = 'red'\n",
    "\telse :\n",
    "\t\tcolor_train = 'blue'\n",
    "\t\tcolor_validation = 'orange'\n",
    "\n",
    "\t# plot loss\n",
    "\tplt.subplot(211)\n",
    "\tplt.title('Cross Entropy Loss')\n",
    "\tplt.plot(history.history['loss'], color=color_train, label='train')\n",
    "\tplt.plot(history.history['val_loss'], color=color_validation, label='test')\n",
    "\t# plot accuracy\n",
    "\tplt.subplot(212)\n",
    "\tplt.title('Classification Accuracy')\n",
    "\tplt.plot(history.history['accuracy'], color=color_train, label='train')\n",
    "\tplt.plot(history.history['val_accuracy'], color=color_validation, label='test')\n",
    "\tplt.show()\n",
    "\tplt.close()"
   ]
  },
  {
   "cell_type": "code",
   "execution_count": null,
   "metadata": {},
   "outputs": [],
   "source": [
    "# Actual Training\n",
    "history_swish = rob_swish_cnn.fit(x_train, y_train, epochs = 100, validation_data=(x_test[:2000], y_test[:2000]),batch_size=128, callbacks=[es, clr])"
   ]
  },
  {
   "cell_type": "code",
   "execution_count": null,
   "metadata": {},
   "outputs": [],
   "source": [
    "history_kaf_swish = rob_kaf_swish_cnn.fit(x_train, y_train, epochs = 100, validation_data=(x_test[:2000], y_test[:2000]),batch_size=128, callbacks=[es, clr, activationsf.plot_kafs_epoch_wise(7)])"
   ]
  },
  {
   "cell_type": "code",
   "execution_count": 13,
   "metadata": {},
   "outputs": [
    {
     "output_type": "display_data",
     "data": {
      "text/plain": "<Figure size 432x288 with 2 Axes>",
      "image/svg+xml": "<?xml version=\"1.0\" encoding=\"utf-8\" standalone=\"no\"?>\n<!DOCTYPE svg PUBLIC \"-//W3C//DTD SVG 1.1//EN\"\n  \"http://www.w3.org/Graphics/SVG/1.1/DTD/svg11.dtd\">\n<!-- Created with matplotlib (https://matplotlib.org/) -->\n<svg height=\"263.63625pt\" version=\"1.1\" viewBox=\"0 0 372.103125 263.63625\" width=\"372.103125pt\" xmlns=\"http://www.w3.org/2000/svg\" xmlns:xlink=\"http://www.w3.org/1999/xlink\">\n <defs>\n  <style type=\"text/css\">\n*{stroke-linecap:butt;stroke-linejoin:round;}\n  </style>\n </defs>\n <g id=\"figure_1\">\n  <g id=\"patch_1\">\n   <path d=\"M 0 263.63625 \nL 372.103125 263.63625 \nL 372.103125 0 \nL 0 0 \nz\n\" style=\"fill:none;\"/>\n  </g>\n  <g id=\"axes_1\">\n   <g id=\"patch_2\">\n    <path d=\"M 30.103125 121.154489 \nL 364.903125 121.154489 \nL 364.903125 22.318125 \nL 30.103125 22.318125 \nz\n\" style=\"fill:#ffffff;\"/>\n   </g>\n   <g id=\"matplotlib.axis_1\">\n    <g id=\"xtick_1\">\n     <g id=\"line2d_1\">\n      <defs>\n       <path d=\"M 0 0 \nL 0 3.5 \n\" id=\"me492e78fb5\" style=\"stroke:#000000;stroke-width:0.8;\"/>\n      </defs>\n      <g>\n       <use style=\"stroke:#000000;stroke-width:0.8;\" x=\"45.321307\" xlink:href=\"#me492e78fb5\" y=\"121.154489\"/>\n      </g>\n     </g>\n     <g id=\"text_1\">\n      <!-- 0 -->\n      <defs>\n       <path d=\"M 31.78125 66.40625 \nQ 24.171875 66.40625 20.328125 58.90625 \nQ 16.5 51.421875 16.5 36.375 \nQ 16.5 21.390625 20.328125 13.890625 \nQ 24.171875 6.390625 31.78125 6.390625 \nQ 39.453125 6.390625 43.28125 13.890625 \nQ 47.125 21.390625 47.125 36.375 \nQ 47.125 51.421875 43.28125 58.90625 \nQ 39.453125 66.40625 31.78125 66.40625 \nz\nM 31.78125 74.21875 \nQ 44.046875 74.21875 50.515625 64.515625 \nQ 56.984375 54.828125 56.984375 36.375 \nQ 56.984375 17.96875 50.515625 8.265625 \nQ 44.046875 -1.421875 31.78125 -1.421875 \nQ 19.53125 -1.421875 13.0625 8.265625 \nQ 6.59375 17.96875 6.59375 36.375 \nQ 6.59375 54.828125 13.0625 64.515625 \nQ 19.53125 74.21875 31.78125 74.21875 \nz\n\" id=\"DejaVuSans-48\"/>\n      </defs>\n      <g transform=\"translate(42.140057 135.752926)scale(0.1 -0.1)\">\n       <use xlink:href=\"#DejaVuSans-48\"/>\n      </g>\n     </g>\n    </g>\n    <g id=\"xtick_2\">\n     <g id=\"line2d_2\">\n      <g>\n       <use style=\"stroke:#000000;stroke-width:0.8;\" x=\"84.342286\" xlink:href=\"#me492e78fb5\" y=\"121.154489\"/>\n      </g>\n     </g>\n     <g id=\"text_2\">\n      <!-- 10 -->\n      <defs>\n       <path d=\"M 12.40625 8.296875 \nL 28.515625 8.296875 \nL 28.515625 63.921875 \nL 10.984375 60.40625 \nL 10.984375 69.390625 \nL 28.421875 72.90625 \nL 38.28125 72.90625 \nL 38.28125 8.296875 \nL 54.390625 8.296875 \nL 54.390625 0 \nL 12.40625 0 \nz\n\" id=\"DejaVuSans-49\"/>\n      </defs>\n      <g transform=\"translate(77.979786 135.752926)scale(0.1 -0.1)\">\n       <use xlink:href=\"#DejaVuSans-49\"/>\n       <use x=\"63.623047\" xlink:href=\"#DejaVuSans-48\"/>\n      </g>\n     </g>\n    </g>\n    <g id=\"xtick_3\">\n     <g id=\"line2d_3\">\n      <g>\n       <use style=\"stroke:#000000;stroke-width:0.8;\" x=\"123.363265\" xlink:href=\"#me492e78fb5\" y=\"121.154489\"/>\n      </g>\n     </g>\n     <g id=\"text_3\">\n      <!-- 20 -->\n      <defs>\n       <path d=\"M 19.1875 8.296875 \nL 53.609375 8.296875 \nL 53.609375 0 \nL 7.328125 0 \nL 7.328125 8.296875 \nQ 12.9375 14.109375 22.625 23.890625 \nQ 32.328125 33.6875 34.8125 36.53125 \nQ 39.546875 41.84375 41.421875 45.53125 \nQ 43.3125 49.21875 43.3125 52.78125 \nQ 43.3125 58.59375 39.234375 62.25 \nQ 35.15625 65.921875 28.609375 65.921875 \nQ 23.96875 65.921875 18.8125 64.3125 \nQ 13.671875 62.703125 7.8125 59.421875 \nL 7.8125 69.390625 \nQ 13.765625 71.78125 18.9375 73 \nQ 24.125 74.21875 28.421875 74.21875 \nQ 39.75 74.21875 46.484375 68.546875 \nQ 53.21875 62.890625 53.21875 53.421875 \nQ 53.21875 48.921875 51.53125 44.890625 \nQ 49.859375 40.875 45.40625 35.40625 \nQ 44.1875 33.984375 37.640625 27.21875 \nQ 31.109375 20.453125 19.1875 8.296875 \nz\n\" id=\"DejaVuSans-50\"/>\n      </defs>\n      <g transform=\"translate(117.000765 135.752926)scale(0.1 -0.1)\">\n       <use xlink:href=\"#DejaVuSans-50\"/>\n       <use x=\"63.623047\" xlink:href=\"#DejaVuSans-48\"/>\n      </g>\n     </g>\n    </g>\n    <g id=\"xtick_4\">\n     <g id=\"line2d_4\">\n      <g>\n       <use style=\"stroke:#000000;stroke-width:0.8;\" x=\"162.384244\" xlink:href=\"#me492e78fb5\" y=\"121.154489\"/>\n      </g>\n     </g>\n     <g id=\"text_4\">\n      <!-- 30 -->\n      <defs>\n       <path d=\"M 40.578125 39.3125 \nQ 47.65625 37.796875 51.625 33 \nQ 55.609375 28.21875 55.609375 21.1875 \nQ 55.609375 10.40625 48.1875 4.484375 \nQ 40.765625 -1.421875 27.09375 -1.421875 \nQ 22.515625 -1.421875 17.65625 -0.515625 \nQ 12.796875 0.390625 7.625 2.203125 \nL 7.625 11.71875 \nQ 11.71875 9.328125 16.59375 8.109375 \nQ 21.484375 6.890625 26.8125 6.890625 \nQ 36.078125 6.890625 40.9375 10.546875 \nQ 45.796875 14.203125 45.796875 21.1875 \nQ 45.796875 27.640625 41.28125 31.265625 \nQ 36.765625 34.90625 28.71875 34.90625 \nL 20.21875 34.90625 \nL 20.21875 43.015625 \nL 29.109375 43.015625 \nQ 36.375 43.015625 40.234375 45.921875 \nQ 44.09375 48.828125 44.09375 54.296875 \nQ 44.09375 59.90625 40.109375 62.90625 \nQ 36.140625 65.921875 28.71875 65.921875 \nQ 24.65625 65.921875 20.015625 65.03125 \nQ 15.375 64.15625 9.8125 62.3125 \nL 9.8125 71.09375 \nQ 15.4375 72.65625 20.34375 73.4375 \nQ 25.25 74.21875 29.59375 74.21875 \nQ 40.828125 74.21875 47.359375 69.109375 \nQ 53.90625 64.015625 53.90625 55.328125 \nQ 53.90625 49.265625 50.4375 45.09375 \nQ 46.96875 40.921875 40.578125 39.3125 \nz\n\" id=\"DejaVuSans-51\"/>\n      </defs>\n      <g transform=\"translate(156.021744 135.752926)scale(0.1 -0.1)\">\n       <use xlink:href=\"#DejaVuSans-51\"/>\n       <use x=\"63.623047\" xlink:href=\"#DejaVuSans-48\"/>\n      </g>\n     </g>\n    </g>\n    <g id=\"xtick_5\">\n     <g id=\"line2d_5\">\n      <g>\n       <use style=\"stroke:#000000;stroke-width:0.8;\" x=\"201.405223\" xlink:href=\"#me492e78fb5\" y=\"121.154489\"/>\n      </g>\n     </g>\n     <g id=\"text_5\">\n      <!-- 40 -->\n      <defs>\n       <path d=\"M 37.796875 64.3125 \nL 12.890625 25.390625 \nL 37.796875 25.390625 \nz\nM 35.203125 72.90625 \nL 47.609375 72.90625 \nL 47.609375 25.390625 \nL 58.015625 25.390625 \nL 58.015625 17.1875 \nL 47.609375 17.1875 \nL 47.609375 0 \nL 37.796875 0 \nL 37.796875 17.1875 \nL 4.890625 17.1875 \nL 4.890625 26.703125 \nz\n\" id=\"DejaVuSans-52\"/>\n      </defs>\n      <g transform=\"translate(195.042723 135.752926)scale(0.1 -0.1)\">\n       <use xlink:href=\"#DejaVuSans-52\"/>\n       <use x=\"63.623047\" xlink:href=\"#DejaVuSans-48\"/>\n      </g>\n     </g>\n    </g>\n    <g id=\"xtick_6\">\n     <g id=\"line2d_6\">\n      <g>\n       <use style=\"stroke:#000000;stroke-width:0.8;\" x=\"240.426202\" xlink:href=\"#me492e78fb5\" y=\"121.154489\"/>\n      </g>\n     </g>\n     <g id=\"text_6\">\n      <!-- 50 -->\n      <defs>\n       <path d=\"M 10.796875 72.90625 \nL 49.515625 72.90625 \nL 49.515625 64.59375 \nL 19.828125 64.59375 \nL 19.828125 46.734375 \nQ 21.96875 47.46875 24.109375 47.828125 \nQ 26.265625 48.1875 28.421875 48.1875 \nQ 40.625 48.1875 47.75 41.5 \nQ 54.890625 34.8125 54.890625 23.390625 \nQ 54.890625 11.625 47.5625 5.09375 \nQ 40.234375 -1.421875 26.90625 -1.421875 \nQ 22.3125 -1.421875 17.546875 -0.640625 \nQ 12.796875 0.140625 7.71875 1.703125 \nL 7.71875 11.625 \nQ 12.109375 9.234375 16.796875 8.0625 \nQ 21.484375 6.890625 26.703125 6.890625 \nQ 35.15625 6.890625 40.078125 11.328125 \nQ 45.015625 15.765625 45.015625 23.390625 \nQ 45.015625 31 40.078125 35.4375 \nQ 35.15625 39.890625 26.703125 39.890625 \nQ 22.75 39.890625 18.8125 39.015625 \nQ 14.890625 38.140625 10.796875 36.28125 \nz\n\" id=\"DejaVuSans-53\"/>\n      </defs>\n      <g transform=\"translate(234.063702 135.752926)scale(0.1 -0.1)\">\n       <use xlink:href=\"#DejaVuSans-53\"/>\n       <use x=\"63.623047\" xlink:href=\"#DejaVuSans-48\"/>\n      </g>\n     </g>\n    </g>\n    <g id=\"xtick_7\">\n     <g id=\"line2d_7\">\n      <g>\n       <use style=\"stroke:#000000;stroke-width:0.8;\" x=\"279.447181\" xlink:href=\"#me492e78fb5\" y=\"121.154489\"/>\n      </g>\n     </g>\n     <g id=\"text_7\">\n      <!-- 60 -->\n      <defs>\n       <path d=\"M 33.015625 40.375 \nQ 26.375 40.375 22.484375 35.828125 \nQ 18.609375 31.296875 18.609375 23.390625 \nQ 18.609375 15.53125 22.484375 10.953125 \nQ 26.375 6.390625 33.015625 6.390625 \nQ 39.65625 6.390625 43.53125 10.953125 \nQ 47.40625 15.53125 47.40625 23.390625 \nQ 47.40625 31.296875 43.53125 35.828125 \nQ 39.65625 40.375 33.015625 40.375 \nz\nM 52.59375 71.296875 \nL 52.59375 62.3125 \nQ 48.875 64.0625 45.09375 64.984375 \nQ 41.3125 65.921875 37.59375 65.921875 \nQ 27.828125 65.921875 22.671875 59.328125 \nQ 17.53125 52.734375 16.796875 39.40625 \nQ 19.671875 43.65625 24.015625 45.921875 \nQ 28.375 48.1875 33.59375 48.1875 \nQ 44.578125 48.1875 50.953125 41.515625 \nQ 57.328125 34.859375 57.328125 23.390625 \nQ 57.328125 12.15625 50.6875 5.359375 \nQ 44.046875 -1.421875 33.015625 -1.421875 \nQ 20.359375 -1.421875 13.671875 8.265625 \nQ 6.984375 17.96875 6.984375 36.375 \nQ 6.984375 53.65625 15.1875 63.9375 \nQ 23.390625 74.21875 37.203125 74.21875 \nQ 40.921875 74.21875 44.703125 73.484375 \nQ 48.484375 72.75 52.59375 71.296875 \nz\n\" id=\"DejaVuSans-54\"/>\n      </defs>\n      <g transform=\"translate(273.084681 135.752926)scale(0.1 -0.1)\">\n       <use xlink:href=\"#DejaVuSans-54\"/>\n       <use x=\"63.623047\" xlink:href=\"#DejaVuSans-48\"/>\n      </g>\n     </g>\n    </g>\n    <g id=\"xtick_8\">\n     <g id=\"line2d_8\">\n      <g>\n       <use style=\"stroke:#000000;stroke-width:0.8;\" x=\"318.46816\" xlink:href=\"#me492e78fb5\" y=\"121.154489\"/>\n      </g>\n     </g>\n     <g id=\"text_8\">\n      <!-- 70 -->\n      <defs>\n       <path d=\"M 8.203125 72.90625 \nL 55.078125 72.90625 \nL 55.078125 68.703125 \nL 28.609375 0 \nL 18.3125 0 \nL 43.21875 64.59375 \nL 8.203125 64.59375 \nz\n\" id=\"DejaVuSans-55\"/>\n      </defs>\n      <g transform=\"translate(312.10566 135.752926)scale(0.1 -0.1)\">\n       <use xlink:href=\"#DejaVuSans-55\"/>\n       <use x=\"63.623047\" xlink:href=\"#DejaVuSans-48\"/>\n      </g>\n     </g>\n    </g>\n    <g id=\"xtick_9\">\n     <g id=\"line2d_9\">\n      <g>\n       <use style=\"stroke:#000000;stroke-width:0.8;\" x=\"357.489139\" xlink:href=\"#me492e78fb5\" y=\"121.154489\"/>\n      </g>\n     </g>\n     <g id=\"text_9\">\n      <!-- 80 -->\n      <defs>\n       <path d=\"M 31.78125 34.625 \nQ 24.75 34.625 20.71875 30.859375 \nQ 16.703125 27.09375 16.703125 20.515625 \nQ 16.703125 13.921875 20.71875 10.15625 \nQ 24.75 6.390625 31.78125 6.390625 \nQ 38.8125 6.390625 42.859375 10.171875 \nQ 46.921875 13.96875 46.921875 20.515625 \nQ 46.921875 27.09375 42.890625 30.859375 \nQ 38.875 34.625 31.78125 34.625 \nz\nM 21.921875 38.8125 \nQ 15.578125 40.375 12.03125 44.71875 \nQ 8.5 49.078125 8.5 55.328125 \nQ 8.5 64.0625 14.71875 69.140625 \nQ 20.953125 74.21875 31.78125 74.21875 \nQ 42.671875 74.21875 48.875 69.140625 \nQ 55.078125 64.0625 55.078125 55.328125 \nQ 55.078125 49.078125 51.53125 44.71875 \nQ 48 40.375 41.703125 38.8125 \nQ 48.828125 37.15625 52.796875 32.3125 \nQ 56.78125 27.484375 56.78125 20.515625 \nQ 56.78125 9.90625 50.3125 4.234375 \nQ 43.84375 -1.421875 31.78125 -1.421875 \nQ 19.734375 -1.421875 13.25 4.234375 \nQ 6.78125 9.90625 6.78125 20.515625 \nQ 6.78125 27.484375 10.78125 32.3125 \nQ 14.796875 37.15625 21.921875 38.8125 \nz\nM 18.3125 54.390625 \nQ 18.3125 48.734375 21.84375 45.5625 \nQ 25.390625 42.390625 31.78125 42.390625 \nQ 38.140625 42.390625 41.71875 45.5625 \nQ 45.3125 48.734375 45.3125 54.390625 \nQ 45.3125 60.0625 41.71875 63.234375 \nQ 38.140625 66.40625 31.78125 66.40625 \nQ 25.390625 66.40625 21.84375 63.234375 \nQ 18.3125 60.0625 18.3125 54.390625 \nz\n\" id=\"DejaVuSans-56\"/>\n      </defs>\n      <g transform=\"translate(351.126639 135.752926)scale(0.1 -0.1)\">\n       <use xlink:href=\"#DejaVuSans-56\"/>\n       <use x=\"63.623047\" xlink:href=\"#DejaVuSans-48\"/>\n      </g>\n     </g>\n    </g>\n   </g>\n   <g id=\"matplotlib.axis_2\">\n    <g id=\"ytick_1\">\n     <g id=\"line2d_10\">\n      <defs>\n       <path d=\"M 0 0 \nL -3.5 0 \n\" id=\"m2a50ff1a20\" style=\"stroke:#000000;stroke-width:0.8;\"/>\n      </defs>\n      <g>\n       <use style=\"stroke:#000000;stroke-width:0.8;\" x=\"30.103125\" xlink:href=\"#m2a50ff1a20\" y=\"118.068647\"/>\n      </g>\n     </g>\n     <g id=\"text_10\">\n      <!-- 1 -->\n      <g transform=\"translate(16.740625 121.867866)scale(0.1 -0.1)\">\n       <use xlink:href=\"#DejaVuSans-49\"/>\n      </g>\n     </g>\n    </g>\n    <g id=\"ytick_2\">\n     <g id=\"line2d_11\">\n      <g>\n       <use style=\"stroke:#000000;stroke-width:0.8;\" x=\"30.103125\" xlink:href=\"#m2a50ff1a20\" y=\"70.529796\"/>\n      </g>\n     </g>\n     <g id=\"text_11\">\n      <!-- 2 -->\n      <g transform=\"translate(16.740625 74.329014)scale(0.1 -0.1)\">\n       <use xlink:href=\"#DejaVuSans-50\"/>\n      </g>\n     </g>\n    </g>\n    <g id=\"ytick_3\">\n     <g id=\"line2d_12\">\n      <g>\n       <use style=\"stroke:#000000;stroke-width:0.8;\" x=\"30.103125\" xlink:href=\"#m2a50ff1a20\" y=\"22.990944\"/>\n      </g>\n     </g>\n     <g id=\"text_12\">\n      <!-- 3 -->\n      <g transform=\"translate(16.740625 26.790163)scale(0.1 -0.1)\">\n       <use xlink:href=\"#DejaVuSans-51\"/>\n      </g>\n     </g>\n    </g>\n   </g>\n   <g id=\"line2d_13\">\n    <path clip-path=\"url(#p935fb9eea8)\" d=\"M 45.321307 26.810687 \nL 49.223405 62.334256 \nL 53.125503 68.168202 \nL 57.027601 72.264577 \nL 60.929698 75.122709 \nL 64.831796 77.765327 \nL 68.733894 79.902635 \nL 72.635992 81.68056 \nL 76.53809 82.632141 \nL 80.440188 83.475515 \nL 84.342286 83.591412 \nL 88.244384 83.750912 \nL 92.146482 83.990584 \nL 96.04858 84.614188 \nL 99.950677 85.179887 \nL 103.852775 86.181599 \nL 107.754873 87.412204 \nL 111.656971 88.4171 \nL 115.559069 89.148901 \nL 119.461167 89.802229 \nL 123.363265 89.879347 \nL 127.265363 89.791422 \nL 131.167461 89.853216 \nL 135.069559 89.968909 \nL 138.971656 90.064779 \nL 142.873754 90.642911 \nL 146.775852 91.603531 \nL 150.67795 92.311331 \nL 154.580048 93.03577 \nL 158.482146 93.528958 \nL 162.384244 93.599242 \nL 166.286342 93.430952 \nL 170.18844 93.374406 \nL 174.090538 93.19625 \nL 177.992635 93.222857 \nL 181.894733 93.664118 \nL 185.796831 94.5147 \nL 189.698929 95.195078 \nL 193.601027 95.966644 \nL 197.503125 96.391635 \nL 201.405223 96.454976 \nL 205.307321 96.379677 \nL 209.209419 96.170523 \nL 213.111517 96.070573 \nL 217.013615 95.965131 \nL 220.915712 96.291226 \nL 224.81781 97.100387 \nL 228.719908 97.946714 \nL 232.622006 98.425615 \nL 236.524104 98.971513 \nL 240.426202 99.108838 \nL 244.3283 98.799279 \nL 248.230398 98.697714 \nL 252.132496 98.538396 \nL 256.034594 98.494227 \nL 259.936691 98.777002 \nL 263.838789 99.540181 \nL 267.740887 100.229904 \nL 271.642985 101.050105 \nL 275.545083 101.523832 \nL 279.447181 101.558673 \nL 283.349279 101.377747 \nL 287.251377 101.023129 \nL 291.153475 100.832908 \nL 295.055573 100.73102 \nL 298.95767 101.158 \nL 302.859768 101.737254 \nL 306.761866 102.478791 \nL 310.663964 103.237209 \nL 314.566062 103.675047 \nL 318.46816 103.888226 \nL 322.370258 103.64436 \nL 326.272356 103.35445 \nL 330.174454 103.227179 \nL 334.076552 102.842719 \nL 337.978649 103.101517 \nL 341.880747 103.966148 \nL 345.782845 104.598871 \nL 349.684943 105.385699 \n\" style=\"fill:none;stroke:#0000ff;stroke-linecap:square;stroke-width:1.5;\"/>\n   </g>\n   <g id=\"line2d_14\">\n    <path clip-path=\"url(#p935fb9eea8)\" d=\"M 45.321307 65.74648 \nL 49.223405 72.928792 \nL 53.125503 78.278395 \nL 57.027601 81.253155 \nL 60.929698 84.250884 \nL 64.831796 88.200148 \nL 68.733894 90.125258 \nL 72.635992 92.180019 \nL 76.53809 92.612564 \nL 80.440188 93.135324 \nL 84.342286 93.529383 \nL 88.244384 93.71974 \nL 92.146482 93.814585 \nL 96.04858 94.886965 \nL 99.950677 96.520113 \nL 103.852775 94.568062 \nL 107.754873 98.126485 \nL 111.656971 99.009182 \nL 115.559069 99.995604 \nL 119.461167 100.299869 \nL 123.363265 99.854171 \nL 127.265363 100.151573 \nL 131.167461 99.734624 \nL 135.069559 99.665684 \nL 138.971656 100.607416 \nL 142.873754 101.58154 \nL 146.775852 102.825712 \nL 150.67795 103.337471 \nL 154.580048 104.17634 \nL 158.482146 104.389864 \nL 162.384244 104.421248 \nL 166.286342 104.212501 \nL 170.18844 103.843433 \nL 174.090538 103.787596 \nL 177.992635 104.253146 \nL 181.894733 104.909047 \nL 185.796831 105.768781 \nL 189.698929 106.674652 \nL 193.601027 107.293768 \nL 197.503125 107.473182 \nL 201.405223 107.49385 \nL 205.307321 107.494513 \nL 209.209419 107.698856 \nL 213.111517 106.941452 \nL 217.013615 106.812673 \nL 220.915712 108.066592 \nL 224.81781 108.587096 \nL 228.719908 109.36782 \nL 232.622006 109.971687 \nL 236.524104 110.124947 \nL 240.426202 110.176687 \nL 244.3283 110.248693 \nL 248.230398 109.634677 \nL 252.132496 109.666231 \nL 256.034594 109.866562 \nL 259.936691 110.141591 \nL 263.838789 111.364625 \nL 267.740887 111.397199 \nL 271.642985 112.10857 \nL 275.545083 112.628529 \nL 279.447181 112.659851 \nL 283.349279 112.283943 \nL 287.251377 112.253341 \nL 291.153475 111.71893 \nL 295.055573 111.827823 \nL 298.95767 112.555747 \nL 302.859768 112.91861 \nL 306.761866 114.087789 \nL 310.663964 114.508745 \nL 314.566062 114.895364 \nL 318.46816 115.055578 \nL 322.370258 114.417023 \nL 326.272356 113.926476 \nL 330.174454 113.17598 \nL 334.076552 113.66638 \nL 337.978649 114.599906 \nL 341.880747 115.618959 \nL 345.782845 116.155421 \nL 349.684943 116.661927 \n\" style=\"fill:none;stroke:#ffa500;stroke-linecap:square;stroke-width:1.5;\"/>\n   </g>\n   <g id=\"patch_3\">\n    <path d=\"M 30.103125 121.154489 \nL 30.103125 22.318125 \n\" style=\"fill:none;stroke:#000000;stroke-linecap:square;stroke-linejoin:miter;stroke-width:0.8;\"/>\n   </g>\n   <g id=\"patch_4\">\n    <path d=\"M 364.903125 121.154489 \nL 364.903125 22.318125 \n\" style=\"fill:none;stroke:#000000;stroke-linecap:square;stroke-linejoin:miter;stroke-width:0.8;\"/>\n   </g>\n   <g id=\"patch_5\">\n    <path d=\"M 30.103125 121.154489 \nL 364.903125 121.154489 \n\" style=\"fill:none;stroke:#000000;stroke-linecap:square;stroke-linejoin:miter;stroke-width:0.8;\"/>\n   </g>\n   <g id=\"patch_6\">\n    <path d=\"M 30.103125 22.318125 \nL 364.903125 22.318125 \n\" style=\"fill:none;stroke:#000000;stroke-linecap:square;stroke-linejoin:miter;stroke-width:0.8;\"/>\n   </g>\n   <g id=\"text_13\">\n    <!-- Cross Entropy Loss -->\n    <defs>\n     <path d=\"M 64.40625 67.28125 \nL 64.40625 56.890625 \nQ 59.421875 61.53125 53.78125 63.8125 \nQ 48.140625 66.109375 41.796875 66.109375 \nQ 29.296875 66.109375 22.65625 58.46875 \nQ 16.015625 50.828125 16.015625 36.375 \nQ 16.015625 21.96875 22.65625 14.328125 \nQ 29.296875 6.6875 41.796875 6.6875 \nQ 48.140625 6.6875 53.78125 8.984375 \nQ 59.421875 11.28125 64.40625 15.921875 \nL 64.40625 5.609375 \nQ 59.234375 2.09375 53.4375 0.328125 \nQ 47.65625 -1.421875 41.21875 -1.421875 \nQ 24.65625 -1.421875 15.125 8.703125 \nQ 5.609375 18.84375 5.609375 36.375 \nQ 5.609375 53.953125 15.125 64.078125 \nQ 24.65625 74.21875 41.21875 74.21875 \nQ 47.75 74.21875 53.53125 72.484375 \nQ 59.328125 70.75 64.40625 67.28125 \nz\n\" id=\"DejaVuSans-67\"/>\n     <path d=\"M 41.109375 46.296875 \nQ 39.59375 47.171875 37.8125 47.578125 \nQ 36.03125 48 33.890625 48 \nQ 26.265625 48 22.1875 43.046875 \nQ 18.109375 38.09375 18.109375 28.8125 \nL 18.109375 0 \nL 9.078125 0 \nL 9.078125 54.6875 \nL 18.109375 54.6875 \nL 18.109375 46.1875 \nQ 20.953125 51.171875 25.484375 53.578125 \nQ 30.03125 56 36.53125 56 \nQ 37.453125 56 38.578125 55.875 \nQ 39.703125 55.765625 41.0625 55.515625 \nz\n\" id=\"DejaVuSans-114\"/>\n     <path d=\"M 30.609375 48.390625 \nQ 23.390625 48.390625 19.1875 42.75 \nQ 14.984375 37.109375 14.984375 27.296875 \nQ 14.984375 17.484375 19.15625 11.84375 \nQ 23.34375 6.203125 30.609375 6.203125 \nQ 37.796875 6.203125 41.984375 11.859375 \nQ 46.1875 17.53125 46.1875 27.296875 \nQ 46.1875 37.015625 41.984375 42.703125 \nQ 37.796875 48.390625 30.609375 48.390625 \nz\nM 30.609375 56 \nQ 42.328125 56 49.015625 48.375 \nQ 55.71875 40.765625 55.71875 27.296875 \nQ 55.71875 13.875 49.015625 6.21875 \nQ 42.328125 -1.421875 30.609375 -1.421875 \nQ 18.84375 -1.421875 12.171875 6.21875 \nQ 5.515625 13.875 5.515625 27.296875 \nQ 5.515625 40.765625 12.171875 48.375 \nQ 18.84375 56 30.609375 56 \nz\n\" id=\"DejaVuSans-111\"/>\n     <path d=\"M 44.28125 53.078125 \nL 44.28125 44.578125 \nQ 40.484375 46.53125 36.375 47.5 \nQ 32.28125 48.484375 27.875 48.484375 \nQ 21.1875 48.484375 17.84375 46.4375 \nQ 14.5 44.390625 14.5 40.28125 \nQ 14.5 37.15625 16.890625 35.375 \nQ 19.28125 33.59375 26.515625 31.984375 \nL 29.59375 31.296875 \nQ 39.15625 29.25 43.1875 25.515625 \nQ 47.21875 21.78125 47.21875 15.09375 \nQ 47.21875 7.46875 41.1875 3.015625 \nQ 35.15625 -1.421875 24.609375 -1.421875 \nQ 20.21875 -1.421875 15.453125 -0.5625 \nQ 10.6875 0.296875 5.421875 2 \nL 5.421875 11.28125 \nQ 10.40625 8.6875 15.234375 7.390625 \nQ 20.0625 6.109375 24.8125 6.109375 \nQ 31.15625 6.109375 34.5625 8.28125 \nQ 37.984375 10.453125 37.984375 14.40625 \nQ 37.984375 18.0625 35.515625 20.015625 \nQ 33.0625 21.96875 24.703125 23.78125 \nL 21.578125 24.515625 \nQ 13.234375 26.265625 9.515625 29.90625 \nQ 5.8125 33.546875 5.8125 39.890625 \nQ 5.8125 47.609375 11.28125 51.796875 \nQ 16.75 56 26.8125 56 \nQ 31.78125 56 36.171875 55.265625 \nQ 40.578125 54.546875 44.28125 53.078125 \nz\n\" id=\"DejaVuSans-115\"/>\n     <path id=\"DejaVuSans-32\"/>\n     <path d=\"M 9.8125 72.90625 \nL 55.90625 72.90625 \nL 55.90625 64.59375 \nL 19.671875 64.59375 \nL 19.671875 43.015625 \nL 54.390625 43.015625 \nL 54.390625 34.71875 \nL 19.671875 34.71875 \nL 19.671875 8.296875 \nL 56.78125 8.296875 \nL 56.78125 0 \nL 9.8125 0 \nz\n\" id=\"DejaVuSans-69\"/>\n     <path d=\"M 54.890625 33.015625 \nL 54.890625 0 \nL 45.90625 0 \nL 45.90625 32.71875 \nQ 45.90625 40.484375 42.875 44.328125 \nQ 39.84375 48.1875 33.796875 48.1875 \nQ 26.515625 48.1875 22.3125 43.546875 \nQ 18.109375 38.921875 18.109375 30.90625 \nL 18.109375 0 \nL 9.078125 0 \nL 9.078125 54.6875 \nL 18.109375 54.6875 \nL 18.109375 46.1875 \nQ 21.34375 51.125 25.703125 53.5625 \nQ 30.078125 56 35.796875 56 \nQ 45.21875 56 50.046875 50.171875 \nQ 54.890625 44.34375 54.890625 33.015625 \nz\n\" id=\"DejaVuSans-110\"/>\n     <path d=\"M 18.3125 70.21875 \nL 18.3125 54.6875 \nL 36.8125 54.6875 \nL 36.8125 47.703125 \nL 18.3125 47.703125 \nL 18.3125 18.015625 \nQ 18.3125 11.328125 20.140625 9.421875 \nQ 21.96875 7.515625 27.59375 7.515625 \nL 36.8125 7.515625 \nL 36.8125 0 \nL 27.59375 0 \nQ 17.1875 0 13.234375 3.875 \nQ 9.28125 7.765625 9.28125 18.015625 \nL 9.28125 47.703125 \nL 2.6875 47.703125 \nL 2.6875 54.6875 \nL 9.28125 54.6875 \nL 9.28125 70.21875 \nz\n\" id=\"DejaVuSans-116\"/>\n     <path d=\"M 18.109375 8.203125 \nL 18.109375 -20.796875 \nL 9.078125 -20.796875 \nL 9.078125 54.6875 \nL 18.109375 54.6875 \nL 18.109375 46.390625 \nQ 20.953125 51.265625 25.265625 53.625 \nQ 29.59375 56 35.59375 56 \nQ 45.5625 56 51.78125 48.09375 \nQ 58.015625 40.1875 58.015625 27.296875 \nQ 58.015625 14.40625 51.78125 6.484375 \nQ 45.5625 -1.421875 35.59375 -1.421875 \nQ 29.59375 -1.421875 25.265625 0.953125 \nQ 20.953125 3.328125 18.109375 8.203125 \nz\nM 48.6875 27.296875 \nQ 48.6875 37.203125 44.609375 42.84375 \nQ 40.53125 48.484375 33.40625 48.484375 \nQ 26.265625 48.484375 22.1875 42.84375 \nQ 18.109375 37.203125 18.109375 27.296875 \nQ 18.109375 17.390625 22.1875 11.75 \nQ 26.265625 6.109375 33.40625 6.109375 \nQ 40.53125 6.109375 44.609375 11.75 \nQ 48.6875 17.390625 48.6875 27.296875 \nz\n\" id=\"DejaVuSans-112\"/>\n     <path d=\"M 32.171875 -5.078125 \nQ 28.375 -14.84375 24.75 -17.8125 \nQ 21.140625 -20.796875 15.09375 -20.796875 \nL 7.90625 -20.796875 \nL 7.90625 -13.28125 \nL 13.1875 -13.28125 \nQ 16.890625 -13.28125 18.9375 -11.515625 \nQ 21 -9.765625 23.484375 -3.21875 \nL 25.09375 0.875 \nL 2.984375 54.6875 \nL 12.5 54.6875 \nL 29.59375 11.921875 \nL 46.6875 54.6875 \nL 56.203125 54.6875 \nz\n\" id=\"DejaVuSans-121\"/>\n     <path d=\"M 9.8125 72.90625 \nL 19.671875 72.90625 \nL 19.671875 8.296875 \nL 55.171875 8.296875 \nL 55.171875 0 \nL 9.8125 0 \nz\n\" id=\"DejaVuSans-76\"/>\n    </defs>\n    <g transform=\"translate(140.775938 16.318125)scale(0.12 -0.12)\">\n     <use xlink:href=\"#DejaVuSans-67\"/>\n     <use x=\"69.824219\" xlink:href=\"#DejaVuSans-114\"/>\n     <use x=\"108.6875\" xlink:href=\"#DejaVuSans-111\"/>\n     <use x=\"169.869141\" xlink:href=\"#DejaVuSans-115\"/>\n     <use x=\"221.96875\" xlink:href=\"#DejaVuSans-115\"/>\n     <use x=\"274.068359\" xlink:href=\"#DejaVuSans-32\"/>\n     <use x=\"305.855469\" xlink:href=\"#DejaVuSans-69\"/>\n     <use x=\"369.039062\" xlink:href=\"#DejaVuSans-110\"/>\n     <use x=\"432.417969\" xlink:href=\"#DejaVuSans-116\"/>\n     <use x=\"471.626953\" xlink:href=\"#DejaVuSans-114\"/>\n     <use x=\"510.490234\" xlink:href=\"#DejaVuSans-111\"/>\n     <use x=\"571.671875\" xlink:href=\"#DejaVuSans-112\"/>\n     <use x=\"635.148438\" xlink:href=\"#DejaVuSans-121\"/>\n     <use x=\"694.328125\" xlink:href=\"#DejaVuSans-32\"/>\n     <use x=\"726.115234\" xlink:href=\"#DejaVuSans-76\"/>\n     <use x=\"780.078125\" xlink:href=\"#DejaVuSans-111\"/>\n     <use x=\"841.259766\" xlink:href=\"#DejaVuSans-115\"/>\n     <use x=\"893.359375\" xlink:href=\"#DejaVuSans-115\"/>\n    </g>\n   </g>\n  </g>\n  <g id=\"axes_2\">\n   <g id=\"patch_7\">\n    <path d=\"M 30.103125 239.758125 \nL 364.903125 239.758125 \nL 364.903125 140.921761 \nL 30.103125 140.921761 \nz\n\" style=\"fill:#ffffff;\"/>\n   </g>\n   <g id=\"matplotlib.axis_3\">\n    <g id=\"xtick_10\">\n     <g id=\"line2d_15\">\n      <g>\n       <use style=\"stroke:#000000;stroke-width:0.8;\" x=\"45.321307\" xlink:href=\"#me492e78fb5\" y=\"239.758125\"/>\n      </g>\n     </g>\n     <g id=\"text_14\">\n      <!-- 0 -->\n      <g transform=\"translate(42.140057 254.356562)scale(0.1 -0.1)\">\n       <use xlink:href=\"#DejaVuSans-48\"/>\n      </g>\n     </g>\n    </g>\n    <g id=\"xtick_11\">\n     <g id=\"line2d_16\">\n      <g>\n       <use style=\"stroke:#000000;stroke-width:0.8;\" x=\"84.342286\" xlink:href=\"#me492e78fb5\" y=\"239.758125\"/>\n      </g>\n     </g>\n     <g id=\"text_15\">\n      <!-- 10 -->\n      <g transform=\"translate(77.979786 254.356562)scale(0.1 -0.1)\">\n       <use xlink:href=\"#DejaVuSans-49\"/>\n       <use x=\"63.623047\" xlink:href=\"#DejaVuSans-48\"/>\n      </g>\n     </g>\n    </g>\n    <g id=\"xtick_12\">\n     <g id=\"line2d_17\">\n      <g>\n       <use style=\"stroke:#000000;stroke-width:0.8;\" x=\"123.363265\" xlink:href=\"#me492e78fb5\" y=\"239.758125\"/>\n      </g>\n     </g>\n     <g id=\"text_16\">\n      <!-- 20 -->\n      <g transform=\"translate(117.000765 254.356562)scale(0.1 -0.1)\">\n       <use xlink:href=\"#DejaVuSans-50\"/>\n       <use x=\"63.623047\" xlink:href=\"#DejaVuSans-48\"/>\n      </g>\n     </g>\n    </g>\n    <g id=\"xtick_13\">\n     <g id=\"line2d_18\">\n      <g>\n       <use style=\"stroke:#000000;stroke-width:0.8;\" x=\"162.384244\" xlink:href=\"#me492e78fb5\" y=\"239.758125\"/>\n      </g>\n     </g>\n     <g id=\"text_17\">\n      <!-- 30 -->\n      <g transform=\"translate(156.021744 254.356562)scale(0.1 -0.1)\">\n       <use xlink:href=\"#DejaVuSans-51\"/>\n       <use x=\"63.623047\" xlink:href=\"#DejaVuSans-48\"/>\n      </g>\n     </g>\n    </g>\n    <g id=\"xtick_14\">\n     <g id=\"line2d_19\">\n      <g>\n       <use style=\"stroke:#000000;stroke-width:0.8;\" x=\"201.405223\" xlink:href=\"#me492e78fb5\" y=\"239.758125\"/>\n      </g>\n     </g>\n     <g id=\"text_18\">\n      <!-- 40 -->\n      <g transform=\"translate(195.042723 254.356562)scale(0.1 -0.1)\">\n       <use xlink:href=\"#DejaVuSans-52\"/>\n       <use x=\"63.623047\" xlink:href=\"#DejaVuSans-48\"/>\n      </g>\n     </g>\n    </g>\n    <g id=\"xtick_15\">\n     <g id=\"line2d_20\">\n      <g>\n       <use style=\"stroke:#000000;stroke-width:0.8;\" x=\"240.426202\" xlink:href=\"#me492e78fb5\" y=\"239.758125\"/>\n      </g>\n     </g>\n     <g id=\"text_19\">\n      <!-- 50 -->\n      <g transform=\"translate(234.063702 254.356562)scale(0.1 -0.1)\">\n       <use xlink:href=\"#DejaVuSans-53\"/>\n       <use x=\"63.623047\" xlink:href=\"#DejaVuSans-48\"/>\n      </g>\n     </g>\n    </g>\n    <g id=\"xtick_16\">\n     <g id=\"line2d_21\">\n      <g>\n       <use style=\"stroke:#000000;stroke-width:0.8;\" x=\"279.447181\" xlink:href=\"#me492e78fb5\" y=\"239.758125\"/>\n      </g>\n     </g>\n     <g id=\"text_20\">\n      <!-- 60 -->\n      <g transform=\"translate(273.084681 254.356562)scale(0.1 -0.1)\">\n       <use xlink:href=\"#DejaVuSans-54\"/>\n       <use x=\"63.623047\" xlink:href=\"#DejaVuSans-48\"/>\n      </g>\n     </g>\n    </g>\n    <g id=\"xtick_17\">\n     <g id=\"line2d_22\">\n      <g>\n       <use style=\"stroke:#000000;stroke-width:0.8;\" x=\"318.46816\" xlink:href=\"#me492e78fb5\" y=\"239.758125\"/>\n      </g>\n     </g>\n     <g id=\"text_21\">\n      <!-- 70 -->\n      <g transform=\"translate(312.10566 254.356562)scale(0.1 -0.1)\">\n       <use xlink:href=\"#DejaVuSans-55\"/>\n       <use x=\"63.623047\" xlink:href=\"#DejaVuSans-48\"/>\n      </g>\n     </g>\n    </g>\n    <g id=\"xtick_18\">\n     <g id=\"line2d_23\">\n      <g>\n       <use style=\"stroke:#000000;stroke-width:0.8;\" x=\"357.489139\" xlink:href=\"#me492e78fb5\" y=\"239.758125\"/>\n      </g>\n     </g>\n     <g id=\"text_22\">\n      <!-- 80 -->\n      <g transform=\"translate(351.126639 254.356562)scale(0.1 -0.1)\">\n       <use xlink:href=\"#DejaVuSans-56\"/>\n       <use x=\"63.623047\" xlink:href=\"#DejaVuSans-48\"/>\n      </g>\n     </g>\n    </g>\n   </g>\n   <g id=\"matplotlib.axis_4\">\n    <g id=\"ytick_4\">\n     <g id=\"line2d_24\">\n      <g>\n       <use style=\"stroke:#000000;stroke-width:0.8;\" x=\"30.103125\" xlink:href=\"#m2a50ff1a20\" y=\"213.89759\"/>\n      </g>\n     </g>\n     <g id=\"text_23\">\n      <!-- 0.2 -->\n      <defs>\n       <path d=\"M 10.6875 12.40625 \nL 21 12.40625 \nL 21 0 \nL 10.6875 0 \nz\n\" id=\"DejaVuSans-46\"/>\n      </defs>\n      <g transform=\"translate(7.2 217.696809)scale(0.1 -0.1)\">\n       <use xlink:href=\"#DejaVuSans-48\"/>\n       <use x=\"63.623047\" xlink:href=\"#DejaVuSans-46\"/>\n       <use x=\"95.410156\" xlink:href=\"#DejaVuSans-50\"/>\n      </g>\n     </g>\n    </g>\n    <g id=\"ytick_5\">\n     <g id=\"line2d_25\">\n      <g>\n       <use style=\"stroke:#000000;stroke-width:0.8;\" x=\"30.103125\" xlink:href=\"#m2a50ff1a20\" y=\"184.024846\"/>\n      </g>\n     </g>\n     <g id=\"text_24\">\n      <!-- 0.4 -->\n      <g transform=\"translate(7.2 187.824065)scale(0.1 -0.1)\">\n       <use xlink:href=\"#DejaVuSans-48\"/>\n       <use x=\"63.623047\" xlink:href=\"#DejaVuSans-46\"/>\n       <use x=\"95.410156\" xlink:href=\"#DejaVuSans-52\"/>\n      </g>\n     </g>\n    </g>\n    <g id=\"ytick_6\">\n     <g id=\"line2d_26\">\n      <g>\n       <use style=\"stroke:#000000;stroke-width:0.8;\" x=\"30.103125\" xlink:href=\"#m2a50ff1a20\" y=\"154.152103\"/>\n      </g>\n     </g>\n     <g id=\"text_25\">\n      <!-- 0.6 -->\n      <g transform=\"translate(7.2 157.951322)scale(0.1 -0.1)\">\n       <use xlink:href=\"#DejaVuSans-48\"/>\n       <use x=\"63.623047\" xlink:href=\"#DejaVuSans-46\"/>\n       <use x=\"95.410156\" xlink:href=\"#DejaVuSans-54\"/>\n      </g>\n     </g>\n    </g>\n   </g>\n   <g id=\"line2d_27\">\n    <path clip-path=\"url(#p6090143ac4)\" d=\"M 45.321307 235.265563 \nL 49.223405 210.157522 \nL 53.125503 205.506338 \nL 57.027601 202.133706 \nL 60.929698 200.17405 \nL 64.831796 198.829776 \nL 68.733894 197.42576 \nL 72.635992 195.779771 \nL 76.53809 195.325707 \nL 80.440188 194.417576 \nL 84.342286 194.139756 \nL 88.244384 194.360816 \nL 92.146482 194.121835 \nL 96.04858 193.838041 \nL 99.950677 193.85298 \nL 103.852775 192.903027 \nL 107.754873 192.195043 \nL 111.656971 191.346654 \nL 115.559069 190.868691 \nL 119.461167 190.211493 \nL 123.363265 190.31306 \nL 127.265363 189.727551 \nL 131.167461 190.510221 \nL 135.069559 190.322021 \nL 138.971656 190.522168 \nL 142.873754 190.342933 \nL 146.775852 188.956838 \nL 150.67795 188.598364 \nL 154.580048 187.651398 \nL 158.482146 187.25409 \nL 162.384244 187.35267 \nL 166.286342 187.248116 \nL 170.18844 187.089789 \nL 174.090538 187.92324 \nL 177.992635 187.388517 \nL 181.894733 187.543857 \nL 185.796831 186.435578 \nL 189.698929 185.676808 \nL 193.601027 185.05247 \nL 197.503125 184.992724 \nL 201.405223 184.081605 \nL 205.307321 184.759716 \nL 209.209419 184.756729 \nL 213.111517 185.183911 \nL 217.013615 185.422892 \nL 220.915712 184.825436 \nL 224.81781 184.081605 \nL 228.719908 183.128666 \nL 232.622006 182.47445 \nL 236.524104 182.322102 \nL 240.426202 182.133901 \nL 244.3283 182.253394 \nL 248.230398 182.623816 \nL 252.132496 182.522249 \nL 256.034594 183.284001 \nL 259.936691 182.462503 \nL 263.838789 181.790366 \nL 267.740887 180.682086 \nL 271.642985 179.917343 \nL 275.545083 179.815776 \nL 279.447181 179.304952 \nL 283.349279 179.744082 \nL 287.251377 180.478952 \nL 291.153475 180.27283 \nL 295.055573 180.580519 \nL 298.95767 180.060735 \nL 302.859768 179.72616 \nL 306.761866 179.018176 \nL 310.663964 177.796378 \nL 314.566062 177.470768 \nL 318.46816 176.947993 \nL 322.370258 177.04956 \nL 326.272356 177.865085 \nL 330.174454 177.81729 \nL 334.076552 178.13394 \nL 337.978649 178.169787 \nL 341.880747 176.891237 \nL 345.782845 176.440156 \nL 349.684943 175.654505 \n\" style=\"fill:none;stroke:#0000ff;stroke-linecap:square;stroke-width:1.5;\"/>\n   </g>\n   <g id=\"line2d_28\">\n    <path clip-path=\"url(#p6090143ac4)\" d=\"M 45.321307 200.081448 \nL 49.223405 188.879166 \nL 53.125503 185.294439 \nL 57.027601 183.800803 \nL 60.929698 180.514799 \nL 64.831796 177.602208 \nL 68.733894 171.104886 \nL 72.635992 170.283382 \nL 76.53809 168.416342 \nL 80.440188 169.013789 \nL 84.342286 169.909974 \nL 88.244384 168.416342 \nL 92.146482 169.536565 \nL 96.04858 168.11761 \nL 99.950677 166.17588 \nL 103.852775 170.880839 \nL 107.754873 166.922698 \nL 111.656971 164.756929 \nL 115.559069 161.694973 \nL 119.461167 161.91902 \nL 123.363265 162.367105 \nL 127.265363 162.143058 \nL 131.167461 162.292429 \nL 135.069559 164.159473 \nL 138.971656 162.068381 \nL 142.873754 161.097516 \nL 146.775852 158.857063 \nL 150.67795 158.857063 \nL 154.580048 158.110245 \nL 158.482146 157.960874 \nL 162.384244 157.811512 \nL 166.286342 159.529195 \nL 170.18844 158.03556 \nL 174.090538 158.259607 \nL 177.992635 158.483654 \nL 181.894733 159.827928 \nL 185.796831 157.438104 \nL 189.698929 155.645744 \nL 193.601027 154.450832 \nL 197.503125 155.421697 \nL 201.405223 154.1521 \nL 205.307321 155.421697 \nL 209.209419 153.405282 \nL 213.111517 156.168515 \nL 217.013615 155.272335 \nL 220.915712 153.778691 \nL 224.81781 153.031873 \nL 228.719908 154.376147 \nL 232.622006 151.31419 \nL 236.524104 152.135693 \nL 240.426202 150.866104 \nL 244.3283 151.986331 \nL 248.230398 153.629329 \nL 252.132496 152.210378 \nL 256.034594 153.330605 \nL 259.936691 153.554652 \nL 263.838789 150.41801 \nL 267.740887 148.924374 \nL 271.642985 150.642057 \nL 275.545083 149.521831 \nL 279.447181 148.999051 \nL 283.349279 150.268648 \nL 287.251377 151.239513 \nL 291.153475 152.061008 \nL 295.055573 150.791419 \nL 298.95767 148.700327 \nL 302.859768 150.791419 \nL 306.761866 147.953509 \nL 310.663964 146.086465 \nL 314.566062 146.982644 \nL 318.46816 147.953509 \nL 322.370258 146.310512 \nL 326.272356 147.356053 \nL 330.174454 149.073736 \nL 334.076552 148.999051 \nL 337.978649 146.235827 \nL 341.880747 146.161141 \nL 345.782845 145.713056 \nL 349.684943 145.414323 \n\" style=\"fill:none;stroke:#ffa500;stroke-linecap:square;stroke-width:1.5;\"/>\n   </g>\n   <g id=\"patch_8\">\n    <path d=\"M 30.103125 239.758125 \nL 30.103125 140.921761 \n\" style=\"fill:none;stroke:#000000;stroke-linecap:square;stroke-linejoin:miter;stroke-width:0.8;\"/>\n   </g>\n   <g id=\"patch_9\">\n    <path d=\"M 364.903125 239.758125 \nL 364.903125 140.921761 \n\" style=\"fill:none;stroke:#000000;stroke-linecap:square;stroke-linejoin:miter;stroke-width:0.8;\"/>\n   </g>\n   <g id=\"patch_10\">\n    <path d=\"M 30.103125 239.758125 \nL 364.903125 239.758125 \n\" style=\"fill:none;stroke:#000000;stroke-linecap:square;stroke-linejoin:miter;stroke-width:0.8;\"/>\n   </g>\n   <g id=\"patch_11\">\n    <path d=\"M 30.103125 140.921761 \nL 364.903125 140.921761 \n\" style=\"fill:none;stroke:#000000;stroke-linecap:square;stroke-linejoin:miter;stroke-width:0.8;\"/>\n   </g>\n   <g id=\"text_26\">\n    <!-- Classification Accuracy -->\n    <defs>\n     <path d=\"M 9.421875 75.984375 \nL 18.40625 75.984375 \nL 18.40625 0 \nL 9.421875 0 \nz\n\" id=\"DejaVuSans-108\"/>\n     <path d=\"M 34.28125 27.484375 \nQ 23.390625 27.484375 19.1875 25 \nQ 14.984375 22.515625 14.984375 16.5 \nQ 14.984375 11.71875 18.140625 8.90625 \nQ 21.296875 6.109375 26.703125 6.109375 \nQ 34.1875 6.109375 38.703125 11.40625 \nQ 43.21875 16.703125 43.21875 25.484375 \nL 43.21875 27.484375 \nz\nM 52.203125 31.203125 \nL 52.203125 0 \nL 43.21875 0 \nL 43.21875 8.296875 \nQ 40.140625 3.328125 35.546875 0.953125 \nQ 30.953125 -1.421875 24.3125 -1.421875 \nQ 15.921875 -1.421875 10.953125 3.296875 \nQ 6 8.015625 6 15.921875 \nQ 6 25.140625 12.171875 29.828125 \nQ 18.359375 34.515625 30.609375 34.515625 \nL 43.21875 34.515625 \nL 43.21875 35.40625 \nQ 43.21875 41.609375 39.140625 45 \nQ 35.0625 48.390625 27.6875 48.390625 \nQ 23 48.390625 18.546875 47.265625 \nQ 14.109375 46.140625 10.015625 43.890625 \nL 10.015625 52.203125 \nQ 14.9375 54.109375 19.578125 55.046875 \nQ 24.21875 56 28.609375 56 \nQ 40.484375 56 46.34375 49.84375 \nQ 52.203125 43.703125 52.203125 31.203125 \nz\n\" id=\"DejaVuSans-97\"/>\n     <path d=\"M 9.421875 54.6875 \nL 18.40625 54.6875 \nL 18.40625 0 \nL 9.421875 0 \nz\nM 9.421875 75.984375 \nL 18.40625 75.984375 \nL 18.40625 64.59375 \nL 9.421875 64.59375 \nz\n\" id=\"DejaVuSans-105\"/>\n     <path d=\"M 37.109375 75.984375 \nL 37.109375 68.5 \nL 28.515625 68.5 \nQ 23.6875 68.5 21.796875 66.546875 \nQ 19.921875 64.59375 19.921875 59.515625 \nL 19.921875 54.6875 \nL 34.71875 54.6875 \nL 34.71875 47.703125 \nL 19.921875 47.703125 \nL 19.921875 0 \nL 10.890625 0 \nL 10.890625 47.703125 \nL 2.296875 47.703125 \nL 2.296875 54.6875 \nL 10.890625 54.6875 \nL 10.890625 58.5 \nQ 10.890625 67.625 15.140625 71.796875 \nQ 19.390625 75.984375 28.609375 75.984375 \nz\n\" id=\"DejaVuSans-102\"/>\n     <path d=\"M 48.78125 52.59375 \nL 48.78125 44.1875 \nQ 44.96875 46.296875 41.140625 47.34375 \nQ 37.3125 48.390625 33.40625 48.390625 \nQ 24.65625 48.390625 19.8125 42.84375 \nQ 14.984375 37.3125 14.984375 27.296875 \nQ 14.984375 17.28125 19.8125 11.734375 \nQ 24.65625 6.203125 33.40625 6.203125 \nQ 37.3125 6.203125 41.140625 7.25 \nQ 44.96875 8.296875 48.78125 10.40625 \nL 48.78125 2.09375 \nQ 45.015625 0.34375 40.984375 -0.53125 \nQ 36.96875 -1.421875 32.421875 -1.421875 \nQ 20.0625 -1.421875 12.78125 6.34375 \nQ 5.515625 14.109375 5.515625 27.296875 \nQ 5.515625 40.671875 12.859375 48.328125 \nQ 20.21875 56 33.015625 56 \nQ 37.15625 56 41.109375 55.140625 \nQ 45.0625 54.296875 48.78125 52.59375 \nz\n\" id=\"DejaVuSans-99\"/>\n     <path d=\"M 34.1875 63.1875 \nL 20.796875 26.90625 \nL 47.609375 26.90625 \nz\nM 28.609375 72.90625 \nL 39.796875 72.90625 \nL 67.578125 0 \nL 57.328125 0 \nL 50.6875 18.703125 \nL 17.828125 18.703125 \nL 11.1875 0 \nL 0.78125 0 \nz\n\" id=\"DejaVuSans-65\"/>\n     <path d=\"M 8.5 21.578125 \nL 8.5 54.6875 \nL 17.484375 54.6875 \nL 17.484375 21.921875 \nQ 17.484375 14.15625 20.5 10.265625 \nQ 23.53125 6.390625 29.59375 6.390625 \nQ 36.859375 6.390625 41.078125 11.03125 \nQ 45.3125 15.671875 45.3125 23.6875 \nL 45.3125 54.6875 \nL 54.296875 54.6875 \nL 54.296875 0 \nL 45.3125 0 \nL 45.3125 8.40625 \nQ 42.046875 3.421875 37.71875 1 \nQ 33.40625 -1.421875 27.6875 -1.421875 \nQ 18.265625 -1.421875 13.375 4.4375 \nQ 8.5 10.296875 8.5 21.578125 \nz\nM 31.109375 56 \nz\n\" id=\"DejaVuSans-117\"/>\n    </defs>\n    <g transform=\"translate(128.503125 134.921761)scale(0.12 -0.12)\">\n     <use xlink:href=\"#DejaVuSans-67\"/>\n     <use x=\"69.824219\" xlink:href=\"#DejaVuSans-108\"/>\n     <use x=\"97.607422\" xlink:href=\"#DejaVuSans-97\"/>\n     <use x=\"158.886719\" xlink:href=\"#DejaVuSans-115\"/>\n     <use x=\"210.986328\" xlink:href=\"#DejaVuSans-115\"/>\n     <use x=\"263.085938\" xlink:href=\"#DejaVuSans-105\"/>\n     <use x=\"290.869141\" xlink:href=\"#DejaVuSans-102\"/>\n     <use x=\"326.074219\" xlink:href=\"#DejaVuSans-105\"/>\n     <use x=\"353.857422\" xlink:href=\"#DejaVuSans-99\"/>\n     <use x=\"408.837891\" xlink:href=\"#DejaVuSans-97\"/>\n     <use x=\"470.117188\" xlink:href=\"#DejaVuSans-116\"/>\n     <use x=\"509.326172\" xlink:href=\"#DejaVuSans-105\"/>\n     <use x=\"537.109375\" xlink:href=\"#DejaVuSans-111\"/>\n     <use x=\"598.291016\" xlink:href=\"#DejaVuSans-110\"/>\n     <use x=\"661.669922\" xlink:href=\"#DejaVuSans-32\"/>\n     <use x=\"693.457031\" xlink:href=\"#DejaVuSans-65\"/>\n     <use x=\"760.115234\" xlink:href=\"#DejaVuSans-99\"/>\n     <use x=\"815.095703\" xlink:href=\"#DejaVuSans-99\"/>\n     <use x=\"870.076172\" xlink:href=\"#DejaVuSans-117\"/>\n     <use x=\"933.455078\" xlink:href=\"#DejaVuSans-114\"/>\n     <use x=\"974.568359\" xlink:href=\"#DejaVuSans-97\"/>\n     <use x=\"1035.847656\" xlink:href=\"#DejaVuSans-99\"/>\n     <use x=\"1090.828125\" xlink:href=\"#DejaVuSans-121\"/>\n    </g>\n   </g>\n  </g>\n </g>\n <defs>\n  <clipPath id=\"p935fb9eea8\">\n   <rect height=\"98.836364\" width=\"334.8\" x=\"30.103125\" y=\"22.318125\"/>\n  </clipPath>\n  <clipPath id=\"p6090143ac4\">\n   <rect height=\"98.836364\" width=\"334.8\" x=\"30.103125\" y=\"140.921761\"/>\n  </clipPath>\n </defs>\n</svg>\n",
      "image/png": "[encoded data removed]"
     },
     "metadata": {
      "needs_background": "light"
     }
    }
   ],
   "source": [
    "summarize_diagnostics(history_swish)"
   ]
  },
  {
   "cell_type": "code",
   "execution_count": null,
   "metadata": {},
   "outputs": [],
   "source": [
    "summarize_diagnostics(history_kaf_swish)"
   ]
  },
  {
   "cell_type": "code",
   "execution_count": null,
   "metadata": {},
   "outputs": [],
   "source": [
    "# Evaluation\n",
    "rob_swish_cnn.evaluate(x_test, y_test, batch_size=128)"
   ]
  },
  {
   "cell_type": "code",
   "execution_count": null,
   "metadata": {},
   "outputs": [],
   "source": [
    "rob_kaf_swish_cnn.evaluate(x_test, y_test, batch_size=128)"
   ]
  },
  {
   "cell_type": "code",
   "execution_count": 16,
   "metadata": {
    "tags": []
   },
   "outputs": [
    {
     "output_type": "stream",
     "name": "stdout",
     "text": "WARNING:tensorflow:From /usr/local/lib/python3.6/dist-packages/tensorflow/python/keras/backend.py:467: set_learning_phase (from tensorflow.python.keras.backend) is deprecated and will be removed after 2020-10-11.\nInstructions for updating:\nSimply pass a True/False value to the `training` argument of the `__call__` method of your layer or model.\nINFO:tensorflow:Assets written to: light_custom_models/elu_cnn_robust_fbf/assets\n"
    }
   ],
   "source": [
    "# Save models \n",
    "rob_swish_cnn.save('light_custom_models/swish_cnn_robust_fbf') \n",
    "rob_kaf_swish_cnn.save('light_custom_models/kaf_swish_cnn_robust_fbf') "
   ]
  }
 ],
 "metadata": {
  "language_info": {
   "codemirror_mode": {
    "name": "ipython",
    "version": 3
   },
   "file_extension": ".py",
   "mimetype": "text/x-python",
   "name": "python",
   "nbconvert_exporter": "python",
   "pygments_lexer": "ipython3",
   "version": "3.6.9-final"
  },
  "orig_nbformat": 2,
  "kernelspec": {
   "name": "python36964bit284adada2cf44bfd9c4869f6ab01f8bd",
   "display_name": "Python 3.6.9 64-bit"
  }
 },
 "nbformat": 4,
 "nbformat_minor": 2
}